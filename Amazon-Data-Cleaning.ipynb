{
 "cells": [
  {
   "cell_type": "code",
   "execution_count": 3,
   "id": "65e1f071",
   "metadata": {
    "ExecuteTime": {
     "end_time": "2023-12-28T04:31:09.402835Z",
     "start_time": "2023-12-28T04:31:09.390753Z"
    }
   },
   "outputs": [],
   "source": [
    "import pandas as pd"
   ]
  },
  {
   "cell_type": "code",
   "execution_count": 4,
   "id": "f0a4ffb0",
   "metadata": {
    "ExecuteTime": {
     "end_time": "2023-12-28T04:31:09.583623Z",
     "start_time": "2023-12-28T04:31:09.408520Z"
    }
   },
   "outputs": [
    {
     "data": {
      "text/plain": "      product_id                                       product_name  \\\n0     B07JW9H4J1  Wayona Nylon Braided USB to Lightning Fast Cha...   \n1     B098NS6PVG  Ambrane Unbreakable 60W / 3A Fast Charging 1.5...   \n2     B096MSW6CT  Sounce Fast Phone Charging Cable & Data Sync U...   \n3     B08HDJ86NZ  boAt Deuce USB 300 2 in 1 Type-C & Micro USB S...   \n4     B08CF3B7N1  Portronics Konnect L 1.2M Fast Charging 3A 8 P...   \n...          ...                                                ...   \n1460  B08L7J3T31  Noir Aqua - 5pcs PP Spun Filter + 1 Spanner | ...   \n1461  B01M6453MB  Prestige Delight PRWO Electric Rice Cooker (1 ...   \n1462  B009P2LIL4  Bajaj Majesty RX10 2000 Watts Heat Convector R...   \n1463  B00J5DYCCA  Havells Ventil Air DSP 230mm Exhaust Fan (Pist...   \n1464  B01486F4G6  Borosil Jumbo 1000-Watt Grill Sandwich Maker (...   \n\n                                               category discounted_price  \\\n0     Computers&Accessories|Accessories&Peripherals|...             ₹399   \n1     Computers&Accessories|Accessories&Peripherals|...             ₹199   \n2     Computers&Accessories|Accessories&Peripherals|...             ₹199   \n3     Computers&Accessories|Accessories&Peripherals|...             ₹329   \n4     Computers&Accessories|Accessories&Peripherals|...             ₹154   \n...                                                 ...              ...   \n1460  Home&Kitchen|Kitchen&HomeAppliances|WaterPurif...             ₹379   \n1461  Home&Kitchen|Kitchen&HomeAppliances|SmallKitch...           ₹2,280   \n1462  Home&Kitchen|Heating,Cooling&AirQuality|RoomHe...           ₹2,219   \n1463  Home&Kitchen|Heating,Cooling&AirQuality|Fans|E...           ₹1,399   \n1464  Home&Kitchen|Kitchen&HomeAppliances|SmallKitch...           ₹2,863   \n\n     actual_price discount_percentage rating rating_count  \\\n0          ₹1,099                 64%    4.2       24,269   \n1            ₹349                 43%    4.0       43,994   \n2          ₹1,899                 90%    3.9        7,928   \n3            ₹699                 53%    4.2       94,363   \n4            ₹399                 61%    4.2       16,905   \n...           ...                 ...    ...          ...   \n1460         ₹919                 59%      4        1,090   \n1461       ₹3,045                 25%    4.1        4,118   \n1462       ₹3,080                 28%    3.6          468   \n1463       ₹1,890                 26%      4        8,031   \n1464       ₹3,690                 22%    4.3        6,987   \n\n                                          about_product  \\\n0     High Compatibility : Compatible With iPhone 12...   \n1     Compatible with all Type C enabled devices, be...   \n2     【 Fast Charger& Data Sync】-With built-in safet...   \n3     The boAt Deuce USB 300 2 in 1 cable is compati...   \n4     [CHARGE & SYNC FUNCTION]- This cable comes wit...   \n...                                                 ...   \n1460  SUPREME QUALITY 90 GRAM 3 LAYER THIK PP SPUN F...   \n1461                       230 Volts, 400 watts, 1 Year   \n1462  International design and styling|Two heat sett...   \n1463  Fan sweep area: 230 MM ; Noise level: (40 - 45...   \n1464  Brand-Borosil, Specification â€“ 23V ~ 5Hz;1 W...   \n\n                                                user_id  \\\n0     AG3D6O4STAQKAY2UVGEUV46KN35Q,AHMY5CWJMMK5BJRBB...   \n1     AECPFYFQVRUWC3KGNLJIOREFP5LQ,AGYYVPDD7YG7FYNBX...   \n2     AGU3BBQ2V2DDAMOAKGFAWDDQ6QHA,AESFLDV2PT363T2AQ...   \n3     AEWAZDZZJLQUYVOVGBEUKSLXHQ5A,AG5HTSFRRE6NL3M5S...   \n4     AE3Q6KSUK5P75D5HFYHCRAOLODSA,AFUGIFH5ZAFXRDSZH...   \n...                                                 ...   \n1460  AHITFY6AHALOFOHOZEOC6XBP4FEA,AFRABBODZJZQB6Z4U...   \n1461  AFG5FM3NEMOL6BNFRV2NK5FNJCHQ,AGEINTRN6Z563RMLH...   \n1462  AGVPWCMAHYQWJOQKMUJN4DW3KM5Q,AF4Q3E66MY4SR7YQZ...   \n1463  AF2JQCLSCY3QJATWUNNHUSVUPNQQ,AFDMLUXC5LS5RXDJS...   \n1464  AFGW5PT3R6ZAVQR4Y5MWVAKBZAYA,AG7QNJ2SCS5VS5VYY...   \n\n                                              user_name  \\\n0     Manav,Adarsh gupta,Sundeep,S.Sayeed Ahmed,jasp...   \n1     ArdKn,Nirbhay kumar,Sagar Viswanathan,Asp,Plac...   \n2     Kunal,Himanshu,viswanath,sai niharka,saqib mal...   \n3     Omkar dhale,JD,HEMALATHA,Ajwadh a.,amar singh ...   \n4     rahuls6099,Swasat Borah,Ajay Wadke,Pranali,RVK...   \n...                                                 ...   \n1460  Prabha ds,Raghuram bk,Real Deal,Amazon Custome...   \n1461  Manu Bhai,Naveenpittu,Evatira Sangma,JAGANNADH...   \n1462  Nehal Desai,Danish Parwez,Amazon Customer,Amaz...   \n1463  Shubham Dubey,E.GURUBARAN,Mayank S.,eusuf khan...   \n1464  Rajib,Ajay B,Vikas Kahol,PARDEEP,Anindya Prama...   \n\n                                              review_id  \\\n0     R3HXWT0LRP0NMF,R2AJM3LFTLZHFO,R6AQJGUP6P86,R1K...   \n1     RGIQEG07R9HS2,R1SMWZQ86XIN8U,R2J3Y1WL29GWDE,RY...   \n2     R3J3EQQ9TZI5ZJ,R3E7WBGK7ID0KV,RWU79XKQ6I1QF,R2...   \n3     R3EEUZKKK9J36I,R3HJVYCLYOY554,REDECAZ7AMPQC,R1...   \n4     R1BP4L2HH9TFUP,R16PVJEXKV6QZS,R2UPDB81N66T4P,R...   \n...                                                 ...   \n1460  R3G3XFHPBFF0E8,R3C0BZCD32EIGW,R2EBVBCN9QPD9R,R...   \n1461  R3DDL2UPKQ2CK9,R2SYYU1OATVIU5,R1VM993161IYRW,R...   \n1462  R1TLRJVW4STY5I,R2O455KRN493R1,R3Q5MVGBRIAS2G,R...   \n1463  R39Q2Y79MM9SWK,R3079BG1NIH6MB,R29A31ZELTZNJM,R...   \n1464  R20RBRZ0WEUJT9,ROKIFK9R2ISSE,R30EEG2FNJSN5I,R2...   \n\n                                           review_title  \\\n0     Satisfied,Charging is really fast,Value for mo...   \n1     A Good Braided Cable for Your Type C Device,Go...   \n2     Good speed for earlier versions,Good Product,W...   \n3     Good product,Good one,Nice,Really nice product...   \n4     As good as original,Decent,Good one for second...   \n...                                                 ...   \n1460  Received the product without spanner,Excellent...   \n1461  ok,everything was good couldn't return bcoz I ...   \n1462  very good,Work but front melt after 2 month,Go...   \n1463  Fan Speed is slow,Good quality,Good product,go...   \n1464  Works perfect,Ok good product,Nice Product. Re...   \n\n                                         review_content  \\\n0     Looks durable Charging is fine tooNo complains...   \n1     I ordered this cable to connect my phone to An...   \n2     Not quite durable and sturdy,https://m.media-a...   \n3     Good product,long wire,Charges good,Nice,I bou...   \n4     Bought this instead of original apple, does th...   \n...                                                 ...   \n1460  I received product without spanner,Excellent p...   \n1461  ok,got everything as mentioned but the measuri...   \n1462  plastic but cool body ,u have to find sturdy s...   \n1463  I have installed this in my kitchen working fi...   \n1464  It does it job perfectly..only issue is temp c...   \n\n                                               img_link  \\\n0     https://m.media-amazon.com/images/W/WEBP_40237...   \n1     https://m.media-amazon.com/images/W/WEBP_40237...   \n2     https://m.media-amazon.com/images/W/WEBP_40237...   \n3     https://m.media-amazon.com/images/I/41V5FtEWPk...   \n4     https://m.media-amazon.com/images/W/WEBP_40237...   \n...                                                 ...   \n1460  https://m.media-amazon.com/images/I/41fDdRtjfx...   \n1461  https://m.media-amazon.com/images/I/41gzDxk4+k...   \n1462  https://m.media-amazon.com/images/W/WEBP_40237...   \n1463  https://m.media-amazon.com/images/W/WEBP_40237...   \n1464  https://m.media-amazon.com/images/W/WEBP_40237...   \n\n                                           product_link  \n0     https://www.amazon.in/Wayona-Braided-WN3LG1-Sy...  \n1     https://www.amazon.in/Ambrane-Unbreakable-Char...  \n2     https://www.amazon.in/Sounce-iPhone-Charging-C...  \n3     https://www.amazon.in/Deuce-300-Resistant-Tang...  \n4     https://www.amazon.in/Portronics-Konnect-POR-1...  \n...                                                 ...  \n1460  https://www.amazon.in/Noir-Aqua-Spanner-Purifi...  \n1461  https://www.amazon.in/Prestige-Delight-PRWO-1-...  \n1462  https://www.amazon.in/Bajaj-RX-10-2000-Watt-Co...  \n1463  https://www.amazon.in/Havells-Ventilair-230mm-...  \n1464  https://www.amazon.in/Borosil-Jumbo-1000-Watt-...  \n\n[1465 rows x 16 columns]",
      "text/html": "<div>\n<style scoped>\n    .dataframe tbody tr th:only-of-type {\n        vertical-align: middle;\n    }\n\n    .dataframe tbody tr th {\n        vertical-align: top;\n    }\n\n    .dataframe thead th {\n        text-align: right;\n    }\n</style>\n<table border=\"1\" class=\"dataframe\">\n  <thead>\n    <tr style=\"text-align: right;\">\n      <th></th>\n      <th>product_id</th>\n      <th>product_name</th>\n      <th>category</th>\n      <th>discounted_price</th>\n      <th>actual_price</th>\n      <th>discount_percentage</th>\n      <th>rating</th>\n      <th>rating_count</th>\n      <th>about_product</th>\n      <th>user_id</th>\n      <th>user_name</th>\n      <th>review_id</th>\n      <th>review_title</th>\n      <th>review_content</th>\n      <th>img_link</th>\n      <th>product_link</th>\n    </tr>\n  </thead>\n  <tbody>\n    <tr>\n      <th>0</th>\n      <td>B07JW9H4J1</td>\n      <td>Wayona Nylon Braided USB to Lightning Fast Cha...</td>\n      <td>Computers&amp;Accessories|Accessories&amp;Peripherals|...</td>\n      <td>₹399</td>\n      <td>₹1,099</td>\n      <td>64%</td>\n      <td>4.2</td>\n      <td>24,269</td>\n      <td>High Compatibility : Compatible With iPhone 12...</td>\n      <td>AG3D6O4STAQKAY2UVGEUV46KN35Q,AHMY5CWJMMK5BJRBB...</td>\n      <td>Manav,Adarsh gupta,Sundeep,S.Sayeed Ahmed,jasp...</td>\n      <td>R3HXWT0LRP0NMF,R2AJM3LFTLZHFO,R6AQJGUP6P86,R1K...</td>\n      <td>Satisfied,Charging is really fast,Value for mo...</td>\n      <td>Looks durable Charging is fine tooNo complains...</td>\n      <td>https://m.media-amazon.com/images/W/WEBP_40237...</td>\n      <td>https://www.amazon.in/Wayona-Braided-WN3LG1-Sy...</td>\n    </tr>\n    <tr>\n      <th>1</th>\n      <td>B098NS6PVG</td>\n      <td>Ambrane Unbreakable 60W / 3A Fast Charging 1.5...</td>\n      <td>Computers&amp;Accessories|Accessories&amp;Peripherals|...</td>\n      <td>₹199</td>\n      <td>₹349</td>\n      <td>43%</td>\n      <td>4.0</td>\n      <td>43,994</td>\n      <td>Compatible with all Type C enabled devices, be...</td>\n      <td>AECPFYFQVRUWC3KGNLJIOREFP5LQ,AGYYVPDD7YG7FYNBX...</td>\n      <td>ArdKn,Nirbhay kumar,Sagar Viswanathan,Asp,Plac...</td>\n      <td>RGIQEG07R9HS2,R1SMWZQ86XIN8U,R2J3Y1WL29GWDE,RY...</td>\n      <td>A Good Braided Cable for Your Type C Device,Go...</td>\n      <td>I ordered this cable to connect my phone to An...</td>\n      <td>https://m.media-amazon.com/images/W/WEBP_40237...</td>\n      <td>https://www.amazon.in/Ambrane-Unbreakable-Char...</td>\n    </tr>\n    <tr>\n      <th>2</th>\n      <td>B096MSW6CT</td>\n      <td>Sounce Fast Phone Charging Cable &amp; Data Sync U...</td>\n      <td>Computers&amp;Accessories|Accessories&amp;Peripherals|...</td>\n      <td>₹199</td>\n      <td>₹1,899</td>\n      <td>90%</td>\n      <td>3.9</td>\n      <td>7,928</td>\n      <td>【 Fast Charger&amp; Data Sync】-With built-in safet...</td>\n      <td>AGU3BBQ2V2DDAMOAKGFAWDDQ6QHA,AESFLDV2PT363T2AQ...</td>\n      <td>Kunal,Himanshu,viswanath,sai niharka,saqib mal...</td>\n      <td>R3J3EQQ9TZI5ZJ,R3E7WBGK7ID0KV,RWU79XKQ6I1QF,R2...</td>\n      <td>Good speed for earlier versions,Good Product,W...</td>\n      <td>Not quite durable and sturdy,https://m.media-a...</td>\n      <td>https://m.media-amazon.com/images/W/WEBP_40237...</td>\n      <td>https://www.amazon.in/Sounce-iPhone-Charging-C...</td>\n    </tr>\n    <tr>\n      <th>3</th>\n      <td>B08HDJ86NZ</td>\n      <td>boAt Deuce USB 300 2 in 1 Type-C &amp; Micro USB S...</td>\n      <td>Computers&amp;Accessories|Accessories&amp;Peripherals|...</td>\n      <td>₹329</td>\n      <td>₹699</td>\n      <td>53%</td>\n      <td>4.2</td>\n      <td>94,363</td>\n      <td>The boAt Deuce USB 300 2 in 1 cable is compati...</td>\n      <td>AEWAZDZZJLQUYVOVGBEUKSLXHQ5A,AG5HTSFRRE6NL3M5S...</td>\n      <td>Omkar dhale,JD,HEMALATHA,Ajwadh a.,amar singh ...</td>\n      <td>R3EEUZKKK9J36I,R3HJVYCLYOY554,REDECAZ7AMPQC,R1...</td>\n      <td>Good product,Good one,Nice,Really nice product...</td>\n      <td>Good product,long wire,Charges good,Nice,I bou...</td>\n      <td>https://m.media-amazon.com/images/I/41V5FtEWPk...</td>\n      <td>https://www.amazon.in/Deuce-300-Resistant-Tang...</td>\n    </tr>\n    <tr>\n      <th>4</th>\n      <td>B08CF3B7N1</td>\n      <td>Portronics Konnect L 1.2M Fast Charging 3A 8 P...</td>\n      <td>Computers&amp;Accessories|Accessories&amp;Peripherals|...</td>\n      <td>₹154</td>\n      <td>₹399</td>\n      <td>61%</td>\n      <td>4.2</td>\n      <td>16,905</td>\n      <td>[CHARGE &amp; SYNC FUNCTION]- This cable comes wit...</td>\n      <td>AE3Q6KSUK5P75D5HFYHCRAOLODSA,AFUGIFH5ZAFXRDSZH...</td>\n      <td>rahuls6099,Swasat Borah,Ajay Wadke,Pranali,RVK...</td>\n      <td>R1BP4L2HH9TFUP,R16PVJEXKV6QZS,R2UPDB81N66T4P,R...</td>\n      <td>As good as original,Decent,Good one for second...</td>\n      <td>Bought this instead of original apple, does th...</td>\n      <td>https://m.media-amazon.com/images/W/WEBP_40237...</td>\n      <td>https://www.amazon.in/Portronics-Konnect-POR-1...</td>\n    </tr>\n    <tr>\n      <th>...</th>\n      <td>...</td>\n      <td>...</td>\n      <td>...</td>\n      <td>...</td>\n      <td>...</td>\n      <td>...</td>\n      <td>...</td>\n      <td>...</td>\n      <td>...</td>\n      <td>...</td>\n      <td>...</td>\n      <td>...</td>\n      <td>...</td>\n      <td>...</td>\n      <td>...</td>\n      <td>...</td>\n    </tr>\n    <tr>\n      <th>1460</th>\n      <td>B08L7J3T31</td>\n      <td>Noir Aqua - 5pcs PP Spun Filter + 1 Spanner | ...</td>\n      <td>Home&amp;Kitchen|Kitchen&amp;HomeAppliances|WaterPurif...</td>\n      <td>₹379</td>\n      <td>₹919</td>\n      <td>59%</td>\n      <td>4</td>\n      <td>1,090</td>\n      <td>SUPREME QUALITY 90 GRAM 3 LAYER THIK PP SPUN F...</td>\n      <td>AHITFY6AHALOFOHOZEOC6XBP4FEA,AFRABBODZJZQB6Z4U...</td>\n      <td>Prabha ds,Raghuram bk,Real Deal,Amazon Custome...</td>\n      <td>R3G3XFHPBFF0E8,R3C0BZCD32EIGW,R2EBVBCN9QPD9R,R...</td>\n      <td>Received the product without spanner,Excellent...</td>\n      <td>I received product without spanner,Excellent p...</td>\n      <td>https://m.media-amazon.com/images/I/41fDdRtjfx...</td>\n      <td>https://www.amazon.in/Noir-Aqua-Spanner-Purifi...</td>\n    </tr>\n    <tr>\n      <th>1461</th>\n      <td>B01M6453MB</td>\n      <td>Prestige Delight PRWO Electric Rice Cooker (1 ...</td>\n      <td>Home&amp;Kitchen|Kitchen&amp;HomeAppliances|SmallKitch...</td>\n      <td>₹2,280</td>\n      <td>₹3,045</td>\n      <td>25%</td>\n      <td>4.1</td>\n      <td>4,118</td>\n      <td>230 Volts, 400 watts, 1 Year</td>\n      <td>AFG5FM3NEMOL6BNFRV2NK5FNJCHQ,AGEINTRN6Z563RMLH...</td>\n      <td>Manu Bhai,Naveenpittu,Evatira Sangma,JAGANNADH...</td>\n      <td>R3DDL2UPKQ2CK9,R2SYYU1OATVIU5,R1VM993161IYRW,R...</td>\n      <td>ok,everything was good couldn't return bcoz I ...</td>\n      <td>ok,got everything as mentioned but the measuri...</td>\n      <td>https://m.media-amazon.com/images/I/41gzDxk4+k...</td>\n      <td>https://www.amazon.in/Prestige-Delight-PRWO-1-...</td>\n    </tr>\n    <tr>\n      <th>1462</th>\n      <td>B009P2LIL4</td>\n      <td>Bajaj Majesty RX10 2000 Watts Heat Convector R...</td>\n      <td>Home&amp;Kitchen|Heating,Cooling&amp;AirQuality|RoomHe...</td>\n      <td>₹2,219</td>\n      <td>₹3,080</td>\n      <td>28%</td>\n      <td>3.6</td>\n      <td>468</td>\n      <td>International design and styling|Two heat sett...</td>\n      <td>AGVPWCMAHYQWJOQKMUJN4DW3KM5Q,AF4Q3E66MY4SR7YQZ...</td>\n      <td>Nehal Desai,Danish Parwez,Amazon Customer,Amaz...</td>\n      <td>R1TLRJVW4STY5I,R2O455KRN493R1,R3Q5MVGBRIAS2G,R...</td>\n      <td>very good,Work but front melt after 2 month,Go...</td>\n      <td>plastic but cool body ,u have to find sturdy s...</td>\n      <td>https://m.media-amazon.com/images/W/WEBP_40237...</td>\n      <td>https://www.amazon.in/Bajaj-RX-10-2000-Watt-Co...</td>\n    </tr>\n    <tr>\n      <th>1463</th>\n      <td>B00J5DYCCA</td>\n      <td>Havells Ventil Air DSP 230mm Exhaust Fan (Pist...</td>\n      <td>Home&amp;Kitchen|Heating,Cooling&amp;AirQuality|Fans|E...</td>\n      <td>₹1,399</td>\n      <td>₹1,890</td>\n      <td>26%</td>\n      <td>4</td>\n      <td>8,031</td>\n      <td>Fan sweep area: 230 MM ; Noise level: (40 - 45...</td>\n      <td>AF2JQCLSCY3QJATWUNNHUSVUPNQQ,AFDMLUXC5LS5RXDJS...</td>\n      <td>Shubham Dubey,E.GURUBARAN,Mayank S.,eusuf khan...</td>\n      <td>R39Q2Y79MM9SWK,R3079BG1NIH6MB,R29A31ZELTZNJM,R...</td>\n      <td>Fan Speed is slow,Good quality,Good product,go...</td>\n      <td>I have installed this in my kitchen working fi...</td>\n      <td>https://m.media-amazon.com/images/W/WEBP_40237...</td>\n      <td>https://www.amazon.in/Havells-Ventilair-230mm-...</td>\n    </tr>\n    <tr>\n      <th>1464</th>\n      <td>B01486F4G6</td>\n      <td>Borosil Jumbo 1000-Watt Grill Sandwich Maker (...</td>\n      <td>Home&amp;Kitchen|Kitchen&amp;HomeAppliances|SmallKitch...</td>\n      <td>₹2,863</td>\n      <td>₹3,690</td>\n      <td>22%</td>\n      <td>4.3</td>\n      <td>6,987</td>\n      <td>Brand-Borosil, Specification â€“ 23V ~ 5Hz;1 W...</td>\n      <td>AFGW5PT3R6ZAVQR4Y5MWVAKBZAYA,AG7QNJ2SCS5VS5VYY...</td>\n      <td>Rajib,Ajay B,Vikas Kahol,PARDEEP,Anindya Prama...</td>\n      <td>R20RBRZ0WEUJT9,ROKIFK9R2ISSE,R30EEG2FNJSN5I,R2...</td>\n      <td>Works perfect,Ok good product,Nice Product. Re...</td>\n      <td>It does it job perfectly..only issue is temp c...</td>\n      <td>https://m.media-amazon.com/images/W/WEBP_40237...</td>\n      <td>https://www.amazon.in/Borosil-Jumbo-1000-Watt-...</td>\n    </tr>\n  </tbody>\n</table>\n<p>1465 rows × 16 columns</p>\n</div>"
     },
     "execution_count": 4,
     "metadata": {},
     "output_type": "execute_result"
    }
   ],
   "source": [
    "df = pd.read_csv(r'./amazon.csv')\n",
    "df"
   ]
  },
  {
   "cell_type": "code",
   "execution_count": 5,
   "id": "12f52f0e",
   "metadata": {
    "ExecuteTime": {
     "end_time": "2023-12-28T04:31:09.627704Z",
     "start_time": "2023-12-28T04:31:09.592373Z"
    }
   },
   "outputs": [
    {
     "data": {
      "text/plain": "0        4.79\n1        2.39\n2        2.39\n3        3.95\n4        1.85\n        ...  \n1460     4.55\n1461    27.36\n1462    26.63\n1463    16.79\n1464    34.36\nName: discounted_price, Length: 1465, dtype: float64"
     },
     "execution_count": 5,
     "metadata": {},
     "output_type": "execute_result"
    }
   ],
   "source": [
    "# Convert INR to USD for discounted_price column as type float, rounded to the 2nd decimal\n",
    "df.discounted_price = df.discounted_price.replace(\"[₹,]\", \"\", regex=True).astype(float)\n",
    "df.discounted_price = (df.discounted_price *  .012).round(2)\n",
    "df.discounted_price"
   ]
  },
  {
   "cell_type": "code",
   "execution_count": 6,
   "id": "27de983e",
   "metadata": {
    "ExecuteTime": {
     "end_time": "2023-12-28T04:31:09.680419Z",
     "start_time": "2023-12-28T04:31:09.615277Z"
    }
   },
   "outputs": [
    {
     "data": {
      "text/plain": "0       13.19\n1        4.19\n2       22.79\n3        8.39\n4        4.79\n        ...  \n1460    11.03\n1461    36.54\n1462    36.96\n1463    22.68\n1464    44.28\nName: actual_price, Length: 1465, dtype: float64"
     },
     "execution_count": 6,
     "metadata": {},
     "output_type": "execute_result"
    }
   ],
   "source": [
    "# Convert INR to USD for actual_price column as type float, rounded to the 2nd decimal\n",
    "df.actual_price = df.actual_price.replace(\"[₹,]\", \"\", regex=True).astype(float)\n",
    "df.actual_price = (df.actual_price * .012).round(2)\n",
    "df.actual_price"
   ]
  },
  {
   "cell_type": "code",
   "execution_count": 7,
   "id": "3e615b12",
   "metadata": {
    "ExecuteTime": {
     "end_time": "2023-12-28T04:31:09.730230Z",
     "start_time": "2023-12-28T04:31:09.636784Z"
    }
   },
   "outputs": [
    {
     "data": {
      "text/plain": "0       0.64\n1       0.43\n2       0.90\n3       0.53\n4       0.61\n        ... \n1460    0.59\n1461    0.25\n1462    0.28\n1463    0.26\n1464    0.22\nName: discount_percentage, Length: 1465, dtype: float64"
     },
     "execution_count": 7,
     "metadata": {},
     "output_type": "execute_result"
    }
   ],
   "source": [
    "# Removing the trailing '%' of discount_percentage and convert to type float\n",
    "df.discount_percentage = df.discount_percentage.str.strip('%').astype('float') / 100\n",
    "df.discount_percentage"
   ]
  },
  {
   "cell_type": "code",
   "execution_count": 8,
   "id": "b6f4476d",
   "metadata": {
    "ExecuteTime": {
     "end_time": "2023-12-28T04:31:09.752235Z",
     "start_time": "2023-12-28T04:31:09.656372Z"
    }
   },
   "outputs": [
    {
     "data": {
      "text/plain": "0       4.2\n1       4.0\n2       3.9\n3       4.2\n4       4.2\n       ... \n1460    4.0\n1461    4.1\n1462    3.6\n1463    4.0\n1464    4.3\nName: rating, Length: 1465, dtype: float64"
     },
     "execution_count": 8,
     "metadata": {},
     "output_type": "execute_result"
    }
   ],
   "source": [
    "# Replacing any '|' inputs with '0' for rating column and convert to type float\n",
    "df.rating = df.rating.replace('[|]', '0', regex=True).astype(float)\n",
    "df.rating"
   ]
  },
  {
   "cell_type": "code",
   "execution_count": 9,
   "id": "73576735",
   "metadata": {
    "ExecuteTime": {
     "end_time": "2023-12-28T04:31:09.785385Z",
     "start_time": "2023-12-28T04:31:09.673554Z"
    }
   },
   "outputs": [
    {
     "data": {
      "text/plain": "0       24269.0\n1       43994.0\n2        7928.0\n3       94363.0\n4       16905.0\n         ...   \n1460     1090.0\n1461     4118.0\n1462      468.0\n1463     8031.0\n1464     6987.0\nName: rating_count, Length: 1465, dtype: float64"
     },
     "execution_count": 9,
     "metadata": {},
     "output_type": "execute_result"
    }
   ],
   "source": [
    "# Removing all commas from rating_count column and convert to type float\n",
    "df.rating_count = df.rating_count.replace('[,]', '', regex=True).astype(float)\n",
    "df.rating_count"
   ]
  },
  {
   "cell_type": "code",
   "execution_count": 10,
   "id": "67f797b4",
   "metadata": {
    "ExecuteTime": {
     "end_time": "2023-12-28T04:31:09.786535Z",
     "start_time": "2023-12-28T04:31:09.696955Z"
    }
   },
   "outputs": [
    {
     "name": "stdout",
     "output_type": "stream",
     "text": [
      "<class 'pandas.core.frame.DataFrame'>\n",
      "RangeIndex: 1465 entries, 0 to 1464\n",
      "Data columns (total 16 columns):\n",
      " #   Column               Non-Null Count  Dtype  \n",
      "---  ------               --------------  -----  \n",
      " 0   product_id           1465 non-null   object \n",
      " 1   product_name         1465 non-null   object \n",
      " 2   category             1465 non-null   object \n",
      " 3   discounted_price     1465 non-null   float64\n",
      " 4   actual_price         1465 non-null   float64\n",
      " 5   discount_percentage  1465 non-null   float64\n",
      " 6   rating               1465 non-null   float64\n",
      " 7   rating_count         1463 non-null   float64\n",
      " 8   about_product        1465 non-null   object \n",
      " 9   user_id              1465 non-null   object \n",
      " 10  user_name            1465 non-null   object \n",
      " 11  review_id            1465 non-null   object \n",
      " 12  review_title         1465 non-null   object \n",
      " 13  review_content       1465 non-null   object \n",
      " 14  img_link             1465 non-null   object \n",
      " 15  product_link         1465 non-null   object \n",
      "dtypes: float64(5), object(11)\n",
      "memory usage: 183.2+ KB\n"
     ]
    }
   ],
   "source": [
    "# Updated info of the dataframe after modifications.\n",
    "df.info()"
   ]
  },
  {
   "cell_type": "code",
   "outputs": [],
   "source": [
    "# Updated summary statistics of the dataframe's numerical values after modifications"
   ],
   "metadata": {
    "ExecuteTime": {
     "end_time": "2023-12-28T04:31:09.826942Z",
     "start_time": "2023-12-28T04:31:09.708547Z"
    }
   },
   "id": "fdd18c01",
   "execution_count": 11
  },
  {
   "cell_type": "code",
   "execution_count": 12,
   "id": "b0550dc9",
   "metadata": {
    "ExecuteTime": {
     "end_time": "2023-12-28T04:31:09.831925Z",
     "start_time": "2023-12-28T04:31:09.723522Z"
    }
   },
   "outputs": [
    {
     "data": {
      "text/plain": "    product_id                                       product_name  \\\n12  B07KSMBL2H  AmazonBasics Flexible Premium HDMI Cable (Blac...   \n16  B0B6F7LX4C  MI 80 cm (32 inches) 5A Series HD Ready Smart ...   \n19  B08DPLCM6T  LG 80 cm (32 inches) HD Ready Smart LED TV 32L...   \n21  B085194JFL  tizum HDMI to VGA Adapter Cable 1080P for Proj...   \n22  B09F6S8BT6  Samsung 80 cm (32 Inches) Wondertainment Serie...   \n\n                                             category  discounted_price  \\\n12  Electronics|HomeTheater,TV&Video|Accessories|C...              2.63   \n16  Electronics|HomeTheater,TV&Video|Televisions|S...            167.99   \n19  Electronics|HomeTheater,TV&Video|Televisions|S...            161.88   \n21  Electronics|HomeTheater,TV&Video|Accessories|C...              3.35   \n22  Electronics|HomeTheater,TV&Video|Televisions|S...            161.88   \n\n    actual_price  discount_percentage  rating  rating_count  \\\n12          8.40                 0.69     4.4      426973.0   \n16        299.99                 0.44     4.2       32840.0   \n19        263.88                 0.39     4.3       11976.0   \n21          5.99                 0.44     3.7       10962.0   \n22        274.80                 0.41     4.3       16299.0   \n\n                                        about_product  \\\n12  Flexible, lightweight HDMI cable for connectin...   \n16  Note : The brands, Mi and Xiaomi, are part of ...   \n19  Resolution: HD Ready (1366x768) | Refresh Rate...   \n21  Superior Stability: Built-in advanced Certifie...   \n22  Resolution: HD Ready (1366x768) | Refresh Rate...   \n\n                                              user_id  \\\n12  AEYJ5I6JZZPOJB6MGWRQOHRQLPSQ,AFY5TVFOMVHGBPBTI...   \n16  AHEVOQADJSSRX7DS325HSFLMP7VQ,AG7XYZRCSKX6G2OLO...   \n19  AHBNKB74LGTYUOKPAJBSKNFV45CA,AFIECTV45ADX5YPTE...   \n21  AEO5FHWNOSFBT554DKQAG4ICBGFQ,AGIQ5Y7Q4MKZ542KK...   \n22  AHEVO4Q5NM4YXMG2HDDXC5XMBGRQ,AFZPH7ZAWX5VDY3HO...   \n\n                                            user_name  \\\n12  Rishav Gossain,Shashank Mallamraju,Purnendu,gu...   \n16  Manoj maddheshiya,Manoj Kumar Sahoo,Saumil s.,...   \n19  NIRMAL.N,Manoj kumar,SOMNATH DAS,Harsha,Pradhu...   \n21  aditya d.,Paranthaman,ashik rahman c,Rajas c.,...   \n22  Rahman Ali,MARIYA DASS,Md Aftab,roshan s.,Moha...   \n\n                                            review_id  \\\n12  R1FKOKZ3HHKJBZ,R2WNMZI1EXTA0H,RCA1M3W4RIXUR,R3...   \n16  R13UTIA6KOF6QV,R2UGDZSGFF01K7,RHHIZ45VYU5X6,R1...   \n19  R2PNR69G0BQG2F,R31A0WWDEYMKEW,R2C4XEWFLVU7JV,R...   \n21  R1GYK05NN6747O,R1J21BZ29NGQF9,R16JCHEILBYOMW,R...   \n22  R1SN0D4DFBKAZI,R1SX5L77L2CD6V,R1NAZ6M4QBUJMK,R...   \n\n                                         review_title  \\\n12  It's quite good and value for money,Works well...   \n16  It is the best tv if you are getting it in 10-...   \n19  Sound quality,Very nice,Value for money,Good,G...   \n21  Good product ; Average Finishing,Save it purpo...   \n22  Good,Sound is very low another brand comparing...   \n\n                                       review_content  \\\n12  I am using it for 14 days now. The experience ...   \n16  Pros- xiomi 5a is best in budget-Nice picture ...   \n19  LG was always Good , correct delivery, good se...   \n21  This connector has provided as a boon for my o...   \n22  Overall good.,TV picture ok smart betterSound ...   \n\n                                             img_link  \\\n12  https://m.media-amazon.com/images/I/41nPYaWA+M...   \n16  https://m.media-amazon.com/images/I/51fmHk3km+...   \n19  https://m.media-amazon.com/images/W/WEBP_40237...   \n21  https://m.media-amazon.com/images/W/WEBP_40237...   \n22  https://m.media-amazon.com/images/W/WEBP_40237...   \n\n                                         product_link  \n12  https://www.amazon.in/AmazonBasics-Flexible-HD...  \n16  https://www.amazon.in/MI-inches-Ready-Android-...  \n19  https://www.amazon.in/LG-inches-Ready-Smart-32...  \n21  https://www.amazon.in/Adapter-Projector-Comput...  \n22  https://www.amazon.in/Samsung-Inches-Wondertai...  ",
      "text/html": "<div>\n<style scoped>\n    .dataframe tbody tr th:only-of-type {\n        vertical-align: middle;\n    }\n\n    .dataframe tbody tr th {\n        vertical-align: top;\n    }\n\n    .dataframe thead th {\n        text-align: right;\n    }\n</style>\n<table border=\"1\" class=\"dataframe\">\n  <thead>\n    <tr style=\"text-align: right;\">\n      <th></th>\n      <th>product_id</th>\n      <th>product_name</th>\n      <th>category</th>\n      <th>discounted_price</th>\n      <th>actual_price</th>\n      <th>discount_percentage</th>\n      <th>rating</th>\n      <th>rating_count</th>\n      <th>about_product</th>\n      <th>user_id</th>\n      <th>user_name</th>\n      <th>review_id</th>\n      <th>review_title</th>\n      <th>review_content</th>\n      <th>img_link</th>\n      <th>product_link</th>\n    </tr>\n  </thead>\n  <tbody>\n    <tr>\n      <th>12</th>\n      <td>B07KSMBL2H</td>\n      <td>AmazonBasics Flexible Premium HDMI Cable (Blac...</td>\n      <td>Electronics|HomeTheater,TV&amp;Video|Accessories|C...</td>\n      <td>2.63</td>\n      <td>8.40</td>\n      <td>0.69</td>\n      <td>4.4</td>\n      <td>426973.0</td>\n      <td>Flexible, lightweight HDMI cable for connectin...</td>\n      <td>AEYJ5I6JZZPOJB6MGWRQOHRQLPSQ,AFY5TVFOMVHGBPBTI...</td>\n      <td>Rishav Gossain,Shashank Mallamraju,Purnendu,gu...</td>\n      <td>R1FKOKZ3HHKJBZ,R2WNMZI1EXTA0H,RCA1M3W4RIXUR,R3...</td>\n      <td>It's quite good and value for money,Works well...</td>\n      <td>I am using it for 14 days now. The experience ...</td>\n      <td>https://m.media-amazon.com/images/I/41nPYaWA+M...</td>\n      <td>https://www.amazon.in/AmazonBasics-Flexible-HD...</td>\n    </tr>\n    <tr>\n      <th>16</th>\n      <td>B0B6F7LX4C</td>\n      <td>MI 80 cm (32 inches) 5A Series HD Ready Smart ...</td>\n      <td>Electronics|HomeTheater,TV&amp;Video|Televisions|S...</td>\n      <td>167.99</td>\n      <td>299.99</td>\n      <td>0.44</td>\n      <td>4.2</td>\n      <td>32840.0</td>\n      <td>Note : The brands, Mi and Xiaomi, are part of ...</td>\n      <td>AHEVOQADJSSRX7DS325HSFLMP7VQ,AG7XYZRCSKX6G2OLO...</td>\n      <td>Manoj maddheshiya,Manoj Kumar Sahoo,Saumil s.,...</td>\n      <td>R13UTIA6KOF6QV,R2UGDZSGFF01K7,RHHIZ45VYU5X6,R1...</td>\n      <td>It is the best tv if you are getting it in 10-...</td>\n      <td>Pros- xiomi 5a is best in budget-Nice picture ...</td>\n      <td>https://m.media-amazon.com/images/I/51fmHk3km+...</td>\n      <td>https://www.amazon.in/MI-inches-Ready-Android-...</td>\n    </tr>\n    <tr>\n      <th>19</th>\n      <td>B08DPLCM6T</td>\n      <td>LG 80 cm (32 inches) HD Ready Smart LED TV 32L...</td>\n      <td>Electronics|HomeTheater,TV&amp;Video|Televisions|S...</td>\n      <td>161.88</td>\n      <td>263.88</td>\n      <td>0.39</td>\n      <td>4.3</td>\n      <td>11976.0</td>\n      <td>Resolution: HD Ready (1366x768) | Refresh Rate...</td>\n      <td>AHBNKB74LGTYUOKPAJBSKNFV45CA,AFIECTV45ADX5YPTE...</td>\n      <td>NIRMAL.N,Manoj kumar,SOMNATH DAS,Harsha,Pradhu...</td>\n      <td>R2PNR69G0BQG2F,R31A0WWDEYMKEW,R2C4XEWFLVU7JV,R...</td>\n      <td>Sound quality,Very nice,Value for money,Good,G...</td>\n      <td>LG was always Good , correct delivery, good se...</td>\n      <td>https://m.media-amazon.com/images/W/WEBP_40237...</td>\n      <td>https://www.amazon.in/LG-inches-Ready-Smart-32...</td>\n    </tr>\n    <tr>\n      <th>21</th>\n      <td>B085194JFL</td>\n      <td>tizum HDMI to VGA Adapter Cable 1080P for Proj...</td>\n      <td>Electronics|HomeTheater,TV&amp;Video|Accessories|C...</td>\n      <td>3.35</td>\n      <td>5.99</td>\n      <td>0.44</td>\n      <td>3.7</td>\n      <td>10962.0</td>\n      <td>Superior Stability: Built-in advanced Certifie...</td>\n      <td>AEO5FHWNOSFBT554DKQAG4ICBGFQ,AGIQ5Y7Q4MKZ542KK...</td>\n      <td>aditya d.,Paranthaman,ashik rahman c,Rajas c.,...</td>\n      <td>R1GYK05NN6747O,R1J21BZ29NGQF9,R16JCHEILBYOMW,R...</td>\n      <td>Good product ; Average Finishing,Save it purpo...</td>\n      <td>This connector has provided as a boon for my o...</td>\n      <td>https://m.media-amazon.com/images/W/WEBP_40237...</td>\n      <td>https://www.amazon.in/Adapter-Projector-Comput...</td>\n    </tr>\n    <tr>\n      <th>22</th>\n      <td>B09F6S8BT6</td>\n      <td>Samsung 80 cm (32 Inches) Wondertainment Serie...</td>\n      <td>Electronics|HomeTheater,TV&amp;Video|Televisions|S...</td>\n      <td>161.88</td>\n      <td>274.80</td>\n      <td>0.41</td>\n      <td>4.3</td>\n      <td>16299.0</td>\n      <td>Resolution: HD Ready (1366x768) | Refresh Rate...</td>\n      <td>AHEVO4Q5NM4YXMG2HDDXC5XMBGRQ,AFZPH7ZAWX5VDY3HO...</td>\n      <td>Rahman Ali,MARIYA DASS,Md Aftab,roshan s.,Moha...</td>\n      <td>R1SN0D4DFBKAZI,R1SX5L77L2CD6V,R1NAZ6M4QBUJMK,R...</td>\n      <td>Good,Sound is very low another brand comparing...</td>\n      <td>Overall good.,TV picture ok smart betterSound ...</td>\n      <td>https://m.media-amazon.com/images/W/WEBP_40237...</td>\n      <td>https://www.amazon.in/Samsung-Inches-Wondertai...</td>\n    </tr>\n  </tbody>\n</table>\n</div>"
     },
     "execution_count": 12,
     "metadata": {},
     "output_type": "execute_result"
    }
   ],
   "source": [
    "# Using \"Electronics\" as the keyword, a new dataframe will be created that only contains data relating to \"Electronics\"\n",
    "electronics_data = df[df.category.str.contains('Electronics', case=False, na=False)]\n",
    "electronics_data.head()"
   ]
  },
  {
   "cell_type": "code",
   "execution_count": 13,
   "id": "66c12b54",
   "metadata": {
    "ExecuteTime": {
     "end_time": "2023-12-28T04:32:09.922691Z",
     "start_time": "2023-12-28T04:32:09.911843Z"
    }
   },
   "outputs": [
    {
     "name": "stdout",
     "output_type": "stream",
     "text": [
      "<class 'pandas.core.frame.DataFrame'>\n",
      "Index: 530 entries, 12 to 1021\n",
      "Data columns (total 16 columns):\n",
      " #   Column               Non-Null Count  Dtype  \n",
      "---  ------               --------------  -----  \n",
      " 0   product_id           530 non-null    object \n",
      " 1   product_name         530 non-null    object \n",
      " 2   category             530 non-null    object \n",
      " 3   discounted_price     530 non-null    float64\n",
      " 4   actual_price         530 non-null    float64\n",
      " 5   discount_percentage  530 non-null    float64\n",
      " 6   rating               530 non-null    float64\n",
      " 7   rating_count         530 non-null    float64\n",
      " 8   about_product        530 non-null    object \n",
      " 9   user_id              530 non-null    object \n",
      " 10  user_name            530 non-null    object \n",
      " 11  review_id            530 non-null    object \n",
      " 12  review_title         530 non-null    object \n",
      " 13  review_content       530 non-null    object \n",
      " 14  img_link             530 non-null    object \n",
      " 15  product_link         530 non-null    object \n",
      "dtypes: float64(5), object(11)\n",
      "memory usage: 70.4+ KB\n"
     ]
    }
   ],
   "source": [
    "# Display general overview of the dataframe, including the updated number of rows\n",
    "electronics_data.info()"
   ]
  },
  {
   "cell_type": "code",
   "outputs": [],
   "source": [
    "# Overwriting the data contained in 'amazon-dataset-modified.csv'\n",
    "electronics_data.to_csv('./amazon-dataset-modified.csv')"
   ],
   "metadata": {
    "collapsed": false,
    "ExecuteTime": {
     "end_time": "2023-12-28T04:33:37.729642Z",
     "start_time": "2023-12-28T04:33:37.646467Z"
    }
   },
   "id": "4319b07ec2b4324f",
   "execution_count": 15
  },
  {
   "cell_type": "code",
   "outputs": [],
   "source": [],
   "metadata": {
    "collapsed": false
   },
   "id": "faf101c4f0e80478"
  }
 ],
 "metadata": {
  "kernelspec": {
   "display_name": "Python 3 (ipykernel)",
   "language": "python",
   "name": "python3"
  },
  "language_info": {
   "codemirror_mode": {
    "name": "ipython",
    "version": 3
   },
   "file_extension": ".py",
   "mimetype": "text/x-python",
   "name": "python",
   "nbconvert_exporter": "python",
   "pygments_lexer": "ipython3",
   "version": "3.11.5"
  }
 },
 "nbformat": 4,
 "nbformat_minor": 5
}
