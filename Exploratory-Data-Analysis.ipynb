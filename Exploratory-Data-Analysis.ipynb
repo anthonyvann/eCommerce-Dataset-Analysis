{
 "cells": [
  {
   "cell_type": "code",
   "execution_count": 36,
   "id": "initial_id",
   "metadata": {
    "collapsed": true,
    "ExecuteTime": {
     "end_time": "2024-01-03T04:35:36.611609400Z",
     "start_time": "2024-01-03T04:35:36.604108400Z"
    }
   },
   "outputs": [],
   "source": [
    "import pandas as pd\n",
    "import numpy as np\n",
    "import matplotlib.pyplot as plt\n",
    "import seaborn as sns"
   ]
  },
  {
   "cell_type": "code",
   "outputs": [
    {
     "data": {
      "text/plain": "     product_id                                       product_name  \\\n0    B07KSMBL2H  AmazonBasics Flexible Premium HDMI Cable (Blac...   \n1    B0B6F7LX4C  MI 80 cm (32 inches) 5A Series HD Ready Smart ...   \n2    B08DPLCM6T  LG 80 cm (32 inches) HD Ready Smart LED TV 32L...   \n3    B085194JFL  tizum HDMI to VGA Adapter Cable 1080P for Proj...   \n4    B09F6S8BT6  Samsung 80 cm (32 Inches) Wondertainment Serie...   \n..          ...                                                ...   \n525  B014SZPBM4           Duracell Ultra Alkaline D Battery, 2 Pcs   \n526  B078W65FJ7  boAt BassHeads 900 On-Ear Wired Headphones wit...   \n527  B08S74GTBT  Zebronics Astra 10 Portable Wireless BT v5.0 S...   \n528  B0B9BD2YL4  KINGONE Wireless Charging Pencil (2nd Generati...   \n529  B07W7Z6DVL  Infinity (JBL Fuze 100, Wireless Portable Blue...   \n\n                                              category  discounted_price  \\\n0    Electronics|HomeTheater,TV&Video|Accessories|C...              2.63   \n1    Electronics|HomeTheater,TV&Video|Televisions|S...            167.99   \n2    Electronics|HomeTheater,TV&Video|Televisions|S...            161.88   \n3    Electronics|HomeTheater,TV&Video|Accessories|C...              3.35   \n4    Electronics|HomeTheater,TV&Video|Televisions|S...            161.88   \n..                                                 ...               ...   \n525  Electronics|GeneralPurposeBatteries&BatteryCha...              4.56   \n526  Electronics|Headphones,Earbuds&Accessories|Hea...             10.19   \n527     Electronics|HomeAudio|Speakers|OutdoorSpeakers              9.59   \n528  Electronics|Mobiles&Accessories|MobileAccessor...             31.19   \n529     Electronics|HomeAudio|Speakers|OutdoorSpeakers             17.99   \n\n     actual_price  discount_percentage  rating  rating_count  \\\n0            8.40                 0.69     4.4      426973.0   \n1          299.99                 0.44     4.2       32840.0   \n2          263.88                 0.39     4.3       11976.0   \n3            5.99                 0.44     3.7       10962.0   \n4          274.80                 0.41     4.3       16299.0   \n..            ...                  ...     ...           ...   \n525          4.80                 0.05     4.4        2111.0   \n526         29.88                 0.66     4.2       91188.0   \n527         23.99                 0.60     3.7         418.0   \n528         83.99                 0.63     4.5        1526.0   \n529         35.99                 0.50     4.1       25262.0   \n\n                                         about_product  \\\n0    Flexible, lightweight HDMI cable for connectin...   \n1    Note : The brands, Mi and Xiaomi, are part of ...   \n2    Resolution: HD Ready (1366x768) | Refresh Rate...   \n3    Superior Stability: Built-in advanced Certifie...   \n4    Resolution: HD Ready (1366x768) | Refresh Rate...   \n..                                                 ...   \n525  Long Lasting Power Guaranteed|Our best battery...   \n526  Enjoy powerful, dynamic sound with punchy bass...   \n527  Wireless Portable Speaker with Mobile Holder|E...   \n528  【2022 latest iPad Magnetic Charging】 The lates...   \n529  Compact Portable Bluetooth Speakers. Wireless ...   \n\n                                               user_id  \\\n0    AEYJ5I6JZZPOJB6MGWRQOHRQLPSQ,AFY5TVFOMVHGBPBTI...   \n1    AHEVOQADJSSRX7DS325HSFLMP7VQ,AG7XYZRCSKX6G2OLO...   \n2    AHBNKB74LGTYUOKPAJBSKNFV45CA,AFIECTV45ADX5YPTE...   \n3    AEO5FHWNOSFBT554DKQAG4ICBGFQ,AGIQ5Y7Q4MKZ542KK...   \n4    AHEVO4Q5NM4YXMG2HDDXC5XMBGRQ,AFZPH7ZAWX5VDY3HO...   \n..                                                 ...   \n525  AEGQJH2NIAS54T7WKAHKVEO4B67A,AFDH4NWAAHAVKPQVB...   \n526  AFM6IHWXNLXOBO3JZTO5DN5QJROQ,AHXEMXDI7LE4FLGEU...   \n527  AE42EZDBUFSJZGL66F275G54PSUA,AHFGOPCKQ4SMDFRKG...   \n528  AEAX7BRPDS3NSYCZQBQDL5DGZDVA,AFI76LT4UP2L3SFJM...   \n529  AHBISYTXOMEMKDTXVEKH57D2X3RA,AEOSGU32LYFVLXEHE...   \n\n                                             user_name  \\\n0    Rishav Gossain,Shashank Mallamraju,Purnendu,gu...   \n1    Manoj maddheshiya,Manoj Kumar Sahoo,Saumil s.,...   \n2    NIRMAL.N,Manoj kumar,SOMNATH DAS,Harsha,Pradhu...   \n3    aditya d.,Paranthaman,ashik rahman c,Rajas c.,...   \n4    Rahman Ali,MARIYA DASS,Md Aftab,roshan s.,Moha...   \n..                                                 ...   \n525  Md asif akhter,KIRAN T,Hanuman sarda,Pranav Ch...   \n526  Sayan,Lucky,Anish Kadivar,Surjit pharmacist,An...   \n527  ESWARAN,Amal Gopinath,DODDI GOVINDA RAO,Vinita...   \n528  Ak,Jitesh,anil,Umpo,G'DAS ENTERPRISES,Neetu,Va...   \n529  Sreekumar KURUMALIKKAL,Mukund,ADITYA GUPTA,dev...   \n\n                                             review_id  \\\n0    R1FKOKZ3HHKJBZ,R2WNMZI1EXTA0H,RCA1M3W4RIXUR,R3...   \n1    R13UTIA6KOF6QV,R2UGDZSGFF01K7,RHHIZ45VYU5X6,R1...   \n2    R2PNR69G0BQG2F,R31A0WWDEYMKEW,R2C4XEWFLVU7JV,R...   \n3    R1GYK05NN6747O,R1J21BZ29NGQF9,R16JCHEILBYOMW,R...   \n4    R1SN0D4DFBKAZI,R1SX5L77L2CD6V,R1NAZ6M4QBUJMK,R...   \n..                                                 ...   \n525  R1RXFMVZ8EKN3Q,R2YX4PL3F59OHC,RUDJ9ISAQDD3B,R3...   \n526  R1ENIO169KEJPW,R1V9WVGGU6G0SZ,R1CS1EB6REPXU6,R...   \n527  R1PUDD2V2KQP06,R1LRN5EFJ0Y717,R1S7Q7UW9FO9LY,R...   \n528  R1HOV97NOJFX4W,R3BIRU7WH404ND,RAU26U2KP1OQH,R1...   \n529  R2NQLS6I62ASDV,RIT3TAH74G3JM,R3V03S1XKJWJ4F,RT...   \n\n                                          review_title  \\\n0    It's quite good and value for money,Works well...   \n1    It is the best tv if you are getting it in 10-...   \n2    Sound quality,Very nice,Value for money,Good,G...   \n3    Good product ; Average Finishing,Save it purpo...   \n4    Good,Sound is very low another brand comparing...   \n..                                                 ...   \n525  Battery,Good buy,Bigger than expected,Best Bat...   \n526  Definitely good but wire is too short,Never ex...   \n527  Super product,Worst antenna.... It came out wh...   \n528  Quite Good,good pencil,Value for money,Brillia...   \n529  Good Handy Bluetooth Speaker,Very Nice,Medium,...   \n\n                                        review_content  \\\n0    I am using it for 14 days now. The experience ...   \n1    Pros- xiomi 5a is best in budget-Nice picture ...   \n2    LG was always Good , correct delivery, good se...   \n3    This connector has provided as a boon for my o...   \n4    Overall good.,TV picture ok smart betterSound ...   \n..                                                 ...   \n525  Duracell never disappoint you,Good,https://m.m...   \n526  Product is good. It's definitely a peace for e...   \n527  Super product,Worst product,Too good product,G...   \n528  After 10 days of use bhaut acha chl rha ha and...   \n529  Good Bass and Treble. Good Sound Quality.,Good...   \n\n                                              img_link  \\\n0    https://m.media-amazon.com/images/I/41nPYaWA+M...   \n1    https://m.media-amazon.com/images/I/51fmHk3km+...   \n2    https://m.media-amazon.com/images/W/WEBP_40237...   \n3    https://m.media-amazon.com/images/W/WEBP_40237...   \n4    https://m.media-amazon.com/images/W/WEBP_40237...   \n..                                                 ...   \n525  https://m.media-amazon.com/images/I/51BGUyveMf...   \n526  https://m.media-amazon.com/images/W/WEBP_40237...   \n527  https://m.media-amazon.com/images/I/41uoxHxPDa...   \n528  https://m.media-amazon.com/images/I/217Lv1D3bH...   \n529  https://m.media-amazon.com/images/W/WEBP_40237...   \n\n                                          product_link  \n0    https://www.amazon.in/AmazonBasics-Flexible-HD...  \n1    https://www.amazon.in/MI-inches-Ready-Android-...  \n2    https://www.amazon.in/LG-inches-Ready-Smart-32...  \n3    https://www.amazon.in/Adapter-Projector-Comput...  \n4    https://www.amazon.in/Samsung-Inches-Wondertai...  \n..                                                 ...  \n525  https://www.amazon.in/Duracell-Alkaline-Batter...  \n526  https://www.amazon.in/Heads-900-Wired-Headphon...  \n527  https://www.amazon.in/ZEBRONICS-Zeb-Astra-Wire...  \n528  https://www.amazon.in/Wireless-Generation-Sens...  \n529  https://www.amazon.in/Infinity-Fuze-100-Waterp...  \n\n[530 rows x 16 columns]",
      "text/html": "<div>\n<style scoped>\n    .dataframe tbody tr th:only-of-type {\n        vertical-align: middle;\n    }\n\n    .dataframe tbody tr th {\n        vertical-align: top;\n    }\n\n    .dataframe thead th {\n        text-align: right;\n    }\n</style>\n<table border=\"1\" class=\"dataframe\">\n  <thead>\n    <tr style=\"text-align: right;\">\n      <th></th>\n      <th>product_id</th>\n      <th>product_name</th>\n      <th>category</th>\n      <th>discounted_price</th>\n      <th>actual_price</th>\n      <th>discount_percentage</th>\n      <th>rating</th>\n      <th>rating_count</th>\n      <th>about_product</th>\n      <th>user_id</th>\n      <th>user_name</th>\n      <th>review_id</th>\n      <th>review_title</th>\n      <th>review_content</th>\n      <th>img_link</th>\n      <th>product_link</th>\n    </tr>\n  </thead>\n  <tbody>\n    <tr>\n      <th>0</th>\n      <td>B07KSMBL2H</td>\n      <td>AmazonBasics Flexible Premium HDMI Cable (Blac...</td>\n      <td>Electronics|HomeTheater,TV&amp;Video|Accessories|C...</td>\n      <td>2.63</td>\n      <td>8.40</td>\n      <td>0.69</td>\n      <td>4.4</td>\n      <td>426973.0</td>\n      <td>Flexible, lightweight HDMI cable for connectin...</td>\n      <td>AEYJ5I6JZZPOJB6MGWRQOHRQLPSQ,AFY5TVFOMVHGBPBTI...</td>\n      <td>Rishav Gossain,Shashank Mallamraju,Purnendu,gu...</td>\n      <td>R1FKOKZ3HHKJBZ,R2WNMZI1EXTA0H,RCA1M3W4RIXUR,R3...</td>\n      <td>It's quite good and value for money,Works well...</td>\n      <td>I am using it for 14 days now. The experience ...</td>\n      <td>https://m.media-amazon.com/images/I/41nPYaWA+M...</td>\n      <td>https://www.amazon.in/AmazonBasics-Flexible-HD...</td>\n    </tr>\n    <tr>\n      <th>1</th>\n      <td>B0B6F7LX4C</td>\n      <td>MI 80 cm (32 inches) 5A Series HD Ready Smart ...</td>\n      <td>Electronics|HomeTheater,TV&amp;Video|Televisions|S...</td>\n      <td>167.99</td>\n      <td>299.99</td>\n      <td>0.44</td>\n      <td>4.2</td>\n      <td>32840.0</td>\n      <td>Note : The brands, Mi and Xiaomi, are part of ...</td>\n      <td>AHEVOQADJSSRX7DS325HSFLMP7VQ,AG7XYZRCSKX6G2OLO...</td>\n      <td>Manoj maddheshiya,Manoj Kumar Sahoo,Saumil s.,...</td>\n      <td>R13UTIA6KOF6QV,R2UGDZSGFF01K7,RHHIZ45VYU5X6,R1...</td>\n      <td>It is the best tv if you are getting it in 10-...</td>\n      <td>Pros- xiomi 5a is best in budget-Nice picture ...</td>\n      <td>https://m.media-amazon.com/images/I/51fmHk3km+...</td>\n      <td>https://www.amazon.in/MI-inches-Ready-Android-...</td>\n    </tr>\n    <tr>\n      <th>2</th>\n      <td>B08DPLCM6T</td>\n      <td>LG 80 cm (32 inches) HD Ready Smart LED TV 32L...</td>\n      <td>Electronics|HomeTheater,TV&amp;Video|Televisions|S...</td>\n      <td>161.88</td>\n      <td>263.88</td>\n      <td>0.39</td>\n      <td>4.3</td>\n      <td>11976.0</td>\n      <td>Resolution: HD Ready (1366x768) | Refresh Rate...</td>\n      <td>AHBNKB74LGTYUOKPAJBSKNFV45CA,AFIECTV45ADX5YPTE...</td>\n      <td>NIRMAL.N,Manoj kumar,SOMNATH DAS,Harsha,Pradhu...</td>\n      <td>R2PNR69G0BQG2F,R31A0WWDEYMKEW,R2C4XEWFLVU7JV,R...</td>\n      <td>Sound quality,Very nice,Value for money,Good,G...</td>\n      <td>LG was always Good , correct delivery, good se...</td>\n      <td>https://m.media-amazon.com/images/W/WEBP_40237...</td>\n      <td>https://www.amazon.in/LG-inches-Ready-Smart-32...</td>\n    </tr>\n    <tr>\n      <th>3</th>\n      <td>B085194JFL</td>\n      <td>tizum HDMI to VGA Adapter Cable 1080P for Proj...</td>\n      <td>Electronics|HomeTheater,TV&amp;Video|Accessories|C...</td>\n      <td>3.35</td>\n      <td>5.99</td>\n      <td>0.44</td>\n      <td>3.7</td>\n      <td>10962.0</td>\n      <td>Superior Stability: Built-in advanced Certifie...</td>\n      <td>AEO5FHWNOSFBT554DKQAG4ICBGFQ,AGIQ5Y7Q4MKZ542KK...</td>\n      <td>aditya d.,Paranthaman,ashik rahman c,Rajas c.,...</td>\n      <td>R1GYK05NN6747O,R1J21BZ29NGQF9,R16JCHEILBYOMW,R...</td>\n      <td>Good product ; Average Finishing,Save it purpo...</td>\n      <td>This connector has provided as a boon for my o...</td>\n      <td>https://m.media-amazon.com/images/W/WEBP_40237...</td>\n      <td>https://www.amazon.in/Adapter-Projector-Comput...</td>\n    </tr>\n    <tr>\n      <th>4</th>\n      <td>B09F6S8BT6</td>\n      <td>Samsung 80 cm (32 Inches) Wondertainment Serie...</td>\n      <td>Electronics|HomeTheater,TV&amp;Video|Televisions|S...</td>\n      <td>161.88</td>\n      <td>274.80</td>\n      <td>0.41</td>\n      <td>4.3</td>\n      <td>16299.0</td>\n      <td>Resolution: HD Ready (1366x768) | Refresh Rate...</td>\n      <td>AHEVO4Q5NM4YXMG2HDDXC5XMBGRQ,AFZPH7ZAWX5VDY3HO...</td>\n      <td>Rahman Ali,MARIYA DASS,Md Aftab,roshan s.,Moha...</td>\n      <td>R1SN0D4DFBKAZI,R1SX5L77L2CD6V,R1NAZ6M4QBUJMK,R...</td>\n      <td>Good,Sound is very low another brand comparing...</td>\n      <td>Overall good.,TV picture ok smart betterSound ...</td>\n      <td>https://m.media-amazon.com/images/W/WEBP_40237...</td>\n      <td>https://www.amazon.in/Samsung-Inches-Wondertai...</td>\n    </tr>\n    <tr>\n      <th>...</th>\n      <td>...</td>\n      <td>...</td>\n      <td>...</td>\n      <td>...</td>\n      <td>...</td>\n      <td>...</td>\n      <td>...</td>\n      <td>...</td>\n      <td>...</td>\n      <td>...</td>\n      <td>...</td>\n      <td>...</td>\n      <td>...</td>\n      <td>...</td>\n      <td>...</td>\n      <td>...</td>\n    </tr>\n    <tr>\n      <th>525</th>\n      <td>B014SZPBM4</td>\n      <td>Duracell Ultra Alkaline D Battery, 2 Pcs</td>\n      <td>Electronics|GeneralPurposeBatteries&amp;BatteryCha...</td>\n      <td>4.56</td>\n      <td>4.80</td>\n      <td>0.05</td>\n      <td>4.4</td>\n      <td>2111.0</td>\n      <td>Long Lasting Power Guaranteed|Our best battery...</td>\n      <td>AEGQJH2NIAS54T7WKAHKVEO4B67A,AFDH4NWAAHAVKPQVB...</td>\n      <td>Md asif akhter,KIRAN T,Hanuman sarda,Pranav Ch...</td>\n      <td>R1RXFMVZ8EKN3Q,R2YX4PL3F59OHC,RUDJ9ISAQDD3B,R3...</td>\n      <td>Battery,Good buy,Bigger than expected,Best Bat...</td>\n      <td>Duracell never disappoint you,Good,https://m.m...</td>\n      <td>https://m.media-amazon.com/images/I/51BGUyveMf...</td>\n      <td>https://www.amazon.in/Duracell-Alkaline-Batter...</td>\n    </tr>\n    <tr>\n      <th>526</th>\n      <td>B078W65FJ7</td>\n      <td>boAt BassHeads 900 On-Ear Wired Headphones wit...</td>\n      <td>Electronics|Headphones,Earbuds&amp;Accessories|Hea...</td>\n      <td>10.19</td>\n      <td>29.88</td>\n      <td>0.66</td>\n      <td>4.2</td>\n      <td>91188.0</td>\n      <td>Enjoy powerful, dynamic sound with punchy bass...</td>\n      <td>AFM6IHWXNLXOBO3JZTO5DN5QJROQ,AHXEMXDI7LE4FLGEU...</td>\n      <td>Sayan,Lucky,Anish Kadivar,Surjit pharmacist,An...</td>\n      <td>R1ENIO169KEJPW,R1V9WVGGU6G0SZ,R1CS1EB6REPXU6,R...</td>\n      <td>Definitely good but wire is too short,Never ex...</td>\n      <td>Product is good. It's definitely a peace for e...</td>\n      <td>https://m.media-amazon.com/images/W/WEBP_40237...</td>\n      <td>https://www.amazon.in/Heads-900-Wired-Headphon...</td>\n    </tr>\n    <tr>\n      <th>527</th>\n      <td>B08S74GTBT</td>\n      <td>Zebronics Astra 10 Portable Wireless BT v5.0 S...</td>\n      <td>Electronics|HomeAudio|Speakers|OutdoorSpeakers</td>\n      <td>9.59</td>\n      <td>23.99</td>\n      <td>0.60</td>\n      <td>3.7</td>\n      <td>418.0</td>\n      <td>Wireless Portable Speaker with Mobile Holder|E...</td>\n      <td>AE42EZDBUFSJZGL66F275G54PSUA,AHFGOPCKQ4SMDFRKG...</td>\n      <td>ESWARAN,Amal Gopinath,DODDI GOVINDA RAO,Vinita...</td>\n      <td>R1PUDD2V2KQP06,R1LRN5EFJ0Y717,R1S7Q7UW9FO9LY,R...</td>\n      <td>Super product,Worst antenna.... It came out wh...</td>\n      <td>Super product,Worst product,Too good product,G...</td>\n      <td>https://m.media-amazon.com/images/I/41uoxHxPDa...</td>\n      <td>https://www.amazon.in/ZEBRONICS-Zeb-Astra-Wire...</td>\n    </tr>\n    <tr>\n      <th>528</th>\n      <td>B0B9BD2YL4</td>\n      <td>KINGONE Wireless Charging Pencil (2nd Generati...</td>\n      <td>Electronics|Mobiles&amp;Accessories|MobileAccessor...</td>\n      <td>31.19</td>\n      <td>83.99</td>\n      <td>0.63</td>\n      <td>4.5</td>\n      <td>1526.0</td>\n      <td>【2022 latest iPad Magnetic Charging】 The lates...</td>\n      <td>AEAX7BRPDS3NSYCZQBQDL5DGZDVA,AFI76LT4UP2L3SFJM...</td>\n      <td>Ak,Jitesh,anil,Umpo,G'DAS ENTERPRISES,Neetu,Va...</td>\n      <td>R1HOV97NOJFX4W,R3BIRU7WH404ND,RAU26U2KP1OQH,R1...</td>\n      <td>Quite Good,good pencil,Value for money,Brillia...</td>\n      <td>After 10 days of use bhaut acha chl rha ha and...</td>\n      <td>https://m.media-amazon.com/images/I/217Lv1D3bH...</td>\n      <td>https://www.amazon.in/Wireless-Generation-Sens...</td>\n    </tr>\n    <tr>\n      <th>529</th>\n      <td>B07W7Z6DVL</td>\n      <td>Infinity (JBL Fuze 100, Wireless Portable Blue...</td>\n      <td>Electronics|HomeAudio|Speakers|OutdoorSpeakers</td>\n      <td>17.99</td>\n      <td>35.99</td>\n      <td>0.50</td>\n      <td>4.1</td>\n      <td>25262.0</td>\n      <td>Compact Portable Bluetooth Speakers. Wireless ...</td>\n      <td>AHBISYTXOMEMKDTXVEKH57D2X3RA,AEOSGU32LYFVLXEHE...</td>\n      <td>Sreekumar KURUMALIKKAL,Mukund,ADITYA GUPTA,dev...</td>\n      <td>R2NQLS6I62ASDV,RIT3TAH74G3JM,R3V03S1XKJWJ4F,RT...</td>\n      <td>Good Handy Bluetooth Speaker,Very Nice,Medium,...</td>\n      <td>Good Bass and Treble. Good Sound Quality.,Good...</td>\n      <td>https://m.media-amazon.com/images/W/WEBP_40237...</td>\n      <td>https://www.amazon.in/Infinity-Fuze-100-Waterp...</td>\n    </tr>\n  </tbody>\n</table>\n<p>530 rows × 16 columns</p>\n</div>"
     },
     "execution_count": 37,
     "metadata": {},
     "output_type": "execute_result"
    }
   ],
   "source": [
    "# Reading the new csv file into a DataFrame\n",
    "data = pd.read_csv(r'./amazon-dataset-modified.csv')\n",
    "data"
   ],
   "metadata": {
    "collapsed": false,
    "ExecuteTime": {
     "end_time": "2024-01-03T04:35:36.669619700Z",
     "start_time": "2024-01-03T04:35:36.615110300Z"
    }
   },
   "id": "727ad7c7d9c6e848",
   "execution_count": 37
  },
  {
   "cell_type": "code",
   "outputs": [
    {
     "name": "stdout",
     "output_type": "stream",
     "text": [
      "<class 'pandas.core.frame.DataFrame'>\n",
      "RangeIndex: 530 entries, 0 to 529\n",
      "Data columns (total 16 columns):\n",
      " #   Column               Non-Null Count  Dtype  \n",
      "---  ------               --------------  -----  \n",
      " 0   product_id           530 non-null    object \n",
      " 1   product_name         530 non-null    object \n",
      " 2   category             530 non-null    object \n",
      " 3   discounted_price     530 non-null    float64\n",
      " 4   actual_price         530 non-null    float64\n",
      " 5   discount_percentage  530 non-null    float64\n",
      " 6   rating               530 non-null    float64\n",
      " 7   rating_count         530 non-null    float64\n",
      " 8   about_product        530 non-null    object \n",
      " 9   user_id              530 non-null    object \n",
      " 10  user_name            530 non-null    object \n",
      " 11  review_id            530 non-null    object \n",
      " 12  review_title         530 non-null    object \n",
      " 13  review_content       530 non-null    object \n",
      " 14  img_link             530 non-null    object \n",
      " 15  product_link         530 non-null    object \n",
      "dtypes: float64(5), object(11)\n",
      "memory usage: 66.4+ KB\n"
     ]
    }
   ],
   "source": [
    "# Displaying general overview of the current DataFrame\n",
    "data.info()"
   ],
   "metadata": {
    "collapsed": false,
    "ExecuteTime": {
     "end_time": "2024-01-03T04:35:36.709127700Z",
     "start_time": "2024-01-03T04:35:36.670620900Z"
    }
   },
   "id": "dc14c68e94b81ff6",
   "execution_count": 38
  },
  {
   "cell_type": "code",
   "outputs": [
    {
     "data": {
      "text/plain": "     actual_price  discounted_price\n0            8.40              2.63\n1          299.99            167.99\n2          263.88            161.88\n3            5.99              3.35\n4          274.80            161.88\n..            ...               ...\n525          4.80              4.56\n526         29.88             10.19\n527         23.99              9.59\n528         83.99             31.19\n529         35.99             17.99\n\n[530 rows x 2 columns]",
      "text/html": "<div>\n<style scoped>\n    .dataframe tbody tr th:only-of-type {\n        vertical-align: middle;\n    }\n\n    .dataframe tbody tr th {\n        vertical-align: top;\n    }\n\n    .dataframe thead th {\n        text-align: right;\n    }\n</style>\n<table border=\"1\" class=\"dataframe\">\n  <thead>\n    <tr style=\"text-align: right;\">\n      <th></th>\n      <th>actual_price</th>\n      <th>discounted_price</th>\n    </tr>\n  </thead>\n  <tbody>\n    <tr>\n      <th>0</th>\n      <td>8.40</td>\n      <td>2.63</td>\n    </tr>\n    <tr>\n      <th>1</th>\n      <td>299.99</td>\n      <td>167.99</td>\n    </tr>\n    <tr>\n      <th>2</th>\n      <td>263.88</td>\n      <td>161.88</td>\n    </tr>\n    <tr>\n      <th>3</th>\n      <td>5.99</td>\n      <td>3.35</td>\n    </tr>\n    <tr>\n      <th>4</th>\n      <td>274.80</td>\n      <td>161.88</td>\n    </tr>\n    <tr>\n      <th>...</th>\n      <td>...</td>\n      <td>...</td>\n    </tr>\n    <tr>\n      <th>525</th>\n      <td>4.80</td>\n      <td>4.56</td>\n    </tr>\n    <tr>\n      <th>526</th>\n      <td>29.88</td>\n      <td>10.19</td>\n    </tr>\n    <tr>\n      <th>527</th>\n      <td>23.99</td>\n      <td>9.59</td>\n    </tr>\n    <tr>\n      <th>528</th>\n      <td>83.99</td>\n      <td>31.19</td>\n    </tr>\n    <tr>\n      <th>529</th>\n      <td>35.99</td>\n      <td>17.99</td>\n    </tr>\n  </tbody>\n</table>\n<p>530 rows × 2 columns</p>\n</div>"
     },
     "execution_count": 39,
     "metadata": {},
     "output_type": "execute_result"
    }
   ],
   "source": [
    "# Concatenating the actual_price & discounted_price columns for simplifying comparisons\n",
    "prices_data = pd.concat([data.actual_price, data.discounted_price], axis=1)\n",
    "prices_data"
   ],
   "metadata": {
    "collapsed": false,
    "ExecuteTime": {
     "end_time": "2024-01-03T04:35:36.731630900Z",
     "start_time": "2024-01-03T04:35:36.684622300Z"
    }
   },
   "id": "bfc91237b7b5ac5c",
   "execution_count": 39
  },
  {
   "cell_type": "code",
   "outputs": [],
   "source": [
    "# Bivariate Analysis\n"
   ],
   "metadata": {
    "collapsed": false,
    "ExecuteTime": {
     "end_time": "2024-01-03T04:35:36.754634800Z",
     "start_time": "2024-01-03T04:35:36.701626Z"
    }
   },
   "id": "b3a835cb59534bf3",
   "execution_count": 40
  },
  {
   "cell_type": "code",
   "outputs": [],
   "source": [
    "# Bivariate Analysis\n",
    "# Using pairplot for a quick overview of how each variable relates to the others\n",
    "# sns.pairplot(data)"
   ],
   "metadata": {
    "collapsed": false,
    "ExecuteTime": {
     "end_time": "2024-01-03T04:35:36.793141300Z",
     "start_time": "2024-01-03T04:35:36.716128900Z"
    }
   },
   "id": "d23d6c1364d66e80",
   "execution_count": 41
  },
  {
   "cell_type": "code",
   "outputs": [],
   "source": [
    "# # Correlation Analysis\n",
    "# numeric_data = data.select_dtypes(include=[np.number])  # Identify numeric columns \n",
    "# correlation_matrix = numeric_data.corr()              # Compute the correlation matrix\n",
    "# \n",
    "# # Visualization of correlation matrix using a heatmap\n",
    "# sns.heatmap(correlation_matrix, annot=True, cmap='coolwarm')\n",
    "# plt.show()"
   ],
   "metadata": {
    "collapsed": false,
    "ExecuteTime": {
     "end_time": "2024-01-03T04:35:36.811145400Z",
     "start_time": "2024-01-03T04:35:36.731630900Z"
    }
   },
   "id": "1b70578bcee27e99",
   "execution_count": 42
  },
  {
   "cell_type": "code",
   "outputs": [],
   "source": [],
   "metadata": {
    "collapsed": false,
    "ExecuteTime": {
     "end_time": "2024-01-03T04:35:36.811645400Z",
     "start_time": "2024-01-03T04:35:36.747633800Z"
    }
   },
   "id": "c8338b6033a6c8d7",
   "execution_count": 42
  }
 ],
 "metadata": {
  "kernelspec": {
   "display_name": "Python 3",
   "language": "python",
   "name": "python3"
  },
  "language_info": {
   "codemirror_mode": {
    "name": "ipython",
    "version": 2
   },
   "file_extension": ".py",
   "mimetype": "text/x-python",
   "name": "python",
   "nbconvert_exporter": "python",
   "pygments_lexer": "ipython2",
   "version": "2.7.6"
  }
 },
 "nbformat": 4,
 "nbformat_minor": 5
}
