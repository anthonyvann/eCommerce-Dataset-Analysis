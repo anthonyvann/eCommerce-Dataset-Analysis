{
 "cells": [
  {
   "cell_type": "code",
   "execution_count": 7,
   "id": "initial_id",
   "metadata": {
    "collapsed": true,
    "ExecuteTime": {
     "end_time": "2023-12-28T04:40:49.824300Z",
     "start_time": "2023-12-28T04:40:49.805791Z"
    }
   },
   "outputs": [],
   "source": [
    "import pandas as pd\n",
    "import matplotlib.pyplot as plt\n",
    "import seaborn as sns"
   ]
  },
  {
   "cell_type": "code",
   "outputs": [
    {
     "data": {
      "text/plain": "      product_id                                       product_name  \\\n0     B07JW9H4J1  Wayona Nylon Braided USB to Lightning Fast Cha...   \n1     B098NS6PVG  Ambrane Unbreakable 60W / 3A Fast Charging 1.5...   \n2     B096MSW6CT  Sounce Fast Phone Charging Cable & Data Sync U...   \n3     B08HDJ86NZ  boAt Deuce USB 300 2 in 1 Type-C & Micro USB S...   \n4     B08CF3B7N1  Portronics Konnect L 1.2M Fast Charging 3A 8 P...   \n...          ...                                                ...   \n1460  B08L7J3T31  Noir Aqua - 5pcs PP Spun Filter + 1 Spanner | ...   \n1461  B01M6453MB  Prestige Delight PRWO Electric Rice Cooker (1 ...   \n1462  B009P2LIL4  Bajaj Majesty RX10 2000 Watts Heat Convector R...   \n1463  B00J5DYCCA  Havells Ventil Air DSP 230mm Exhaust Fan (Pist...   \n1464  B01486F4G6  Borosil Jumbo 1000-Watt Grill Sandwich Maker (...   \n\n                                               category  discounted_price  \\\n0     Computers&Accessories|Accessories&Peripherals|...              4.79   \n1     Computers&Accessories|Accessories&Peripherals|...              2.39   \n2     Computers&Accessories|Accessories&Peripherals|...              2.39   \n3     Computers&Accessories|Accessories&Peripherals|...              3.95   \n4     Computers&Accessories|Accessories&Peripherals|...              1.85   \n...                                                 ...               ...   \n1460  Home&Kitchen|Kitchen&HomeAppliances|WaterPurif...              4.55   \n1461  Home&Kitchen|Kitchen&HomeAppliances|SmallKitch...             27.36   \n1462  Home&Kitchen|Heating,Cooling&AirQuality|RoomHe...             26.63   \n1463  Home&Kitchen|Heating,Cooling&AirQuality|Fans|E...             16.79   \n1464  Home&Kitchen|Kitchen&HomeAppliances|SmallKitch...             34.36   \n\n      actual_price  discount_percentage  rating  rating_count  \\\n0            13.19                 0.64     4.2       24269.0   \n1             4.19                 0.43     4.0       43994.0   \n2            22.79                 0.90     3.9        7928.0   \n3             8.39                 0.53     4.2       94363.0   \n4             4.79                 0.61     4.2       16905.0   \n...            ...                  ...     ...           ...   \n1460         11.03                 0.59     4.0        1090.0   \n1461         36.54                 0.25     4.1        4118.0   \n1462         36.96                 0.28     3.6         468.0   \n1463         22.68                 0.26     4.0        8031.0   \n1464         44.28                 0.22     4.3        6987.0   \n\n                                          about_product  \\\n0     High Compatibility : Compatible With iPhone 12...   \n1     Compatible with all Type C enabled devices, be...   \n2     【 Fast Charger& Data Sync】-With built-in safet...   \n3     The boAt Deuce USB 300 2 in 1 cable is compati...   \n4     [CHARGE & SYNC FUNCTION]- This cable comes wit...   \n...                                                 ...   \n1460  SUPREME QUALITY 90 GRAM 3 LAYER THIK PP SPUN F...   \n1461                       230 Volts, 400 watts, 1 Year   \n1462  International design and styling|Two heat sett...   \n1463  Fan sweep area: 230 MM ; Noise level: (40 - 45...   \n1464  Brand-Borosil, Specification â€“ 23V ~ 5Hz;1 W...   \n\n                                                user_id  \\\n0     AG3D6O4STAQKAY2UVGEUV46KN35Q,AHMY5CWJMMK5BJRBB...   \n1     AECPFYFQVRUWC3KGNLJIOREFP5LQ,AGYYVPDD7YG7FYNBX...   \n2     AGU3BBQ2V2DDAMOAKGFAWDDQ6QHA,AESFLDV2PT363T2AQ...   \n3     AEWAZDZZJLQUYVOVGBEUKSLXHQ5A,AG5HTSFRRE6NL3M5S...   \n4     AE3Q6KSUK5P75D5HFYHCRAOLODSA,AFUGIFH5ZAFXRDSZH...   \n...                                                 ...   \n1460  AHITFY6AHALOFOHOZEOC6XBP4FEA,AFRABBODZJZQB6Z4U...   \n1461  AFG5FM3NEMOL6BNFRV2NK5FNJCHQ,AGEINTRN6Z563RMLH...   \n1462  AGVPWCMAHYQWJOQKMUJN4DW3KM5Q,AF4Q3E66MY4SR7YQZ...   \n1463  AF2JQCLSCY3QJATWUNNHUSVUPNQQ,AFDMLUXC5LS5RXDJS...   \n1464  AFGW5PT3R6ZAVQR4Y5MWVAKBZAYA,AG7QNJ2SCS5VS5VYY...   \n\n                                              user_name  \\\n0     Manav,Adarsh gupta,Sundeep,S.Sayeed Ahmed,jasp...   \n1     ArdKn,Nirbhay kumar,Sagar Viswanathan,Asp,Plac...   \n2     Kunal,Himanshu,viswanath,sai niharka,saqib mal...   \n3     Omkar dhale,JD,HEMALATHA,Ajwadh a.,amar singh ...   \n4     rahuls6099,Swasat Borah,Ajay Wadke,Pranali,RVK...   \n...                                                 ...   \n1460  Prabha ds,Raghuram bk,Real Deal,Amazon Custome...   \n1461  Manu Bhai,Naveenpittu,Evatira Sangma,JAGANNADH...   \n1462  Nehal Desai,Danish Parwez,Amazon Customer,Amaz...   \n1463  Shubham Dubey,E.GURUBARAN,Mayank S.,eusuf khan...   \n1464  Rajib,Ajay B,Vikas Kahol,PARDEEP,Anindya Prama...   \n\n                                              review_id  \\\n0     R3HXWT0LRP0NMF,R2AJM3LFTLZHFO,R6AQJGUP6P86,R1K...   \n1     RGIQEG07R9HS2,R1SMWZQ86XIN8U,R2J3Y1WL29GWDE,RY...   \n2     R3J3EQQ9TZI5ZJ,R3E7WBGK7ID0KV,RWU79XKQ6I1QF,R2...   \n3     R3EEUZKKK9J36I,R3HJVYCLYOY554,REDECAZ7AMPQC,R1...   \n4     R1BP4L2HH9TFUP,R16PVJEXKV6QZS,R2UPDB81N66T4P,R...   \n...                                                 ...   \n1460  R3G3XFHPBFF0E8,R3C0BZCD32EIGW,R2EBVBCN9QPD9R,R...   \n1461  R3DDL2UPKQ2CK9,R2SYYU1OATVIU5,R1VM993161IYRW,R...   \n1462  R1TLRJVW4STY5I,R2O455KRN493R1,R3Q5MVGBRIAS2G,R...   \n1463  R39Q2Y79MM9SWK,R3079BG1NIH6MB,R29A31ZELTZNJM,R...   \n1464  R20RBRZ0WEUJT9,ROKIFK9R2ISSE,R30EEG2FNJSN5I,R2...   \n\n                                           review_title  \\\n0     Satisfied,Charging is really fast,Value for mo...   \n1     A Good Braided Cable for Your Type C Device,Go...   \n2     Good speed for earlier versions,Good Product,W...   \n3     Good product,Good one,Nice,Really nice product...   \n4     As good as original,Decent,Good one for second...   \n...                                                 ...   \n1460  Received the product without spanner,Excellent...   \n1461  ok,everything was good couldn't return bcoz I ...   \n1462  very good,Work but front melt after 2 month,Go...   \n1463  Fan Speed is slow,Good quality,Good product,go...   \n1464  Works perfect,Ok good product,Nice Product. Re...   \n\n                                         review_content  \\\n0     Looks durable Charging is fine tooNo complains...   \n1     I ordered this cable to connect my phone to An...   \n2     Not quite durable and sturdy,https://m.media-a...   \n3     Good product,long wire,Charges good,Nice,I bou...   \n4     Bought this instead of original apple, does th...   \n...                                                 ...   \n1460  I received product without spanner,Excellent p...   \n1461  ok,got everything as mentioned but the measuri...   \n1462  plastic but cool body ,u have to find sturdy s...   \n1463  I have installed this in my kitchen working fi...   \n1464  It does it job perfectly..only issue is temp c...   \n\n                                               img_link  \\\n0     https://m.media-amazon.com/images/W/WEBP_40237...   \n1     https://m.media-amazon.com/images/W/WEBP_40237...   \n2     https://m.media-amazon.com/images/W/WEBP_40237...   \n3     https://m.media-amazon.com/images/I/41V5FtEWPk...   \n4     https://m.media-amazon.com/images/W/WEBP_40237...   \n...                                                 ...   \n1460  https://m.media-amazon.com/images/I/41fDdRtjfx...   \n1461  https://m.media-amazon.com/images/I/41gzDxk4+k...   \n1462  https://m.media-amazon.com/images/W/WEBP_40237...   \n1463  https://m.media-amazon.com/images/W/WEBP_40237...   \n1464  https://m.media-amazon.com/images/W/WEBP_40237...   \n\n                                           product_link  \n0     https://www.amazon.in/Wayona-Braided-WN3LG1-Sy...  \n1     https://www.amazon.in/Ambrane-Unbreakable-Char...  \n2     https://www.amazon.in/Sounce-iPhone-Charging-C...  \n3     https://www.amazon.in/Deuce-300-Resistant-Tang...  \n4     https://www.amazon.in/Portronics-Konnect-POR-1...  \n...                                                 ...  \n1460  https://www.amazon.in/Noir-Aqua-Spanner-Purifi...  \n1461  https://www.amazon.in/Prestige-Delight-PRWO-1-...  \n1462  https://www.amazon.in/Bajaj-RX-10-2000-Watt-Co...  \n1463  https://www.amazon.in/Havells-Ventilair-230mm-...  \n1464  https://www.amazon.in/Borosil-Jumbo-1000-Watt-...  \n\n[1465 rows x 16 columns]",
      "text/html": "<div>\n<style scoped>\n    .dataframe tbody tr th:only-of-type {\n        vertical-align: middle;\n    }\n\n    .dataframe tbody tr th {\n        vertical-align: top;\n    }\n\n    .dataframe thead th {\n        text-align: right;\n    }\n</style>\n<table border=\"1\" class=\"dataframe\">\n  <thead>\n    <tr style=\"text-align: right;\">\n      <th></th>\n      <th>product_id</th>\n      <th>product_name</th>\n      <th>category</th>\n      <th>discounted_price</th>\n      <th>actual_price</th>\n      <th>discount_percentage</th>\n      <th>rating</th>\n      <th>rating_count</th>\n      <th>about_product</th>\n      <th>user_id</th>\n      <th>user_name</th>\n      <th>review_id</th>\n      <th>review_title</th>\n      <th>review_content</th>\n      <th>img_link</th>\n      <th>product_link</th>\n    </tr>\n  </thead>\n  <tbody>\n    <tr>\n      <th>0</th>\n      <td>B07JW9H4J1</td>\n      <td>Wayona Nylon Braided USB to Lightning Fast Cha...</td>\n      <td>Computers&amp;Accessories|Accessories&amp;Peripherals|...</td>\n      <td>4.79</td>\n      <td>13.19</td>\n      <td>0.64</td>\n      <td>4.2</td>\n      <td>24269.0</td>\n      <td>High Compatibility : Compatible With iPhone 12...</td>\n      <td>AG3D6O4STAQKAY2UVGEUV46KN35Q,AHMY5CWJMMK5BJRBB...</td>\n      <td>Manav,Adarsh gupta,Sundeep,S.Sayeed Ahmed,jasp...</td>\n      <td>R3HXWT0LRP0NMF,R2AJM3LFTLZHFO,R6AQJGUP6P86,R1K...</td>\n      <td>Satisfied,Charging is really fast,Value for mo...</td>\n      <td>Looks durable Charging is fine tooNo complains...</td>\n      <td>https://m.media-amazon.com/images/W/WEBP_40237...</td>\n      <td>https://www.amazon.in/Wayona-Braided-WN3LG1-Sy...</td>\n    </tr>\n    <tr>\n      <th>1</th>\n      <td>B098NS6PVG</td>\n      <td>Ambrane Unbreakable 60W / 3A Fast Charging 1.5...</td>\n      <td>Computers&amp;Accessories|Accessories&amp;Peripherals|...</td>\n      <td>2.39</td>\n      <td>4.19</td>\n      <td>0.43</td>\n      <td>4.0</td>\n      <td>43994.0</td>\n      <td>Compatible with all Type C enabled devices, be...</td>\n      <td>AECPFYFQVRUWC3KGNLJIOREFP5LQ,AGYYVPDD7YG7FYNBX...</td>\n      <td>ArdKn,Nirbhay kumar,Sagar Viswanathan,Asp,Plac...</td>\n      <td>RGIQEG07R9HS2,R1SMWZQ86XIN8U,R2J3Y1WL29GWDE,RY...</td>\n      <td>A Good Braided Cable for Your Type C Device,Go...</td>\n      <td>I ordered this cable to connect my phone to An...</td>\n      <td>https://m.media-amazon.com/images/W/WEBP_40237...</td>\n      <td>https://www.amazon.in/Ambrane-Unbreakable-Char...</td>\n    </tr>\n    <tr>\n      <th>2</th>\n      <td>B096MSW6CT</td>\n      <td>Sounce Fast Phone Charging Cable &amp; Data Sync U...</td>\n      <td>Computers&amp;Accessories|Accessories&amp;Peripherals|...</td>\n      <td>2.39</td>\n      <td>22.79</td>\n      <td>0.90</td>\n      <td>3.9</td>\n      <td>7928.0</td>\n      <td>【 Fast Charger&amp; Data Sync】-With built-in safet...</td>\n      <td>AGU3BBQ2V2DDAMOAKGFAWDDQ6QHA,AESFLDV2PT363T2AQ...</td>\n      <td>Kunal,Himanshu,viswanath,sai niharka,saqib mal...</td>\n      <td>R3J3EQQ9TZI5ZJ,R3E7WBGK7ID0KV,RWU79XKQ6I1QF,R2...</td>\n      <td>Good speed for earlier versions,Good Product,W...</td>\n      <td>Not quite durable and sturdy,https://m.media-a...</td>\n      <td>https://m.media-amazon.com/images/W/WEBP_40237...</td>\n      <td>https://www.amazon.in/Sounce-iPhone-Charging-C...</td>\n    </tr>\n    <tr>\n      <th>3</th>\n      <td>B08HDJ86NZ</td>\n      <td>boAt Deuce USB 300 2 in 1 Type-C &amp; Micro USB S...</td>\n      <td>Computers&amp;Accessories|Accessories&amp;Peripherals|...</td>\n      <td>3.95</td>\n      <td>8.39</td>\n      <td>0.53</td>\n      <td>4.2</td>\n      <td>94363.0</td>\n      <td>The boAt Deuce USB 300 2 in 1 cable is compati...</td>\n      <td>AEWAZDZZJLQUYVOVGBEUKSLXHQ5A,AG5HTSFRRE6NL3M5S...</td>\n      <td>Omkar dhale,JD,HEMALATHA,Ajwadh a.,amar singh ...</td>\n      <td>R3EEUZKKK9J36I,R3HJVYCLYOY554,REDECAZ7AMPQC,R1...</td>\n      <td>Good product,Good one,Nice,Really nice product...</td>\n      <td>Good product,long wire,Charges good,Nice,I bou...</td>\n      <td>https://m.media-amazon.com/images/I/41V5FtEWPk...</td>\n      <td>https://www.amazon.in/Deuce-300-Resistant-Tang...</td>\n    </tr>\n    <tr>\n      <th>4</th>\n      <td>B08CF3B7N1</td>\n      <td>Portronics Konnect L 1.2M Fast Charging 3A 8 P...</td>\n      <td>Computers&amp;Accessories|Accessories&amp;Peripherals|...</td>\n      <td>1.85</td>\n      <td>4.79</td>\n      <td>0.61</td>\n      <td>4.2</td>\n      <td>16905.0</td>\n      <td>[CHARGE &amp; SYNC FUNCTION]- This cable comes wit...</td>\n      <td>AE3Q6KSUK5P75D5HFYHCRAOLODSA,AFUGIFH5ZAFXRDSZH...</td>\n      <td>rahuls6099,Swasat Borah,Ajay Wadke,Pranali,RVK...</td>\n      <td>R1BP4L2HH9TFUP,R16PVJEXKV6QZS,R2UPDB81N66T4P,R...</td>\n      <td>As good as original,Decent,Good one for second...</td>\n      <td>Bought this instead of original apple, does th...</td>\n      <td>https://m.media-amazon.com/images/W/WEBP_40237...</td>\n      <td>https://www.amazon.in/Portronics-Konnect-POR-1...</td>\n    </tr>\n    <tr>\n      <th>...</th>\n      <td>...</td>\n      <td>...</td>\n      <td>...</td>\n      <td>...</td>\n      <td>...</td>\n      <td>...</td>\n      <td>...</td>\n      <td>...</td>\n      <td>...</td>\n      <td>...</td>\n      <td>...</td>\n      <td>...</td>\n      <td>...</td>\n      <td>...</td>\n      <td>...</td>\n      <td>...</td>\n    </tr>\n    <tr>\n      <th>1460</th>\n      <td>B08L7J3T31</td>\n      <td>Noir Aqua - 5pcs PP Spun Filter + 1 Spanner | ...</td>\n      <td>Home&amp;Kitchen|Kitchen&amp;HomeAppliances|WaterPurif...</td>\n      <td>4.55</td>\n      <td>11.03</td>\n      <td>0.59</td>\n      <td>4.0</td>\n      <td>1090.0</td>\n      <td>SUPREME QUALITY 90 GRAM 3 LAYER THIK PP SPUN F...</td>\n      <td>AHITFY6AHALOFOHOZEOC6XBP4FEA,AFRABBODZJZQB6Z4U...</td>\n      <td>Prabha ds,Raghuram bk,Real Deal,Amazon Custome...</td>\n      <td>R3G3XFHPBFF0E8,R3C0BZCD32EIGW,R2EBVBCN9QPD9R,R...</td>\n      <td>Received the product without spanner,Excellent...</td>\n      <td>I received product without spanner,Excellent p...</td>\n      <td>https://m.media-amazon.com/images/I/41fDdRtjfx...</td>\n      <td>https://www.amazon.in/Noir-Aqua-Spanner-Purifi...</td>\n    </tr>\n    <tr>\n      <th>1461</th>\n      <td>B01M6453MB</td>\n      <td>Prestige Delight PRWO Electric Rice Cooker (1 ...</td>\n      <td>Home&amp;Kitchen|Kitchen&amp;HomeAppliances|SmallKitch...</td>\n      <td>27.36</td>\n      <td>36.54</td>\n      <td>0.25</td>\n      <td>4.1</td>\n      <td>4118.0</td>\n      <td>230 Volts, 400 watts, 1 Year</td>\n      <td>AFG5FM3NEMOL6BNFRV2NK5FNJCHQ,AGEINTRN6Z563RMLH...</td>\n      <td>Manu Bhai,Naveenpittu,Evatira Sangma,JAGANNADH...</td>\n      <td>R3DDL2UPKQ2CK9,R2SYYU1OATVIU5,R1VM993161IYRW,R...</td>\n      <td>ok,everything was good couldn't return bcoz I ...</td>\n      <td>ok,got everything as mentioned but the measuri...</td>\n      <td>https://m.media-amazon.com/images/I/41gzDxk4+k...</td>\n      <td>https://www.amazon.in/Prestige-Delight-PRWO-1-...</td>\n    </tr>\n    <tr>\n      <th>1462</th>\n      <td>B009P2LIL4</td>\n      <td>Bajaj Majesty RX10 2000 Watts Heat Convector R...</td>\n      <td>Home&amp;Kitchen|Heating,Cooling&amp;AirQuality|RoomHe...</td>\n      <td>26.63</td>\n      <td>36.96</td>\n      <td>0.28</td>\n      <td>3.6</td>\n      <td>468.0</td>\n      <td>International design and styling|Two heat sett...</td>\n      <td>AGVPWCMAHYQWJOQKMUJN4DW3KM5Q,AF4Q3E66MY4SR7YQZ...</td>\n      <td>Nehal Desai,Danish Parwez,Amazon Customer,Amaz...</td>\n      <td>R1TLRJVW4STY5I,R2O455KRN493R1,R3Q5MVGBRIAS2G,R...</td>\n      <td>very good,Work but front melt after 2 month,Go...</td>\n      <td>plastic but cool body ,u have to find sturdy s...</td>\n      <td>https://m.media-amazon.com/images/W/WEBP_40237...</td>\n      <td>https://www.amazon.in/Bajaj-RX-10-2000-Watt-Co...</td>\n    </tr>\n    <tr>\n      <th>1463</th>\n      <td>B00J5DYCCA</td>\n      <td>Havells Ventil Air DSP 230mm Exhaust Fan (Pist...</td>\n      <td>Home&amp;Kitchen|Heating,Cooling&amp;AirQuality|Fans|E...</td>\n      <td>16.79</td>\n      <td>22.68</td>\n      <td>0.26</td>\n      <td>4.0</td>\n      <td>8031.0</td>\n      <td>Fan sweep area: 230 MM ; Noise level: (40 - 45...</td>\n      <td>AF2JQCLSCY3QJATWUNNHUSVUPNQQ,AFDMLUXC5LS5RXDJS...</td>\n      <td>Shubham Dubey,E.GURUBARAN,Mayank S.,eusuf khan...</td>\n      <td>R39Q2Y79MM9SWK,R3079BG1NIH6MB,R29A31ZELTZNJM,R...</td>\n      <td>Fan Speed is slow,Good quality,Good product,go...</td>\n      <td>I have installed this in my kitchen working fi...</td>\n      <td>https://m.media-amazon.com/images/W/WEBP_40237...</td>\n      <td>https://www.amazon.in/Havells-Ventilair-230mm-...</td>\n    </tr>\n    <tr>\n      <th>1464</th>\n      <td>B01486F4G6</td>\n      <td>Borosil Jumbo 1000-Watt Grill Sandwich Maker (...</td>\n      <td>Home&amp;Kitchen|Kitchen&amp;HomeAppliances|SmallKitch...</td>\n      <td>34.36</td>\n      <td>44.28</td>\n      <td>0.22</td>\n      <td>4.3</td>\n      <td>6987.0</td>\n      <td>Brand-Borosil, Specification â€“ 23V ~ 5Hz;1 W...</td>\n      <td>AFGW5PT3R6ZAVQR4Y5MWVAKBZAYA,AG7QNJ2SCS5VS5VYY...</td>\n      <td>Rajib,Ajay B,Vikas Kahol,PARDEEP,Anindya Prama...</td>\n      <td>R20RBRZ0WEUJT9,ROKIFK9R2ISSE,R30EEG2FNJSN5I,R2...</td>\n      <td>Works perfect,Ok good product,Nice Product. Re...</td>\n      <td>It does it job perfectly..only issue is temp c...</td>\n      <td>https://m.media-amazon.com/images/W/WEBP_40237...</td>\n      <td>https://www.amazon.in/Borosil-Jumbo-1000-Watt-...</td>\n    </tr>\n  </tbody>\n</table>\n<p>1465 rows × 16 columns</p>\n</div>"
     },
     "execution_count": 8,
     "metadata": {},
     "output_type": "execute_result"
    }
   ],
   "source": [
    "# Reading the new csv file into a dataframe\n",
    "df = pd.read_csv(r'./amazon_dataset_modified.csv')\n",
    "df"
   ],
   "metadata": {
    "collapsed": false,
    "ExecuteTime": {
     "end_time": "2023-12-28T04:40:49.971693Z",
     "start_time": "2023-12-28T04:40:49.823528Z"
    }
   },
   "id": "727ad7c7d9c6e848",
   "execution_count": 8
  },
  {
   "cell_type": "code",
   "outputs": [
    {
     "name": "stdout",
     "output_type": "stream",
     "text": [
      "<class 'pandas.core.frame.DataFrame'>\n",
      "RangeIndex: 1465 entries, 0 to 1464\n",
      "Data columns (total 16 columns):\n",
      " #   Column               Non-Null Count  Dtype  \n",
      "---  ------               --------------  -----  \n",
      " 0   product_id           1465 non-null   object \n",
      " 1   product_name         1465 non-null   object \n",
      " 2   category             1465 non-null   object \n",
      " 3   discounted_price     1465 non-null   float64\n",
      " 4   actual_price         1465 non-null   float64\n",
      " 5   discount_percentage  1465 non-null   float64\n",
      " 6   rating               1465 non-null   float64\n",
      " 7   rating_count         1463 non-null   float64\n",
      " 8   about_product        1465 non-null   object \n",
      " 9   user_id              1465 non-null   object \n",
      " 10  user_name            1465 non-null   object \n",
      " 11  review_id            1465 non-null   object \n",
      " 12  review_title         1465 non-null   object \n",
      " 13  review_content       1465 non-null   object \n",
      " 14  img_link             1465 non-null   object \n",
      " 15  product_link         1465 non-null   object \n",
      "dtypes: float64(5), object(11)\n",
      "memory usage: 183.2+ KB\n"
     ]
    }
   ],
   "source": [
    "# Displaying general overview of the current DataFrame.\n",
    "df.info()"
   ],
   "metadata": {
    "collapsed": false,
    "ExecuteTime": {
     "end_time": "2023-12-28T04:41:28.615146Z",
     "start_time": "2023-12-28T04:41:28.606764Z"
    }
   },
   "id": "dc14c68e94b81ff6",
   "execution_count": 9
  },
  {
   "cell_type": "code",
   "outputs": [],
   "source": [],
   "metadata": {
    "collapsed": false
   },
   "id": "5d836060b3c09f7b"
  }
 ],
 "metadata": {
  "kernelspec": {
   "display_name": "Python 3",
   "language": "python",
   "name": "python3"
  },
  "language_info": {
   "codemirror_mode": {
    "name": "ipython",
    "version": 2
   },
   "file_extension": ".py",
   "mimetype": "text/x-python",
   "name": "python",
   "nbconvert_exporter": "python",
   "pygments_lexer": "ipython2",
   "version": "2.7.6"
  }
 },
 "nbformat": 4,
 "nbformat_minor": 5
}
