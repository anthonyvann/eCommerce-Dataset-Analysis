{
 "cells": [
  {
   "cell_type": "markdown",
   "id": "ddea3e6c33f87716",
   "metadata": {
    "collapsed": false
   },
   "source": [
    "***\n",
    "## Import Python Libraries"
   ]
  },
  {
   "cell_type": "code",
   "execution_count": 1,
   "id": "initial_id",
   "metadata": {
    "collapsed": true,
    "ExecuteTime": {
     "end_time": "2024-01-23T00:09:47.887828900Z",
     "start_time": "2024-01-23T00:09:47.515495900Z"
    }
   },
   "outputs": [],
   "source": [
    "import pandas as pd\n",
    "import numpy as np\n",
    "import matplotlib.pyplot as plt\n",
    "import seaborn as sns\n",
    "from textblob import TextBlob\n",
    "from scipy.stats import boxcox\n",
    "from tqdm.notebook import tqdm\n",
    "\n",
    "tqdm.pandas()"
   ]
  },
  {
   "cell_type": "markdown",
   "id": "ba7e9f72cb06219b",
   "metadata": {
    "collapsed": false
   },
   "source": [
    "***\n",
    "## Read the Dataset"
   ]
  },
  {
   "cell_type": "code",
   "execution_count": 2,
   "id": "b5c95118fdd269bb",
   "metadata": {
    "collapsed": false,
    "ExecuteTime": {
     "end_time": "2024-01-23T00:09:47.963843200Z",
     "start_time": "2024-01-23T00:09:47.886828800Z"
    }
   },
   "outputs": [],
   "source": [
    "# Reading the dataset to a DataFrame\n",
    "data = pd.read_csv('./amazon.csv')"
   ]
  },
  {
   "cell_type": "code",
   "execution_count": 3,
   "id": "378e654047c10622",
   "metadata": {
    "collapsed": false,
    "ExecuteTime": {
     "end_time": "2024-01-23T00:09:47.979345700Z",
     "start_time": "2024-01-23T00:09:47.964343Z"
    }
   },
   "outputs": [],
   "source": [
    "# Dropping the index column if it exists in the dataset\n",
    "if 'Unnamed: 0' in data.columns:\n",
    "    data.drop('Unnamed: 0', axis=1, inplace=True)"
   ]
  },
  {
   "cell_type": "markdown",
   "id": "c7996dd8fd719585",
   "metadata": {
    "collapsed": false
   },
   "source": [
    "***\n",
    "## Examine the Data"
   ]
  },
  {
   "cell_type": "code",
   "execution_count": 4,
   "id": "f44ed125c629e34d",
   "metadata": {
    "collapsed": false,
    "ExecuteTime": {
     "end_time": "2024-01-23T00:09:48.015351400Z",
     "start_time": "2024-01-23T00:09:47.979846200Z"
    }
   },
   "outputs": [
    {
     "data": {
      "text/plain": "   product_id                                       product_name  \\\n0  B07JW9H4J1  Wayona Nylon Braided USB to Lightning Fast Cha...   \n1  B098NS6PVG  Ambrane Unbreakable 60W / 3A Fast Charging 1.5...   \n2  B096MSW6CT  Sounce Fast Phone Charging Cable & Data Sync U...   \n3  B08HDJ86NZ  boAt Deuce USB 300 2 in 1 Type-C & Micro USB S...   \n4  B08CF3B7N1  Portronics Konnect L 1.2M Fast Charging 3A 8 P...   \n\n                                            category discounted_price  \\\n0  Computers&Accessories|Accessories&Peripherals|...             ₹399   \n1  Computers&Accessories|Accessories&Peripherals|...             ₹199   \n2  Computers&Accessories|Accessories&Peripherals|...             ₹199   \n3  Computers&Accessories|Accessories&Peripherals|...             ₹329   \n4  Computers&Accessories|Accessories&Peripherals|...             ₹154   \n\n  actual_price discount_percentage rating rating_count  \\\n0       ₹1,099                 64%    4.2       24,269   \n1         ₹349                 43%    4.0       43,994   \n2       ₹1,899                 90%    3.9        7,928   \n3         ₹699                 53%    4.2       94,363   \n4         ₹399                 61%    4.2       16,905   \n\n                                       about_product  \\\n0  High Compatibility : Compatible With iPhone 12...   \n1  Compatible with all Type C enabled devices, be...   \n2  【 Fast Charger& Data Sync】-With built-in safet...   \n3  The boAt Deuce USB 300 2 in 1 cable is compati...   \n4  [CHARGE & SYNC FUNCTION]- This cable comes wit...   \n\n                                             user_id  \\\n0  AG3D6O4STAQKAY2UVGEUV46KN35Q,AHMY5CWJMMK5BJRBB...   \n1  AECPFYFQVRUWC3KGNLJIOREFP5LQ,AGYYVPDD7YG7FYNBX...   \n2  AGU3BBQ2V2DDAMOAKGFAWDDQ6QHA,AESFLDV2PT363T2AQ...   \n3  AEWAZDZZJLQUYVOVGBEUKSLXHQ5A,AG5HTSFRRE6NL3M5S...   \n4  AE3Q6KSUK5P75D5HFYHCRAOLODSA,AFUGIFH5ZAFXRDSZH...   \n\n                                           user_name  \\\n0  Manav,Adarsh gupta,Sundeep,S.Sayeed Ahmed,jasp...   \n1  ArdKn,Nirbhay kumar,Sagar Viswanathan,Asp,Plac...   \n2  Kunal,Himanshu,viswanath,sai niharka,saqib mal...   \n3  Omkar dhale,JD,HEMALATHA,Ajwadh a.,amar singh ...   \n4  rahuls6099,Swasat Borah,Ajay Wadke,Pranali,RVK...   \n\n                                           review_id  \\\n0  R3HXWT0LRP0NMF,R2AJM3LFTLZHFO,R6AQJGUP6P86,R1K...   \n1  RGIQEG07R9HS2,R1SMWZQ86XIN8U,R2J3Y1WL29GWDE,RY...   \n2  R3J3EQQ9TZI5ZJ,R3E7WBGK7ID0KV,RWU79XKQ6I1QF,R2...   \n3  R3EEUZKKK9J36I,R3HJVYCLYOY554,REDECAZ7AMPQC,R1...   \n4  R1BP4L2HH9TFUP,R16PVJEXKV6QZS,R2UPDB81N66T4P,R...   \n\n                                        review_title  \\\n0  Satisfied,Charging is really fast,Value for mo...   \n1  A Good Braided Cable for Your Type C Device,Go...   \n2  Good speed for earlier versions,Good Product,W...   \n3  Good product,Good one,Nice,Really nice product...   \n4  As good as original,Decent,Good one for second...   \n\n                                      review_content  \\\n0  Looks durable Charging is fine tooNo complains...   \n1  I ordered this cable to connect my phone to An...   \n2  Not quite durable and sturdy,https://m.media-a...   \n3  Good product,long wire,Charges good,Nice,I bou...   \n4  Bought this instead of original apple, does th...   \n\n                                            img_link  \\\n0  https://m.media-amazon.com/images/W/WEBP_40237...   \n1  https://m.media-amazon.com/images/W/WEBP_40237...   \n2  https://m.media-amazon.com/images/W/WEBP_40237...   \n3  https://m.media-amazon.com/images/I/41V5FtEWPk...   \n4  https://m.media-amazon.com/images/W/WEBP_40237...   \n\n                                        product_link  \n0  https://www.amazon.in/Wayona-Braided-WN3LG1-Sy...  \n1  https://www.amazon.in/Ambrane-Unbreakable-Char...  \n2  https://www.amazon.in/Sounce-iPhone-Charging-C...  \n3  https://www.amazon.in/Deuce-300-Resistant-Tang...  \n4  https://www.amazon.in/Portronics-Konnect-POR-1...  ",
      "text/html": "<div>\n<style scoped>\n    .dataframe tbody tr th:only-of-type {\n        vertical-align: middle;\n    }\n\n    .dataframe tbody tr th {\n        vertical-align: top;\n    }\n\n    .dataframe thead th {\n        text-align: right;\n    }\n</style>\n<table border=\"1\" class=\"dataframe\">\n  <thead>\n    <tr style=\"text-align: right;\">\n      <th></th>\n      <th>product_id</th>\n      <th>product_name</th>\n      <th>category</th>\n      <th>discounted_price</th>\n      <th>actual_price</th>\n      <th>discount_percentage</th>\n      <th>rating</th>\n      <th>rating_count</th>\n      <th>about_product</th>\n      <th>user_id</th>\n      <th>user_name</th>\n      <th>review_id</th>\n      <th>review_title</th>\n      <th>review_content</th>\n      <th>img_link</th>\n      <th>product_link</th>\n    </tr>\n  </thead>\n  <tbody>\n    <tr>\n      <th>0</th>\n      <td>B07JW9H4J1</td>\n      <td>Wayona Nylon Braided USB to Lightning Fast Cha...</td>\n      <td>Computers&amp;Accessories|Accessories&amp;Peripherals|...</td>\n      <td>₹399</td>\n      <td>₹1,099</td>\n      <td>64%</td>\n      <td>4.2</td>\n      <td>24,269</td>\n      <td>High Compatibility : Compatible With iPhone 12...</td>\n      <td>AG3D6O4STAQKAY2UVGEUV46KN35Q,AHMY5CWJMMK5BJRBB...</td>\n      <td>Manav,Adarsh gupta,Sundeep,S.Sayeed Ahmed,jasp...</td>\n      <td>R3HXWT0LRP0NMF,R2AJM3LFTLZHFO,R6AQJGUP6P86,R1K...</td>\n      <td>Satisfied,Charging is really fast,Value for mo...</td>\n      <td>Looks durable Charging is fine tooNo complains...</td>\n      <td>https://m.media-amazon.com/images/W/WEBP_40237...</td>\n      <td>https://www.amazon.in/Wayona-Braided-WN3LG1-Sy...</td>\n    </tr>\n    <tr>\n      <th>1</th>\n      <td>B098NS6PVG</td>\n      <td>Ambrane Unbreakable 60W / 3A Fast Charging 1.5...</td>\n      <td>Computers&amp;Accessories|Accessories&amp;Peripherals|...</td>\n      <td>₹199</td>\n      <td>₹349</td>\n      <td>43%</td>\n      <td>4.0</td>\n      <td>43,994</td>\n      <td>Compatible with all Type C enabled devices, be...</td>\n      <td>AECPFYFQVRUWC3KGNLJIOREFP5LQ,AGYYVPDD7YG7FYNBX...</td>\n      <td>ArdKn,Nirbhay kumar,Sagar Viswanathan,Asp,Plac...</td>\n      <td>RGIQEG07R9HS2,R1SMWZQ86XIN8U,R2J3Y1WL29GWDE,RY...</td>\n      <td>A Good Braided Cable for Your Type C Device,Go...</td>\n      <td>I ordered this cable to connect my phone to An...</td>\n      <td>https://m.media-amazon.com/images/W/WEBP_40237...</td>\n      <td>https://www.amazon.in/Ambrane-Unbreakable-Char...</td>\n    </tr>\n    <tr>\n      <th>2</th>\n      <td>B096MSW6CT</td>\n      <td>Sounce Fast Phone Charging Cable &amp; Data Sync U...</td>\n      <td>Computers&amp;Accessories|Accessories&amp;Peripherals|...</td>\n      <td>₹199</td>\n      <td>₹1,899</td>\n      <td>90%</td>\n      <td>3.9</td>\n      <td>7,928</td>\n      <td>【 Fast Charger&amp; Data Sync】-With built-in safet...</td>\n      <td>AGU3BBQ2V2DDAMOAKGFAWDDQ6QHA,AESFLDV2PT363T2AQ...</td>\n      <td>Kunal,Himanshu,viswanath,sai niharka,saqib mal...</td>\n      <td>R3J3EQQ9TZI5ZJ,R3E7WBGK7ID0KV,RWU79XKQ6I1QF,R2...</td>\n      <td>Good speed for earlier versions,Good Product,W...</td>\n      <td>Not quite durable and sturdy,https://m.media-a...</td>\n      <td>https://m.media-amazon.com/images/W/WEBP_40237...</td>\n      <td>https://www.amazon.in/Sounce-iPhone-Charging-C...</td>\n    </tr>\n    <tr>\n      <th>3</th>\n      <td>B08HDJ86NZ</td>\n      <td>boAt Deuce USB 300 2 in 1 Type-C &amp; Micro USB S...</td>\n      <td>Computers&amp;Accessories|Accessories&amp;Peripherals|...</td>\n      <td>₹329</td>\n      <td>₹699</td>\n      <td>53%</td>\n      <td>4.2</td>\n      <td>94,363</td>\n      <td>The boAt Deuce USB 300 2 in 1 cable is compati...</td>\n      <td>AEWAZDZZJLQUYVOVGBEUKSLXHQ5A,AG5HTSFRRE6NL3M5S...</td>\n      <td>Omkar dhale,JD,HEMALATHA,Ajwadh a.,amar singh ...</td>\n      <td>R3EEUZKKK9J36I,R3HJVYCLYOY554,REDECAZ7AMPQC,R1...</td>\n      <td>Good product,Good one,Nice,Really nice product...</td>\n      <td>Good product,long wire,Charges good,Nice,I bou...</td>\n      <td>https://m.media-amazon.com/images/I/41V5FtEWPk...</td>\n      <td>https://www.amazon.in/Deuce-300-Resistant-Tang...</td>\n    </tr>\n    <tr>\n      <th>4</th>\n      <td>B08CF3B7N1</td>\n      <td>Portronics Konnect L 1.2M Fast Charging 3A 8 P...</td>\n      <td>Computers&amp;Accessories|Accessories&amp;Peripherals|...</td>\n      <td>₹154</td>\n      <td>₹399</td>\n      <td>61%</td>\n      <td>4.2</td>\n      <td>16,905</td>\n      <td>[CHARGE &amp; SYNC FUNCTION]- This cable comes wit...</td>\n      <td>AE3Q6KSUK5P75D5HFYHCRAOLODSA,AFUGIFH5ZAFXRDSZH...</td>\n      <td>rahuls6099,Swasat Borah,Ajay Wadke,Pranali,RVK...</td>\n      <td>R1BP4L2HH9TFUP,R16PVJEXKV6QZS,R2UPDB81N66T4P,R...</td>\n      <td>As good as original,Decent,Good one for second...</td>\n      <td>Bought this instead of original apple, does th...</td>\n      <td>https://m.media-amazon.com/images/W/WEBP_40237...</td>\n      <td>https://www.amazon.in/Portronics-Konnect-POR-1...</td>\n    </tr>\n  </tbody>\n</table>\n</div>"
     },
     "execution_count": 4,
     "metadata": {},
     "output_type": "execute_result"
    }
   ],
   "source": [
    "# Examining the first 5 rows\n",
    "data.head()"
   ]
  },
  {
   "cell_type": "code",
   "execution_count": 5,
   "id": "eed6aab6a07185a5",
   "metadata": {
    "collapsed": false,
    "ExecuteTime": {
     "end_time": "2024-01-23T00:09:48.031855300Z",
     "start_time": "2024-01-23T00:09:48.010350400Z"
    }
   },
   "outputs": [
    {
     "data": {
      "text/plain": "      product_id                                       product_name  \\\n1460  B08L7J3T31  Noir Aqua - 5pcs PP Spun Filter + 1 Spanner | ...   \n1461  B01M6453MB  Prestige Delight PRWO Electric Rice Cooker (1 ...   \n1462  B009P2LIL4  Bajaj Majesty RX10 2000 Watts Heat Convector R...   \n1463  B00J5DYCCA  Havells Ventil Air DSP 230mm Exhaust Fan (Pist...   \n1464  B01486F4G6  Borosil Jumbo 1000-Watt Grill Sandwich Maker (...   \n\n                                               category discounted_price  \\\n1460  Home&Kitchen|Kitchen&HomeAppliances|WaterPurif...             ₹379   \n1461  Home&Kitchen|Kitchen&HomeAppliances|SmallKitch...           ₹2,280   \n1462  Home&Kitchen|Heating,Cooling&AirQuality|RoomHe...           ₹2,219   \n1463  Home&Kitchen|Heating,Cooling&AirQuality|Fans|E...           ₹1,399   \n1464  Home&Kitchen|Kitchen&HomeAppliances|SmallKitch...           ₹2,863   \n\n     actual_price discount_percentage rating rating_count  \\\n1460         ₹919                 59%      4        1,090   \n1461       ₹3,045                 25%    4.1        4,118   \n1462       ₹3,080                 28%    3.6          468   \n1463       ₹1,890                 26%      4        8,031   \n1464       ₹3,690                 22%    4.3        6,987   \n\n                                          about_product  \\\n1460  SUPREME QUALITY 90 GRAM 3 LAYER THIK PP SPUN F...   \n1461                       230 Volts, 400 watts, 1 Year   \n1462  International design and styling|Two heat sett...   \n1463  Fan sweep area: 230 MM ; Noise level: (40 - 45...   \n1464  Brand-Borosil, Specification â€“ 23V ~ 5Hz;1 W...   \n\n                                                user_id  \\\n1460  AHITFY6AHALOFOHOZEOC6XBP4FEA,AFRABBODZJZQB6Z4U...   \n1461  AFG5FM3NEMOL6BNFRV2NK5FNJCHQ,AGEINTRN6Z563RMLH...   \n1462  AGVPWCMAHYQWJOQKMUJN4DW3KM5Q,AF4Q3E66MY4SR7YQZ...   \n1463  AF2JQCLSCY3QJATWUNNHUSVUPNQQ,AFDMLUXC5LS5RXDJS...   \n1464  AFGW5PT3R6ZAVQR4Y5MWVAKBZAYA,AG7QNJ2SCS5VS5VYY...   \n\n                                              user_name  \\\n1460  Prabha ds,Raghuram bk,Real Deal,Amazon Custome...   \n1461  Manu Bhai,Naveenpittu,Evatira Sangma,JAGANNADH...   \n1462  Nehal Desai,Danish Parwez,Amazon Customer,Amaz...   \n1463  Shubham Dubey,E.GURUBARAN,Mayank S.,eusuf khan...   \n1464  Rajib,Ajay B,Vikas Kahol,PARDEEP,Anindya Prama...   \n\n                                              review_id  \\\n1460  R3G3XFHPBFF0E8,R3C0BZCD32EIGW,R2EBVBCN9QPD9R,R...   \n1461  R3DDL2UPKQ2CK9,R2SYYU1OATVIU5,R1VM993161IYRW,R...   \n1462  R1TLRJVW4STY5I,R2O455KRN493R1,R3Q5MVGBRIAS2G,R...   \n1463  R39Q2Y79MM9SWK,R3079BG1NIH6MB,R29A31ZELTZNJM,R...   \n1464  R20RBRZ0WEUJT9,ROKIFK9R2ISSE,R30EEG2FNJSN5I,R2...   \n\n                                           review_title  \\\n1460  Received the product without spanner,Excellent...   \n1461  ok,everything was good couldn't return bcoz I ...   \n1462  very good,Work but front melt after 2 month,Go...   \n1463  Fan Speed is slow,Good quality,Good product,go...   \n1464  Works perfect,Ok good product,Nice Product. Re...   \n\n                                         review_content  \\\n1460  I received product without spanner,Excellent p...   \n1461  ok,got everything as mentioned but the measuri...   \n1462  plastic but cool body ,u have to find sturdy s...   \n1463  I have installed this in my kitchen working fi...   \n1464  It does it job perfectly..only issue is temp c...   \n\n                                               img_link  \\\n1460  https://m.media-amazon.com/images/I/41fDdRtjfx...   \n1461  https://m.media-amazon.com/images/I/41gzDxk4+k...   \n1462  https://m.media-amazon.com/images/W/WEBP_40237...   \n1463  https://m.media-amazon.com/images/W/WEBP_40237...   \n1464  https://m.media-amazon.com/images/W/WEBP_40237...   \n\n                                           product_link  \n1460  https://www.amazon.in/Noir-Aqua-Spanner-Purifi...  \n1461  https://www.amazon.in/Prestige-Delight-PRWO-1-...  \n1462  https://www.amazon.in/Bajaj-RX-10-2000-Watt-Co...  \n1463  https://www.amazon.in/Havells-Ventilair-230mm-...  \n1464  https://www.amazon.in/Borosil-Jumbo-1000-Watt-...  ",
      "text/html": "<div>\n<style scoped>\n    .dataframe tbody tr th:only-of-type {\n        vertical-align: middle;\n    }\n\n    .dataframe tbody tr th {\n        vertical-align: top;\n    }\n\n    .dataframe thead th {\n        text-align: right;\n    }\n</style>\n<table border=\"1\" class=\"dataframe\">\n  <thead>\n    <tr style=\"text-align: right;\">\n      <th></th>\n      <th>product_id</th>\n      <th>product_name</th>\n      <th>category</th>\n      <th>discounted_price</th>\n      <th>actual_price</th>\n      <th>discount_percentage</th>\n      <th>rating</th>\n      <th>rating_count</th>\n      <th>about_product</th>\n      <th>user_id</th>\n      <th>user_name</th>\n      <th>review_id</th>\n      <th>review_title</th>\n      <th>review_content</th>\n      <th>img_link</th>\n      <th>product_link</th>\n    </tr>\n  </thead>\n  <tbody>\n    <tr>\n      <th>1460</th>\n      <td>B08L7J3T31</td>\n      <td>Noir Aqua - 5pcs PP Spun Filter + 1 Spanner | ...</td>\n      <td>Home&amp;Kitchen|Kitchen&amp;HomeAppliances|WaterPurif...</td>\n      <td>₹379</td>\n      <td>₹919</td>\n      <td>59%</td>\n      <td>4</td>\n      <td>1,090</td>\n      <td>SUPREME QUALITY 90 GRAM 3 LAYER THIK PP SPUN F...</td>\n      <td>AHITFY6AHALOFOHOZEOC6XBP4FEA,AFRABBODZJZQB6Z4U...</td>\n      <td>Prabha ds,Raghuram bk,Real Deal,Amazon Custome...</td>\n      <td>R3G3XFHPBFF0E8,R3C0BZCD32EIGW,R2EBVBCN9QPD9R,R...</td>\n      <td>Received the product without spanner,Excellent...</td>\n      <td>I received product without spanner,Excellent p...</td>\n      <td>https://m.media-amazon.com/images/I/41fDdRtjfx...</td>\n      <td>https://www.amazon.in/Noir-Aqua-Spanner-Purifi...</td>\n    </tr>\n    <tr>\n      <th>1461</th>\n      <td>B01M6453MB</td>\n      <td>Prestige Delight PRWO Electric Rice Cooker (1 ...</td>\n      <td>Home&amp;Kitchen|Kitchen&amp;HomeAppliances|SmallKitch...</td>\n      <td>₹2,280</td>\n      <td>₹3,045</td>\n      <td>25%</td>\n      <td>4.1</td>\n      <td>4,118</td>\n      <td>230 Volts, 400 watts, 1 Year</td>\n      <td>AFG5FM3NEMOL6BNFRV2NK5FNJCHQ,AGEINTRN6Z563RMLH...</td>\n      <td>Manu Bhai,Naveenpittu,Evatira Sangma,JAGANNADH...</td>\n      <td>R3DDL2UPKQ2CK9,R2SYYU1OATVIU5,R1VM993161IYRW,R...</td>\n      <td>ok,everything was good couldn't return bcoz I ...</td>\n      <td>ok,got everything as mentioned but the measuri...</td>\n      <td>https://m.media-amazon.com/images/I/41gzDxk4+k...</td>\n      <td>https://www.amazon.in/Prestige-Delight-PRWO-1-...</td>\n    </tr>\n    <tr>\n      <th>1462</th>\n      <td>B009P2LIL4</td>\n      <td>Bajaj Majesty RX10 2000 Watts Heat Convector R...</td>\n      <td>Home&amp;Kitchen|Heating,Cooling&amp;AirQuality|RoomHe...</td>\n      <td>₹2,219</td>\n      <td>₹3,080</td>\n      <td>28%</td>\n      <td>3.6</td>\n      <td>468</td>\n      <td>International design and styling|Two heat sett...</td>\n      <td>AGVPWCMAHYQWJOQKMUJN4DW3KM5Q,AF4Q3E66MY4SR7YQZ...</td>\n      <td>Nehal Desai,Danish Parwez,Amazon Customer,Amaz...</td>\n      <td>R1TLRJVW4STY5I,R2O455KRN493R1,R3Q5MVGBRIAS2G,R...</td>\n      <td>very good,Work but front melt after 2 month,Go...</td>\n      <td>plastic but cool body ,u have to find sturdy s...</td>\n      <td>https://m.media-amazon.com/images/W/WEBP_40237...</td>\n      <td>https://www.amazon.in/Bajaj-RX-10-2000-Watt-Co...</td>\n    </tr>\n    <tr>\n      <th>1463</th>\n      <td>B00J5DYCCA</td>\n      <td>Havells Ventil Air DSP 230mm Exhaust Fan (Pist...</td>\n      <td>Home&amp;Kitchen|Heating,Cooling&amp;AirQuality|Fans|E...</td>\n      <td>₹1,399</td>\n      <td>₹1,890</td>\n      <td>26%</td>\n      <td>4</td>\n      <td>8,031</td>\n      <td>Fan sweep area: 230 MM ; Noise level: (40 - 45...</td>\n      <td>AF2JQCLSCY3QJATWUNNHUSVUPNQQ,AFDMLUXC5LS5RXDJS...</td>\n      <td>Shubham Dubey,E.GURUBARAN,Mayank S.,eusuf khan...</td>\n      <td>R39Q2Y79MM9SWK,R3079BG1NIH6MB,R29A31ZELTZNJM,R...</td>\n      <td>Fan Speed is slow,Good quality,Good product,go...</td>\n      <td>I have installed this in my kitchen working fi...</td>\n      <td>https://m.media-amazon.com/images/W/WEBP_40237...</td>\n      <td>https://www.amazon.in/Havells-Ventilair-230mm-...</td>\n    </tr>\n    <tr>\n      <th>1464</th>\n      <td>B01486F4G6</td>\n      <td>Borosil Jumbo 1000-Watt Grill Sandwich Maker (...</td>\n      <td>Home&amp;Kitchen|Kitchen&amp;HomeAppliances|SmallKitch...</td>\n      <td>₹2,863</td>\n      <td>₹3,690</td>\n      <td>22%</td>\n      <td>4.3</td>\n      <td>6,987</td>\n      <td>Brand-Borosil, Specification â€“ 23V ~ 5Hz;1 W...</td>\n      <td>AFGW5PT3R6ZAVQR4Y5MWVAKBZAYA,AG7QNJ2SCS5VS5VYY...</td>\n      <td>Rajib,Ajay B,Vikas Kahol,PARDEEP,Anindya Prama...</td>\n      <td>R20RBRZ0WEUJT9,ROKIFK9R2ISSE,R30EEG2FNJSN5I,R2...</td>\n      <td>Works perfect,Ok good product,Nice Product. Re...</td>\n      <td>It does it job perfectly..only issue is temp c...</td>\n      <td>https://m.media-amazon.com/images/W/WEBP_40237...</td>\n      <td>https://www.amazon.in/Borosil-Jumbo-1000-Watt-...</td>\n    </tr>\n  </tbody>\n</table>\n</div>"
     },
     "execution_count": 5,
     "metadata": {},
     "output_type": "execute_result"
    }
   ],
   "source": [
    "# Examining the last 5 rows\n",
    "data.tail()  "
   ]
  },
  {
   "cell_type": "code",
   "execution_count": 6,
   "id": "a6d3ebd848afab0c",
   "metadata": {
    "collapsed": false,
    "ExecuteTime": {
     "end_time": "2024-01-23T00:09:48.085364900Z",
     "start_time": "2024-01-23T00:09:48.026354Z"
    }
   },
   "outputs": [
    {
     "name": "stdout",
     "output_type": "stream",
     "text": [
      "<class 'pandas.core.frame.DataFrame'>\n",
      "RangeIndex: 1465 entries, 0 to 1464\n",
      "Data columns (total 16 columns):\n",
      " #   Column               Non-Null Count  Dtype \n",
      "---  ------               --------------  ----- \n",
      " 0   product_id           1465 non-null   object\n",
      " 1   product_name         1465 non-null   object\n",
      " 2   category             1465 non-null   object\n",
      " 3   discounted_price     1465 non-null   object\n",
      " 4   actual_price         1465 non-null   object\n",
      " 5   discount_percentage  1465 non-null   object\n",
      " 6   rating               1465 non-null   object\n",
      " 7   rating_count         1463 non-null   object\n",
      " 8   about_product        1465 non-null   object\n",
      " 9   user_id              1465 non-null   object\n",
      " 10  user_name            1465 non-null   object\n",
      " 11  review_id            1465 non-null   object\n",
      " 12  review_title         1465 non-null   object\n",
      " 13  review_content       1465 non-null   object\n",
      " 14  img_link             1465 non-null   object\n",
      " 15  product_link         1465 non-null   object\n",
      "dtypes: object(16)\n",
      "memory usage: 183.2+ KB\n"
     ]
    }
   ],
   "source": [
    "# Overview of DataFrame\n",
    "data.info()"
   ]
  },
  {
   "cell_type": "markdown",
   "id": "f51786336c9abaaf",
   "metadata": {
    "collapsed": false
   },
   "source": [
    "***\n",
    "## Check for Duplicates"
   ]
  },
  {
   "cell_type": "code",
   "execution_count": 7,
   "id": "c47a17e5d374041f",
   "metadata": {
    "collapsed": false,
    "ExecuteTime": {
     "end_time": "2024-01-23T00:09:48.315404600Z",
     "start_time": "2024-01-23T00:09:48.057859500Z"
    }
   },
   "outputs": [
    {
     "data": {
      "text/plain": "product_id             1351\nproduct_name           1337\ncategory                211\ndiscounted_price        550\nactual_price            449\ndiscount_percentage      92\nrating                   28\nrating_count           1143\nabout_product          1293\nuser_id                1194\nuser_name              1194\nreview_id              1194\nreview_title           1194\nreview_content         1212\nimg_link               1412\nproduct_link           1465\ndtype: int64"
     },
     "execution_count": 7,
     "metadata": {},
     "output_type": "execute_result"
    }
   ],
   "source": [
    "# Number of unique values\n",
    "data.nunique()"
   ]
  },
  {
   "cell_type": "code",
   "execution_count": 8,
   "id": "34e9118a85ae2e50",
   "metadata": {
    "collapsed": false,
    "ExecuteTime": {
     "end_time": "2024-01-23T00:09:48.378915600Z",
     "start_time": "2024-01-23T00:09:48.088365200Z"
    }
   },
   "outputs": [
    {
     "data": {
      "text/plain": "product_id             0\nproduct_name           0\ncategory               0\ndiscounted_price       0\nactual_price           0\ndiscount_percentage    0\nrating                 0\nrating_count           2\nabout_product          0\nuser_id                0\nuser_name              0\nreview_id              0\nreview_title           0\nreview_content         0\nimg_link               0\nproduct_link           0\ndtype: int64"
     },
     "execution_count": 8,
     "metadata": {},
     "output_type": "execute_result"
    }
   ],
   "source": [
    "# Sum of null values\n",
    "data.isnull().sum()"
   ]
  },
  {
   "cell_type": "code",
   "execution_count": 9,
   "id": "7cbeeb8636480b2c",
   "metadata": {
    "collapsed": false,
    "ExecuteTime": {
     "end_time": "2024-01-23T00:09:48.380915900Z",
     "start_time": "2024-01-23T00:09:48.104367600Z"
    }
   },
   "outputs": [
    {
     "data": {
      "text/plain": "product_id             0.000000\nproduct_name           0.000000\ncategory               0.000000\ndiscounted_price       0.000000\nactual_price           0.000000\ndiscount_percentage    0.000000\nrating                 0.000000\nrating_count           0.136519\nabout_product          0.000000\nuser_id                0.000000\nuser_name              0.000000\nreview_id              0.000000\nreview_title           0.000000\nreview_content         0.000000\nimg_link               0.000000\nproduct_link           0.000000\ndtype: float64"
     },
     "execution_count": 9,
     "metadata": {},
     "output_type": "execute_result"
    }
   ],
   "source": [
    "# Displaying the percentage of null values\n",
    "(data.isnull().sum() / len(data)) * 100"
   ]
  },
  {
   "cell_type": "markdown",
   "id": "5c4a233244726fee",
   "metadata": {
    "collapsed": false
   },
   "source": [
    "***\n",
    "## Data Reduction\n",
    "### To reduce the amount of data in our dataset, by evaluating which column(s) and row(s) do not add value to the analysis.\n",
    "- Columns: Columns that either do not yield any analytical value for pricing trends/consumer preferences or are not useful for the purpose of the analysis (user_id, user_name, img_link, product_link).\n",
    "- Rows: Entries where the main category is not 'Electronics': Simplifies the data so that only electronics-related purchases remain."
   ]
  },
  {
   "cell_type": "code",
   "execution_count": 10,
   "id": "557ebdd7073dd655",
   "metadata": {
    "collapsed": false,
    "ExecuteTime": {
     "end_time": "2024-01-23T00:09:48.382415700Z",
     "start_time": "2024-01-23T00:09:48.120870400Z"
    }
   },
   "outputs": [
    {
     "name": "stdout",
     "output_type": "stream",
     "text": [
      "<class 'pandas.core.frame.DataFrame'>\n",
      "RangeIndex: 1465 entries, 0 to 1464\n",
      "Data columns (total 12 columns):\n",
      " #   Column               Non-Null Count  Dtype \n",
      "---  ------               --------------  ----- \n",
      " 0   product_id           1465 non-null   object\n",
      " 1   product_name         1465 non-null   object\n",
      " 2   category             1465 non-null   object\n",
      " 3   discounted_price     1465 non-null   object\n",
      " 4   actual_price         1465 non-null   object\n",
      " 5   discount_percentage  1465 non-null   object\n",
      " 6   rating               1465 non-null   object\n",
      " 7   rating_count         1463 non-null   object\n",
      " 8   about_product        1465 non-null   object\n",
      " 9   review_id            1465 non-null   object\n",
      " 10  review_title         1465 non-null   object\n",
      " 11  review_content       1465 non-null   object\n",
      "dtypes: object(12)\n",
      "memory usage: 137.5+ KB\n"
     ]
    }
   ],
   "source": [
    "# Dropping unnecessary columns\n",
    "data.drop(['user_id', 'user_name', 'img_link', 'product_link'], axis=1, inplace=True)\n",
    "data.info()"
   ]
  },
  {
   "cell_type": "code",
   "execution_count": 11,
   "id": "7994057dab94bdce",
   "metadata": {
    "collapsed": false,
    "ExecuteTime": {
     "end_time": "2024-01-23T00:09:48.635460300Z",
     "start_time": "2024-01-23T00:09:48.133872100Z"
    }
   },
   "outputs": [
    {
     "name": "stdout",
     "output_type": "stream",
     "text": [
      "<class 'pandas.core.frame.DataFrame'>\n",
      "Index: 526 entries, 12 to 1021\n",
      "Data columns (total 12 columns):\n",
      " #   Column               Non-Null Count  Dtype \n",
      "---  ------               --------------  ----- \n",
      " 0   product_id           526 non-null    object\n",
      " 1   product_name         526 non-null    object\n",
      " 2   category             526 non-null    object\n",
      " 3   discounted_price     526 non-null    object\n",
      " 4   actual_price         526 non-null    object\n",
      " 5   discount_percentage  526 non-null    object\n",
      " 6   rating               526 non-null    object\n",
      " 7   rating_count         526 non-null    object\n",
      " 8   about_product        526 non-null    object\n",
      " 9   review_id            526 non-null    object\n",
      " 10  review_title         526 non-null    object\n",
      " 11  review_content       526 non-null    object\n",
      "dtypes: object(12)\n",
      "memory usage: 53.4+ KB\n"
     ]
    }
   ],
   "source": [
    "for category in data.category.str.split('|'):                            # Dropping rows that are not electronics-related\n",
    "    main_category = category[0]                                          \n",
    "    if main_category != 'Electronics':                                   # Checking if 'Electronics' is not the main category\n",
    "        data = data[data.category.str.contains(main_category) == False]  # Drop the entry where 'Electronics' is not the main category     \n",
    "\n",
    "data.info()"
   ]
  },
  {
   "cell_type": "markdown",
   "id": "cb5d40d8a0c2e493",
   "metadata": {
    "collapsed": false
   },
   "source": [
    "***\n",
    "## Data Cleaning/Wrangling\n",
    "__Columns to Modify:__\n",
    "1. __discounted_price:__ _Remove special characters, convert the currency from INR to USD, and convert the column's data type to numeric._\n",
    "2. __actual_price:__ _Remove special characters, convert the currency from INR to USD, and convert the column's data type to numeric._\n",
    "3. __discount_percentage:__ _Remove special characters, then convert the column's data type to numeric._\n",
    "4. __rating:__ _Convert data type to numeric._\n",
    "5. __rating_count:__ _Convert data type to numeric._"
   ]
  },
  {
   "cell_type": "code",
   "execution_count": 12,
   "id": "7591668691b75c7f",
   "metadata": {
    "collapsed": false,
    "ExecuteTime": {
     "end_time": "2024-01-23T00:09:48.673966900Z",
     "start_time": "2024-01-23T00:09:48.633960200Z"
    }
   },
   "outputs": [
    {
     "data": {
      "text/plain": "    actual_price  discounted_price  discount_percentage\n12          8.40              2.63                 0.69\n16        299.99            167.99                 0.44\n19        263.88            161.88                 0.39\n21          5.99              3.35                 0.44\n22        274.80            161.88                 0.41",
      "text/html": "<div>\n<style scoped>\n    .dataframe tbody tr th:only-of-type {\n        vertical-align: middle;\n    }\n\n    .dataframe tbody tr th {\n        vertical-align: top;\n    }\n\n    .dataframe thead th {\n        text-align: right;\n    }\n</style>\n<table border=\"1\" class=\"dataframe\">\n  <thead>\n    <tr style=\"text-align: right;\">\n      <th></th>\n      <th>actual_price</th>\n      <th>discounted_price</th>\n      <th>discount_percentage</th>\n    </tr>\n  </thead>\n  <tbody>\n    <tr>\n      <th>12</th>\n      <td>8.40</td>\n      <td>2.63</td>\n      <td>0.69</td>\n    </tr>\n    <tr>\n      <th>16</th>\n      <td>299.99</td>\n      <td>167.99</td>\n      <td>0.44</td>\n    </tr>\n    <tr>\n      <th>19</th>\n      <td>263.88</td>\n      <td>161.88</td>\n      <td>0.39</td>\n    </tr>\n    <tr>\n      <th>21</th>\n      <td>5.99</td>\n      <td>3.35</td>\n      <td>0.44</td>\n    </tr>\n    <tr>\n      <th>22</th>\n      <td>274.80</td>\n      <td>161.88</td>\n      <td>0.41</td>\n    </tr>\n  </tbody>\n</table>\n</div>"
     },
     "execution_count": 12,
     "metadata": {},
     "output_type": "execute_result"
    }
   ],
   "source": [
    "# INR to USD conversion and typecasting to type float for actual_price\n",
    "data.actual_price = data.actual_price.replace('[₹,]', '', regex=True).astype(np.float64)\n",
    "data.actual_price = (data.actual_price * .012).round(2)\n",
    "\n",
    "# INR to USD conversion and typecasting to type float for discounted_price\n",
    "data.discounted_price = data.discounted_price.replace('[₹,]', '', regex=True).astype(np.float64)\n",
    "data.discounted_price = (data.discounted_price * .012).round(2)\n",
    "\n",
    "# Converting the discount_percentage column to numeric type\n",
    "data.discount_percentage = ('.' + data.discount_percentage.replace('[%,]', '', regex=True)).astype(np.float64)\n",
    "\n",
    "# Checking the first 5 rows to ensure correct currency and data type conversion\n",
    "data[['actual_price', 'discounted_price', 'discount_percentage']].head()"
   ]
  },
  {
   "cell_type": "code",
   "execution_count": 13,
   "id": "a9d3800f0c1f82b7",
   "metadata": {
    "collapsed": false,
    "ExecuteTime": {
     "end_time": "2024-01-23T00:09:48.700470800Z",
     "start_time": "2024-01-23T00:09:48.661964700Z"
    }
   },
   "outputs": [
    {
     "data": {
      "text/plain": "    rating  rating_count\n12     4.4        426973\n16     4.2         32840\n19     4.3         11976\n21     3.7         10962\n22     4.3         16299",
      "text/html": "<div>\n<style scoped>\n    .dataframe tbody tr th:only-of-type {\n        vertical-align: middle;\n    }\n\n    .dataframe tbody tr th {\n        vertical-align: top;\n    }\n\n    .dataframe thead th {\n        text-align: right;\n    }\n</style>\n<table border=\"1\" class=\"dataframe\">\n  <thead>\n    <tr style=\"text-align: right;\">\n      <th></th>\n      <th>rating</th>\n      <th>rating_count</th>\n    </tr>\n  </thead>\n  <tbody>\n    <tr>\n      <th>12</th>\n      <td>4.4</td>\n      <td>426973</td>\n    </tr>\n    <tr>\n      <th>16</th>\n      <td>4.2</td>\n      <td>32840</td>\n    </tr>\n    <tr>\n      <th>19</th>\n      <td>4.3</td>\n      <td>11976</td>\n    </tr>\n    <tr>\n      <th>21</th>\n      <td>3.7</td>\n      <td>10962</td>\n    </tr>\n    <tr>\n      <th>22</th>\n      <td>4.3</td>\n      <td>16299</td>\n    </tr>\n  </tbody>\n</table>\n</div>"
     },
     "execution_count": 13,
     "metadata": {},
     "output_type": "execute_result"
    }
   ],
   "source": [
    "# Converting the rating column to numeric\n",
    "data.rating = data.rating.astype(np.float64)\n",
    "\n",
    "# Omitting the ',' and converting the rating_count column to numeric\n",
    "data.rating_count = data.rating_count.replace('[,]', '', regex=True).astype(np.int64)\n",
    "\n",
    "# Display the first 5 rows to ensure correct type conversion\n",
    "data[['rating', 'rating_count']].head()"
   ]
  },
  {
   "cell_type": "markdown",
   "id": "40bacbe25f085792",
   "metadata": {
    "collapsed": false
   },
   "source": [
    "***\n",
    "## Feature Engineering\n",
    "1. __Discount Amount__ -- _Calculate the absolute discount amount for each product via subtracting discounted price and actual price._\n",
    "\n",
    "2. __Price-to-Rating Ratio__ -- _A Ratio for providing insights into whether higher-priced items tend to have higher or lower ratings._\n",
    "\n",
    "3. __Sentiment Score of Reviews__ -- _Use of Natural Language Processing to calculate a sentiment score for each review._\n",
    "\n",
    "4. __Category Levels__ -- _Splitting the hierarchical data contained in the category column into separate columns for more detailed category analysis._\n",
    "\n",
    "5. __Price Range Category__ -- _Categorize products into different price ranges for analyzing consumer behavior across various price segments._"
   ]
  },
  {
   "cell_type": "code",
   "execution_count": 14,
   "id": "267e96ea9dccba04",
   "metadata": {
    "collapsed": false,
    "ExecuteTime": {
     "end_time": "2024-01-23T00:09:48.783486700Z",
     "start_time": "2024-01-23T00:09:48.676467800Z"
    }
   },
   "outputs": [
    {
     "data": {
      "text/plain": "12      5.77\n16    132.00\n19    102.00\n21      2.64\n22    112.92\nName: discount_amount, dtype: float64"
     },
     "execution_count": 14,
     "metadata": {},
     "output_type": "execute_result"
    }
   ],
   "source": [
    "# Creating discount amount column\n",
    "data['discount_amount'] = data.actual_price - data.discounted_price\n",
    "data.discount_amount.head()"
   ]
  },
  {
   "cell_type": "code",
   "execution_count": 15,
   "id": "bdf6da3165d9d7c4",
   "metadata": {
    "collapsed": false,
    "ExecuteTime": {
     "end_time": "2024-01-23T00:09:48.786987700Z",
     "start_time": "2024-01-23T00:09:48.691970300Z"
    }
   },
   "outputs": [
    {
     "data": {
      "text/plain": "12     0.597727\n16    39.997619\n19    37.646512\n21     0.905405\n22    37.646512\nName: price_to_rating, dtype: float64"
     },
     "execution_count": 15,
     "metadata": {},
     "output_type": "execute_result"
    }
   ],
   "source": [
    "# Creating price-to-rating column\n",
    "data['price_to_rating'] = data.discounted_price / data.rating\n",
    "data.price_to_rating.head()"
   ]
  },
  {
   "cell_type": "code",
   "execution_count": 16,
   "id": "11dbc24cba120a7c",
   "metadata": {
    "collapsed": false,
    "ExecuteTime": {
     "end_time": "2024-01-23T00:09:49.531617100Z",
     "start_time": "2024-01-23T00:09:48.706973500Z"
    }
   },
   "outputs": [
    {
     "data": {
      "text/plain": "12    0.374790\n16    0.404615\n19    0.378333\n21    0.138056\n22   -0.172245\nName: review_sentiment, dtype: float64"
     },
     "execution_count": 16,
     "metadata": {},
     "output_type": "execute_result"
    }
   ],
   "source": [
    "# Creating sentiment score of reviews\n",
    "data['review_sentiment'] = data.review_content.apply(\n",
    "    lambda content: TextBlob(content).sentiment.polarity\n",
    ")\n",
    "data.review_sentiment.head()"
   ]
  },
  {
   "cell_type": "code",
   "execution_count": 17,
   "id": "5e1b13cab3e5c98b",
   "metadata": {
    "collapsed": false,
    "ExecuteTime": {
     "end_time": "2024-01-23T00:09:49.561622800Z",
     "start_time": "2024-01-23T00:09:49.529116800Z"
    }
   },
   "outputs": [
    {
     "data": {
      "text/plain": "    product_id                                       product_name  \\\n12  B07KSMBL2H  AmazonBasics Flexible Premium HDMI Cable (Blac...   \n16  B0B6F7LX4C  MI 80 cm (32 inches) 5A Series HD Ready Smart ...   \n19  B08DPLCM6T  LG 80 cm (32 inches) HD Ready Smart LED TV 32L...   \n21  B085194JFL  tizum HDMI to VGA Adapter Cable 1080P for Proj...   \n22  B09F6S8BT6  Samsung 80 cm (32 Inches) Wondertainment Serie...   \n\n    discounted_price  actual_price  discount_percentage  rating  rating_count  \\\n12              2.63          8.40                 0.69     4.4        426973   \n16            167.99        299.99                 0.44     4.2         32840   \n19            161.88        263.88                 0.39     4.3         11976   \n21              3.35          5.99                 0.44     3.7         10962   \n22            161.88        274.80                 0.41     4.3         16299   \n\n                                        about_product  \\\n12  Flexible, lightweight HDMI cable for connectin...   \n16  Note : The brands, Mi and Xiaomi, are part of ...   \n19  Resolution: HD Ready (1366x768) | Refresh Rate...   \n21  Superior Stability: Built-in advanced Certifie...   \n22  Resolution: HD Ready (1366x768) | Refresh Rate...   \n\n                                            review_id  \\\n12  R1FKOKZ3HHKJBZ,R2WNMZI1EXTA0H,RCA1M3W4RIXUR,R3...   \n16  R13UTIA6KOF6QV,R2UGDZSGFF01K7,RHHIZ45VYU5X6,R1...   \n19  R2PNR69G0BQG2F,R31A0WWDEYMKEW,R2C4XEWFLVU7JV,R...   \n21  R1GYK05NN6747O,R1J21BZ29NGQF9,R16JCHEILBYOMW,R...   \n22  R1SN0D4DFBKAZI,R1SX5L77L2CD6V,R1NAZ6M4QBUJMK,R...   \n\n                                         review_title  \\\n12  It's quite good and value for money,Works well...   \n16  It is the best tv if you are getting it in 10-...   \n19  Sound quality,Very nice,Value for money,Good,G...   \n21  Good product ; Average Finishing,Save it purpo...   \n22  Good,Sound is very low another brand comparing...   \n\n                                       review_content  discount_amount  \\\n12  I am using it for 14 days now. The experience ...             5.77   \n16  Pros- xiomi 5a is best in budget-Nice picture ...           132.00   \n19  LG was always Good , correct delivery, good se...           102.00   \n21  This connector has provided as a boon for my o...             2.64   \n22  Overall good.,TV picture ok smart betterSound ...           112.92   \n\n    price_to_rating  review_sentiment         main_category sub_category  \\\n12         0.597727          0.374790  HomeTheater,TV&Video  Accessories   \n16        39.997619          0.404615  HomeTheater,TV&Video  Televisions   \n19        37.646512          0.378333  HomeTheater,TV&Video  Televisions   \n21         0.905405          0.138056  HomeTheater,TV&Video  Accessories   \n22        37.646512         -0.172245  HomeTheater,TV&Video  Televisions   \n\n           item_type  \n12            Cables  \n16  SmartTelevisions  \n19  SmartTelevisions  \n21            Cables  \n22  SmartTelevisions  ",
      "text/html": "<div>\n<style scoped>\n    .dataframe tbody tr th:only-of-type {\n        vertical-align: middle;\n    }\n\n    .dataframe tbody tr th {\n        vertical-align: top;\n    }\n\n    .dataframe thead th {\n        text-align: right;\n    }\n</style>\n<table border=\"1\" class=\"dataframe\">\n  <thead>\n    <tr style=\"text-align: right;\">\n      <th></th>\n      <th>product_id</th>\n      <th>product_name</th>\n      <th>discounted_price</th>\n      <th>actual_price</th>\n      <th>discount_percentage</th>\n      <th>rating</th>\n      <th>rating_count</th>\n      <th>about_product</th>\n      <th>review_id</th>\n      <th>review_title</th>\n      <th>review_content</th>\n      <th>discount_amount</th>\n      <th>price_to_rating</th>\n      <th>review_sentiment</th>\n      <th>main_category</th>\n      <th>sub_category</th>\n      <th>item_type</th>\n    </tr>\n  </thead>\n  <tbody>\n    <tr>\n      <th>12</th>\n      <td>B07KSMBL2H</td>\n      <td>AmazonBasics Flexible Premium HDMI Cable (Blac...</td>\n      <td>2.63</td>\n      <td>8.40</td>\n      <td>0.69</td>\n      <td>4.4</td>\n      <td>426973</td>\n      <td>Flexible, lightweight HDMI cable for connectin...</td>\n      <td>R1FKOKZ3HHKJBZ,R2WNMZI1EXTA0H,RCA1M3W4RIXUR,R3...</td>\n      <td>It's quite good and value for money,Works well...</td>\n      <td>I am using it for 14 days now. The experience ...</td>\n      <td>5.77</td>\n      <td>0.597727</td>\n      <td>0.374790</td>\n      <td>HomeTheater,TV&amp;Video</td>\n      <td>Accessories</td>\n      <td>Cables</td>\n    </tr>\n    <tr>\n      <th>16</th>\n      <td>B0B6F7LX4C</td>\n      <td>MI 80 cm (32 inches) 5A Series HD Ready Smart ...</td>\n      <td>167.99</td>\n      <td>299.99</td>\n      <td>0.44</td>\n      <td>4.2</td>\n      <td>32840</td>\n      <td>Note : The brands, Mi and Xiaomi, are part of ...</td>\n      <td>R13UTIA6KOF6QV,R2UGDZSGFF01K7,RHHIZ45VYU5X6,R1...</td>\n      <td>It is the best tv if you are getting it in 10-...</td>\n      <td>Pros- xiomi 5a is best in budget-Nice picture ...</td>\n      <td>132.00</td>\n      <td>39.997619</td>\n      <td>0.404615</td>\n      <td>HomeTheater,TV&amp;Video</td>\n      <td>Televisions</td>\n      <td>SmartTelevisions</td>\n    </tr>\n    <tr>\n      <th>19</th>\n      <td>B08DPLCM6T</td>\n      <td>LG 80 cm (32 inches) HD Ready Smart LED TV 32L...</td>\n      <td>161.88</td>\n      <td>263.88</td>\n      <td>0.39</td>\n      <td>4.3</td>\n      <td>11976</td>\n      <td>Resolution: HD Ready (1366x768) | Refresh Rate...</td>\n      <td>R2PNR69G0BQG2F,R31A0WWDEYMKEW,R2C4XEWFLVU7JV,R...</td>\n      <td>Sound quality,Very nice,Value for money,Good,G...</td>\n      <td>LG was always Good , correct delivery, good se...</td>\n      <td>102.00</td>\n      <td>37.646512</td>\n      <td>0.378333</td>\n      <td>HomeTheater,TV&amp;Video</td>\n      <td>Televisions</td>\n      <td>SmartTelevisions</td>\n    </tr>\n    <tr>\n      <th>21</th>\n      <td>B085194JFL</td>\n      <td>tizum HDMI to VGA Adapter Cable 1080P for Proj...</td>\n      <td>3.35</td>\n      <td>5.99</td>\n      <td>0.44</td>\n      <td>3.7</td>\n      <td>10962</td>\n      <td>Superior Stability: Built-in advanced Certifie...</td>\n      <td>R1GYK05NN6747O,R1J21BZ29NGQF9,R16JCHEILBYOMW,R...</td>\n      <td>Good product ; Average Finishing,Save it purpo...</td>\n      <td>This connector has provided as a boon for my o...</td>\n      <td>2.64</td>\n      <td>0.905405</td>\n      <td>0.138056</td>\n      <td>HomeTheater,TV&amp;Video</td>\n      <td>Accessories</td>\n      <td>Cables</td>\n    </tr>\n    <tr>\n      <th>22</th>\n      <td>B09F6S8BT6</td>\n      <td>Samsung 80 cm (32 Inches) Wondertainment Serie...</td>\n      <td>161.88</td>\n      <td>274.80</td>\n      <td>0.41</td>\n      <td>4.3</td>\n      <td>16299</td>\n      <td>Resolution: HD Ready (1366x768) | Refresh Rate...</td>\n      <td>R1SN0D4DFBKAZI,R1SX5L77L2CD6V,R1NAZ6M4QBUJMK,R...</td>\n      <td>Good,Sound is very low another brand comparing...</td>\n      <td>Overall good.,TV picture ok smart betterSound ...</td>\n      <td>112.92</td>\n      <td>37.646512</td>\n      <td>-0.172245</td>\n      <td>HomeTheater,TV&amp;Video</td>\n      <td>Televisions</td>\n      <td>SmartTelevisions</td>\n    </tr>\n  </tbody>\n</table>\n</div>"
     },
     "execution_count": 17,
     "metadata": {},
     "output_type": "execute_result"
    }
   ],
   "source": [
    "# Splitting the categories\n",
    "split_categories = data.category.str.split('|', expand=True)\n",
    "\n",
    "# Assigning new columns to the DataFrame\n",
    "data['main_category'] = split_categories[1]  # All entries are electronics, so the new main category is the first sub-category in the hierarchy\n",
    "data['sub_category'] = split_categories[2]\n",
    "data['item_type'] = split_categories[3]\n",
    "\n",
    "# Dropping the original 'category' column as it's no longer needed\n",
    "data.drop('category', axis=1, inplace=True)\n",
    "data.head()"
   ]
  },
  {
   "cell_type": "code",
   "execution_count": 18,
   "id": "7e4bb4159c325d42",
   "metadata": {
    "collapsed": false,
    "ExecuteTime": {
     "end_time": "2024-01-23T00:09:49.578625100Z",
     "start_time": "2024-01-23T00:09:49.559622Z"
    }
   },
   "outputs": [
    {
     "data": {
      "text/plain": "12    Very Low\n16      Medium\n19      Medium\n21    Very Low\n22      Medium\nName: price_range, dtype: category\nCategories (5, object): ['Very Low' < 'Low' < 'Medium' < 'High' < 'Very High']"
     },
     "execution_count": 18,
     "metadata": {},
     "output_type": "execute_result"
    }
   ],
   "source": [
    "# Creating price range column\n",
    "data['price_range'] = pd.cut(\n",
    "    data.discounted_price, \n",
    "    bins=[0, 50, 100, 500, 1000, np.inf], \n",
    "    labels=['Very Low', 'Low', 'Medium', 'High', 'Very High']\n",
    ")\n",
    "data.price_range.head()"
   ]
  },
  {
   "cell_type": "code",
   "execution_count": 19,
   "id": "37c29e0cf0a5d911",
   "metadata": {
    "collapsed": false,
    "ExecuteTime": {
     "end_time": "2024-01-23T00:09:49.634636200Z",
     "start_time": "2024-01-23T00:09:49.576125200Z"
    }
   },
   "outputs": [
    {
     "data": {
      "text/plain": "    discount_amount  price_to_rating  review_sentiment         main_category  \\\n12             5.77         0.597727          0.374790  HomeTheater,TV&Video   \n16           132.00        39.997619          0.404615  HomeTheater,TV&Video   \n19           102.00        37.646512          0.378333  HomeTheater,TV&Video   \n21             2.64         0.905405          0.138056  HomeTheater,TV&Video   \n22           112.92        37.646512         -0.172245  HomeTheater,TV&Video   \n\n   sub_category         item_type price_range  \n12  Accessories            Cables    Very Low  \n16  Televisions  SmartTelevisions      Medium  \n19  Televisions  SmartTelevisions      Medium  \n21  Accessories            Cables    Very Low  \n22  Televisions  SmartTelevisions      Medium  ",
      "text/html": "<div>\n<style scoped>\n    .dataframe tbody tr th:only-of-type {\n        vertical-align: middle;\n    }\n\n    .dataframe tbody tr th {\n        vertical-align: top;\n    }\n\n    .dataframe thead th {\n        text-align: right;\n    }\n</style>\n<table border=\"1\" class=\"dataframe\">\n  <thead>\n    <tr style=\"text-align: right;\">\n      <th></th>\n      <th>discount_amount</th>\n      <th>price_to_rating</th>\n      <th>review_sentiment</th>\n      <th>main_category</th>\n      <th>sub_category</th>\n      <th>item_type</th>\n      <th>price_range</th>\n    </tr>\n  </thead>\n  <tbody>\n    <tr>\n      <th>12</th>\n      <td>5.77</td>\n      <td>0.597727</td>\n      <td>0.374790</td>\n      <td>HomeTheater,TV&amp;Video</td>\n      <td>Accessories</td>\n      <td>Cables</td>\n      <td>Very Low</td>\n    </tr>\n    <tr>\n      <th>16</th>\n      <td>132.00</td>\n      <td>39.997619</td>\n      <td>0.404615</td>\n      <td>HomeTheater,TV&amp;Video</td>\n      <td>Televisions</td>\n      <td>SmartTelevisions</td>\n      <td>Medium</td>\n    </tr>\n    <tr>\n      <th>19</th>\n      <td>102.00</td>\n      <td>37.646512</td>\n      <td>0.378333</td>\n      <td>HomeTheater,TV&amp;Video</td>\n      <td>Televisions</td>\n      <td>SmartTelevisions</td>\n      <td>Medium</td>\n    </tr>\n    <tr>\n      <th>21</th>\n      <td>2.64</td>\n      <td>0.905405</td>\n      <td>0.138056</td>\n      <td>HomeTheater,TV&amp;Video</td>\n      <td>Accessories</td>\n      <td>Cables</td>\n      <td>Very Low</td>\n    </tr>\n    <tr>\n      <th>22</th>\n      <td>112.92</td>\n      <td>37.646512</td>\n      <td>-0.172245</td>\n      <td>HomeTheater,TV&amp;Video</td>\n      <td>Televisions</td>\n      <td>SmartTelevisions</td>\n      <td>Medium</td>\n    </tr>\n  </tbody>\n</table>\n</div>"
     },
     "execution_count": 19,
     "metadata": {},
     "output_type": "execute_result"
    }
   ],
   "source": [
    "# Display the first 5 rows of the newly added columns\n",
    "data.loc[:, 'discount_amount': 'price_range'].head()"
   ]
  },
  {
   "cell_type": "code",
   "execution_count": 20,
   "id": "e865b0a24843af7",
   "metadata": {
    "collapsed": false,
    "ExecuteTime": {
     "end_time": "2024-01-23T00:09:49.694145700Z",
     "start_time": "2024-01-23T00:09:49.591627500Z"
    }
   },
   "outputs": [
    {
     "name": "stdout",
     "output_type": "stream",
     "text": [
      "<class 'pandas.core.frame.DataFrame'>\n",
      "Index: 526 entries, 12 to 1021\n",
      "Data columns (total 18 columns):\n",
      " #   Column               Non-Null Count  Dtype   \n",
      "---  ------               --------------  -----   \n",
      " 0   product_id           526 non-null    object  \n",
      " 1   product_name         526 non-null    object  \n",
      " 2   discounted_price     526 non-null    float64 \n",
      " 3   actual_price         526 non-null    float64 \n",
      " 4   discount_percentage  526 non-null    float64 \n",
      " 5   rating               526 non-null    float64 \n",
      " 6   rating_count         526 non-null    int64   \n",
      " 7   about_product        526 non-null    object  \n",
      " 8   review_id            526 non-null    object  \n",
      " 9   review_title         526 non-null    object  \n",
      " 10  review_content       526 non-null    object  \n",
      " 11  discount_amount      526 non-null    float64 \n",
      " 12  price_to_rating      526 non-null    float64 \n",
      " 13  review_sentiment     526 non-null    float64 \n",
      " 14  main_category        526 non-null    object  \n",
      " 15  sub_category         522 non-null    object  \n",
      " 16  item_type            426 non-null    object  \n",
      " 17  price_range          526 non-null    category\n",
      "dtypes: category(1), float64(7), int64(1), object(9)\n",
      "memory usage: 74.7+ KB\n"
     ]
    }
   ],
   "source": [
    "# Display the DataFrame overview after modifications\n",
    "data.info()"
   ]
  },
  {
   "cell_type": "markdown",
   "id": "707a17bf05143ed",
   "metadata": {
    "collapsed": false
   },
   "source": [
    "***\n",
    "## Examine the Summary Statistics"
   ]
  },
  {
   "cell_type": "code",
   "execution_count": 21,
   "id": "3e51b46cb6a60273",
   "metadata": {
    "collapsed": false,
    "ExecuteTime": {
     "end_time": "2024-01-23T00:09:49.745155600Z",
     "start_time": "2024-01-23T00:09:49.621633Z"
    }
   },
   "outputs": [
    {
     "data": {
      "text/plain": "                     count          mean           std      min          25%  \\\ndiscounted_price     526.0     71.592281    123.355962  0.95000     4.790000   \nactual_price         526.0    121.529163    185.949093  2.05000    11.990000   \ndiscount_percentage  526.0      0.513935      0.215104  0.00000     0.330000   \nrating               526.0      4.081749      0.269620  2.80000     3.900000   \nrating_count         526.0  29997.809886  61729.576162  7.00000  1780.750000   \ndiscount_amount      526.0     49.936882     74.678232  0.00000     6.030000   \nprice_to_rating      526.0     17.161539     28.942950  0.22619     1.199018   \nreview_sentiment     526.0      0.253879      0.129216 -0.60000     0.172830   \n\n                              50%           75%            max  \ndiscounted_price        16.790000     86.690000     935.880000  \nactual_price            38.395000    154.490000    1678.800000  \ndiscount_percentage      0.540000      0.690000       0.910000  \nrating                   4.100000      4.300000       4.700000  \nrating_count         10689.000000  27970.000000  426973.000000  \ndiscount_amount         19.625000     65.890000     742.920000  \nprice_to_rating          4.283333     21.868902     199.123404  \nreview_sentiment         0.239082      0.328446       1.000000  ",
      "text/html": "<div>\n<style scoped>\n    .dataframe tbody tr th:only-of-type {\n        vertical-align: middle;\n    }\n\n    .dataframe tbody tr th {\n        vertical-align: top;\n    }\n\n    .dataframe thead th {\n        text-align: right;\n    }\n</style>\n<table border=\"1\" class=\"dataframe\">\n  <thead>\n    <tr style=\"text-align: right;\">\n      <th></th>\n      <th>count</th>\n      <th>mean</th>\n      <th>std</th>\n      <th>min</th>\n      <th>25%</th>\n      <th>50%</th>\n      <th>75%</th>\n      <th>max</th>\n    </tr>\n  </thead>\n  <tbody>\n    <tr>\n      <th>discounted_price</th>\n      <td>526.0</td>\n      <td>71.592281</td>\n      <td>123.355962</td>\n      <td>0.95000</td>\n      <td>4.790000</td>\n      <td>16.790000</td>\n      <td>86.690000</td>\n      <td>935.880000</td>\n    </tr>\n    <tr>\n      <th>actual_price</th>\n      <td>526.0</td>\n      <td>121.529163</td>\n      <td>185.949093</td>\n      <td>2.05000</td>\n      <td>11.990000</td>\n      <td>38.395000</td>\n      <td>154.490000</td>\n      <td>1678.800000</td>\n    </tr>\n    <tr>\n      <th>discount_percentage</th>\n      <td>526.0</td>\n      <td>0.513935</td>\n      <td>0.215104</td>\n      <td>0.00000</td>\n      <td>0.330000</td>\n      <td>0.540000</td>\n      <td>0.690000</td>\n      <td>0.910000</td>\n    </tr>\n    <tr>\n      <th>rating</th>\n      <td>526.0</td>\n      <td>4.081749</td>\n      <td>0.269620</td>\n      <td>2.80000</td>\n      <td>3.900000</td>\n      <td>4.100000</td>\n      <td>4.300000</td>\n      <td>4.700000</td>\n    </tr>\n    <tr>\n      <th>rating_count</th>\n      <td>526.0</td>\n      <td>29997.809886</td>\n      <td>61729.576162</td>\n      <td>7.00000</td>\n      <td>1780.750000</td>\n      <td>10689.000000</td>\n      <td>27970.000000</td>\n      <td>426973.000000</td>\n    </tr>\n    <tr>\n      <th>discount_amount</th>\n      <td>526.0</td>\n      <td>49.936882</td>\n      <td>74.678232</td>\n      <td>0.00000</td>\n      <td>6.030000</td>\n      <td>19.625000</td>\n      <td>65.890000</td>\n      <td>742.920000</td>\n    </tr>\n    <tr>\n      <th>price_to_rating</th>\n      <td>526.0</td>\n      <td>17.161539</td>\n      <td>28.942950</td>\n      <td>0.22619</td>\n      <td>1.199018</td>\n      <td>4.283333</td>\n      <td>21.868902</td>\n      <td>199.123404</td>\n    </tr>\n    <tr>\n      <th>review_sentiment</th>\n      <td>526.0</td>\n      <td>0.253879</td>\n      <td>0.129216</td>\n      <td>-0.60000</td>\n      <td>0.172830</td>\n      <td>0.239082</td>\n      <td>0.328446</td>\n      <td>1.000000</td>\n    </tr>\n  </tbody>\n</table>\n</div>"
     },
     "execution_count": 21,
     "metadata": {},
     "output_type": "execute_result"
    }
   ],
   "source": [
    "# Display the summary statistics transposed\n",
    "data.describe().T"
   ]
  },
  {
   "cell_type": "markdown",
   "id": "5c24662c52724f03",
   "metadata": {
    "collapsed": false
   },
   "source": [
    "***\n",
    "## Inferred Findings from Summary Statistics\n",
    "- __Discounted Price:__\n",
    "    - The average discounted price of electronic items is approximately &#36;71.59.\n",
    "    - The price range varies greatly, with a standard deviation of about &#36;123.36, indicating significant variability in discounted prices.\n",
    "    - The minimum discounted price is just &#36;0.95, while the maximum is &#36;935.88.\n",
    "    - The median (50% percentile) discounted price is &#36;16.79, which is considerably lower than the average, suggesting a skew towards lower-priced items.\n",
    "- __Actual Price:__\n",
    "    - The average actual (non-discounted) price is around &#36;121.53.\n",
    "    - There is significant variation in actual prices, with a standard deviation of &#36;185.95.\n",
    "    - The actual prices range from &#36;2.05 to &#36;1678.80.\n",
    "    - The median actual price is &#36;38.39, which is much lower than the average, indicating a skew towards more affordable items.\n",
    "- __Discount Percenage:__\n",
    "    - The average discount on electronics is about 51.39%.\n",
    "    - The discounts vary, with a standard deviation of 21.51%.\n",
    "    - Discounts range from 0% (no discount) to 91%.\n",
    "    - The median discount percentage is 54%, suggesting that more than half of the items have discounts equal to or greater than 54%.\n",
    "- __Rating:__\n",
    "    - The average rating for the electronics is approximately 4.08 out of 5, indicating generally favorable reviews.\n",
    "    - The ratings show lesser variability, with a standard deviation of 0.27.\n",
    "    - Ratings range from a low of 2.8 to a high of 4.7.\n",
    "    - The median rating is 4.1, which is very close to the average, suggesting a fairly normal distribution of ratings.\n",
    "- __Rating Count:__\n",
    "    - On average, products have about 29,997.81 ratings, but this number is highly variable (standard deviation of 61,729.58).\n",
    "    - The rating counts range from as low as 7 to as high as 426,973.\n",
    "    - The median rating count is 10,689, indicating that while some products have extremely high numbers of ratings, most have a more modest count.\n",
    "- __Discount Amount:__\n",
    "    - The average discount amount on the electronics is approximately &#36;49.94.\n",
    "    - There is significant variation in the discount amounts, with a standard deviation of about &#36;74.68.\n",
    "    - The discount amounts range from &#36;0 (no discount) to &#36;742.92.\n",
    "    - The median discount is &#36;19.63, suggesting that half of the items have discounts less than this value, indicating a wide range in discount amounts.\n",
    "- __Price to Rating Ratio:__\n",
    "    - The average price-to-rating ratio is about &#36;17.16. This ratio indicates how much customers are paying per rating point (e.g., per star).\n",
    "    - The ratio varies widely among products (standard deviation of about &#36;28.94).\n",
    "    - The ratio ranges from &#36;0.23 to &#36;199.12, indicating some products offer more value per rating point than others.\n",
    "    - The mean ratio is &#36;4.28, significantly lower than the average, which may suggest that many prodcuts offer good value for their ratings (lower cost per rating point).\n",
    "- __Review Sentiment:__\n",
    "    - The average review sentiment score is approximately 0.25, on a scale where higher positive values indicate more positive sentiment in reviews.\n",
    "    - The standard deviation is 0.13, showing a moderate spread in sentiment.\n",
    "    - Sentiment scores range from -0.60 (negative sentiment) to 1.00 (highly positive sentiment).\n",
    "    - The median sentiment score is around 0.24, closely aligning with the average, suggesting a fairly normal distribution of sentiment scores.\n",
    "    - The range from -0.6 to 1.0 indicates that some reviews are negative, although the majority are likely to be positive given the positive mean.\n",
    "\n",
    "These findings offer a comprehensive overview of the consumer electronics purchase trends on Amazon, highlighting aspects like pricing strategies (discounts), product popularity (ratings and rating count), and the range of products available (from very cheap to expensive). The data suggests a market that caters to a wide range of consumer preferences and budgets, with a general inclination towards more affordable and highly rated items.\n",
    "***"
   ]
  },
  {
   "cell_type": "markdown",
   "id": "10ba4873e4532199",
   "metadata": {
    "collapsed": false
   },
   "source": [
    "***\n",
    "## EDA Univariate Analysis"
   ]
  },
  {
   "cell_type": "code",
   "execution_count": null,
   "id": "bde0401b099f12e",
   "metadata": {
    "collapsed": false,
    "is_executing": true,
    "ExecuteTime": {
     "start_time": "2024-01-23T00:09:49.655638600Z"
    }
   },
   "outputs": [
    {
     "name": "stdout",
     "output_type": "stream",
     "text": [
      "discounted_price (right skewed: 2.74)\n"
     ]
    }
   ],
   "source": [
    "# Identifying the numerical columns\n",
    "numerical_columns = data.select_dtypes(include=np.number).columns.tolist()\n",
    "\n",
    "# Univariate Analysis Visualization\n",
    "for col in numerical_columns:\n",
    "    skewness = round(data[col].skew(), 2)\n",
    "    if skewness > 0:\n",
    "        print(f\"{col} (right skewed: {skewness})\")\n",
    "    elif skewness < 0:\n",
    "        print(f\"{col} (left skewed: {skewness})\")\n",
    "    else:\n",
    "        print(f\"{col} (normal distribution)\")\n",
    "        \n",
    "    plt.figure(figsize=(10, 6))\n",
    "    \n",
    "    # Histogram\n",
    "    plt.subplot(1, 3, 1)\n",
    "    sns.histplot(data[col], kde=False)\n",
    "    plt.title(f\"Histogram of {col}\")\n",
    "    \n",
    "    # Density Plot\n",
    "    plt.subplot(1, 3, 2)\n",
    "    sns.kdeplot(data[col], fill=True)\n",
    "    plt.title(f\"Density Plot of {col}\")\n",
    "    \n",
    "    # Box Plot\n",
    "    plt.subplot(1, 3, 3)\n",
    "    sns.boxplot(y=data[col])\n",
    "    plt.title(f\"Box Plot of {col}\")\n",
    "    \n",
    "    plt.tight_layout()\n",
    "    plt.show()\n"
   ]
  },
  {
   "cell_type": "code",
   "execution_count": null,
   "id": "a113bbdbe673f435",
   "metadata": {
    "collapsed": false,
    "is_executing": true
   },
   "outputs": [],
   "source": [
    "# Visualization of univariate analysis on categorical columns\n",
    "for col in ['main_category', 'sub_category', 'item_type', 'price_range']:\n",
    "    plt.figure(figsize=(10, 6))\n",
    "    sns.countplot(y=col, data=data, order=data[col].value_counts().index)\n",
    "    plt.title(f\"Distribution of {col}\".upper())\n",
    "    plt.xlabel('count')\n",
    "    plt.ylabel(col)\n",
    "    plt.tight_layout()\n",
    "    plt.show()"
   ]
  },
  {
   "cell_type": "code",
   "execution_count": null,
   "id": "1b8f7037b834b656",
   "metadata": {
    "collapsed": false,
    "is_executing": true
   },
   "outputs": [],
   "source": [
    "def show_column_percentages(data: pd.DataFrame, columns: [str]) -> None:\n",
    "    \"\"\"\n",
    "    Function to display the percentages of each of the provided columns.\n",
    "    \"\"\"\n",
    "    for col in columns:\n",
    "        # DataFrame containing value counts and percentage info\n",
    "        percentage_df = pd.DataFrame(data=data[col].value_counts())\n",
    "\n",
    "        # Divide the count of each category/item-type by  sum of all counts\n",
    "        percentage_df['percent_of_column'] = percentage_df['count'] / percentage_df['count'].sum()\n",
    "        percentage_df['percent_of_column'] = percentage_df['percent_of_column'].round(2)\n",
    "        \n",
    "        # Divide the count of each category/item-type name by  total number of entries in the electronics dataset\n",
    "        percentage_df['percent_of_all_data'] = percentage_df['count'] / data.shape[0]\n",
    "        percentage_df['percent_of_all_data'] = percentage_df['percent_of_all_data'].round(2)\n",
    "        \n",
    "        print(f\"{percentage_df.head()}\\n{'-' * 77}\")\n",
    "        "
   ]
  },
  {
   "cell_type": "code",
   "execution_count": null,
   "id": "a8c2863d52df7b67",
   "metadata": {
    "collapsed": false,
    "is_executing": true
   },
   "outputs": [],
   "source": [
    "# Display the percentage of each category/item-type entry of the dataset\n",
    "show_column_percentages(data=data, columns=['main_category', 'sub_category', 'item_type', 'price_range'])"
   ]
  },
  {
   "cell_type": "markdown",
   "id": "76b98f5dc74f9237",
   "metadata": {
    "collapsed": false
   },
   "source": [
    "***\n",
    "## Interpretations\n",
    "- __Main Category__:\n",
    "    - The most prominent categories are `Home Theater, TV & Video` and `Mobiles&Accessories` with each comprising of 31% of all electronics-related purchases.\n",
    "    - `Wearable Technology` has a significant presence as well, comprising of 14% of all electronics purchases, but is less than half as prominent as the leading categories.\n",
    "    - The distribution is not uniform, indicating that certain categories of electronics are more popular or have greater variation in products offered.\n",
    "- __Sub-Category__:\n",
    "    - `Accessories` is the most common sub-category, accounting for 19% within its column and 18% of all data.\n",
    "    - Following closely are `Mobile Accessories` and `Smartphones & Basic Mobiles`, each with a significant presence in the dataset.\n",
    "    - `SmartWatches` and `Televisions` also have notable counts, suggesting these are popular sub-categories within the electronics segment on Amazon\n",
    "- __Item Type__:\n",
    "    - `Smartphones` lead the item types with 16% share within its column and a 13% share of all data.\n",
    "    - `Smart Televesions` and `In-Ear` type products like earphones are also among the top item types, with `Smart Televisions` having a slightly lesser count than `Smartphones`.\n",
    "    - There is a rapid drop-off in count after the \"Smartphones\" category, with categories like \"Remote Controls,\" \"Chargers,\" and \"Cases\" following but with considerably fewer counts.\n",
    "    - The distribution is heavily skewed towards \"Smartphones,\" with all other categories having significantly fewer listings.\n",
    "    - The histogram demonstrates a long tail distribution, where a small number of categories have high counts and a large number of categories have low counts.\n",
    "- __Price Range__:\n",
    "    - The price range `Very Low` has the highest count, with 378 items, making up 72% of the total data. This dominance in the distribution suggests that the majority of consumer electronics purchased on Amazon are in the most affordable price bracket. This could indicate a market that is highly price-sensitive or a large number of lower-cost items such as accessories or small electronics.\n",
    "    - The `Medium` price range, with 115 items, accounts for 22% of the data. While still a significant portion, it's notably less than the `Very Low` range, indicating that while there's a market for mid-range products, it's considerably smaller than that for low-cost items.\n",
    "    - The `High` price range is represented by just 9 items, which is 2% of the data. This small figure indicates that high-priced items are less common and likely represent a niche market with fewer buyers or less frequent purchases.\n",
    "    - There are no items in the `Very High` price range, which is 0% of the data. This absence could be due to the dataset not including luxury or high-end electronics, or it could reflect a very limited market for such high-priced items on Amazon.\n",
    "\n",
    "Amazon's consumer electronics market is primarily driven by affordable and mid-range priced items, with a **strong emphasis** on `mobile-related products` and `home entertainment`. Accessories that complement primary devices are in high demand, suggesting that consumers value both functionality and the augmentation of their main technology investments. There is a relatively small market for premium-priced electronics, which could indicate either a lower availability of such items on Amazon, a less frequent purchase cycle due to higher costs, or simply a consumer preference for more cost-effective solutions.\n",
    "\n",
    "Amazon's electronics marketplace is characterized by a consumer preference for value-oriented purchases with a **significant investment** in `accessories` and `enhancements for mobile and smart home devices`. Sellers in the electronics market can leverage this insight to tailor their product assortment, pricing strategies, and marketing efforts to cater to the majority consumer base that favors affordability without compromising on technological advancements."
   ]
  },
  {
   "cell_type": "markdown",
   "id": "b120cdaf976c56a0",
   "metadata": {
    "collapsed": false
   },
   "source": [
    "***\n",
    "## Data Transformation\n",
    "Discounted price, actual price, discounted amount, rating, and price-to-rating ratio are strongly right-skewed. \n",
    "As such, a log transformation can help in normalization so that the aforementioned variables can maintain a standard scale relative to other variables."
   ]
  },
  {
   "cell_type": "code",
   "execution_count": null,
   "id": "475f68ff5347599b",
   "metadata": {
    "collapsed": false,
    "is_executing": true
   },
   "outputs": [],
   "source": [
    "# Identify columns that may benefit from transformation\n",
    "# Look for skewness in numerical columns\n",
    "numerical_columns = data.select_dtypes(include=np.number).columns.tolist()\n",
    "skewed_columns = [\n",
    "    col for col in numerical_columns if data[col].skew() > 1 or data[col].skew() < -1\n",
    "]\n",
    "\n",
    "# Apply Box-Cox Transformation to skewed columns\n",
    "for column in skewed_columns:\n",
    "    # Adding a small value to avoid issues with 0 or negative values\n",
    "    data[f'{column}_boxcox'], fitted_lambda = boxcox(data[column] + 1e-3)\n",
    "    \n",
    "    # Original distribution\n",
    "    plt.figure(figsize=(12, 6))\n",
    "    plt.subplot(1, 2, 1)\n",
    "    sns.histplot(data[column].dropna(), kde=True)\n",
    "    plt.title(f'Original Distribution of {column}')\n",
    "    plt.xlabel(column)\n",
    "    plt.ylabel('Frequency')\n",
    "    \n",
    "    # Transformed distribution\n",
    "    plt.subplot(1, 2, 2)\n",
    "    sns.histplot(data[f'{column}_boxcox'].dropna(), kde=True)\n",
    "    plt.title(f'Transformed Distribution of {column}')\n",
    "    plt.xlabel(f'{column} (Box-Cox Transformed)')\n",
    "    plt.ylabel('Frequency')\n",
    "    plt.show()\n",
    "\n",
    "print(f'Transformation applied to columns: {skewed_columns}')"
   ]
  },
  {
   "cell_type": "markdown",
   "id": "fd40a00764a242a4",
   "metadata": {
    "collapsed": false
   },
   "source": [
    "The left side of each image shows the original distribution, and the right side shows the Box-Cox transformed distribution. \n",
    "The Box-Cox transformation has been applied to these columns to reduce skewness and make the data more normally distributed, which can improve the performance of many statistical models.\n",
    "\n",
    "The columns that were transformed are:\n",
    "- Discounted Price\n",
    "- Actual Price\n",
    "- Rating\n",
    "- Rating Count\n",
    "- Discount Amount\n",
    "- Price-to-Rating"
   ]
  },
  {
   "cell_type": "markdown",
   "id": "9406dadea196e34c",
   "metadata": {
    "collapsed": false
   },
   "source": [
    "***\n",
    "## EDA Bivariate Analysis\n",
    "__Bivariate Analysis__ helps to understand how variables are related to each other and the relationship between dependent and independent variables present in the dataset.\n",
    "- __Numerical Variables__ -- Pair plots & Scatter plots.\n",
    "- __Categorical Variables__ -- Stacked bar chart if the output variable is a classifier. Bar plots can be used if the output variable is continuous."
   ]
  },
  {
   "cell_type": "code",
   "execution_count": null,
   "id": "5254870f244739ab",
   "metadata": {
    "collapsed": false,
    "is_executing": true
   },
   "outputs": [],
   "source": [
    "# Bivariate analysis\n",
    "# Examining at the relationship between actual price and discounted price\n",
    "plt.figure(figsize=(12, 8))\n",
    "sns.scatterplot(data=data, x='actual_price', y='discounted_price')\n",
    "plt.title('Actual Price vs Discounted Price')\n",
    "plt.xlabel('Actual Price')\n",
    "plt.ylabel('Discounted Price')\n",
    "plt.show()\n",
    "\n",
    "# Examining the relationship between rating and rating count\n",
    "plt.figure(figsize=(12, 8))\n",
    "sns.scatterplot(data=data, x='rating', y='rating_count')\n",
    "plt.title('Rating vs Rating Count')\n",
    "plt.xlabel('Rating')\n",
    "plt.ylabel('Rating Count')\n",
    "plt.show()"
   ]
  },
  {
   "cell_type": "code",
   "execution_count": null,
   "id": "ec4995bae763e398",
   "metadata": {
    "collapsed": false,
    "is_executing": true
   },
   "outputs": [],
   "source": [
    "# Examining the relationship between ratings and different categories\n",
    "for category in ['main_category', 'sub_category', 'item_type']:\n",
    "    plt.figure(figsize=(14, 6))\n",
    "    sns.boxplot(x=category, y='rating', data=data)\n",
    "    plt.title(f\"Rating Distribution Across {category.replace('_', ' ').title()}\")\n",
    "    plt.xticks(rotation=90)\n",
    "    plt.show()"
   ]
  },
  {
   "cell_type": "code",
   "execution_count": null,
   "id": "ec9cb8740439d6b1",
   "metadata": {
    "collapsed": false,
    "is_executing": true
   },
   "outputs": [],
   "source": [
    "def categorical_bivariate_analysis(data: pd.DataFrame, categorical_variable: str):\n",
    "    \"\"\"\n",
    "    Function to visualize the relationship between categorical variables and the identified continuous variables.\n",
    "    Boxplots are created for the categorical variable against 'actual_price' and 'discounted_amount'.\n",
    "    A Barplot is created for the categorical variable against the aggregated mean of 'rating_count'\n",
    "    \n",
    "    :param data: DataFrame containing the electronics dataset.\n",
    "    :param categorical_variable: Column name of the dataset representing the categorical variable.\n",
    "    \"\"\"\n",
    "    # Boxplot for categorical_variable vs 'actual_price'\n",
    "    plt.figure(figsize=(12, 6))\n",
    "    sns.boxplot(x=categorical_variable, y='actual_price', data=data)\n",
    "    plt.title(f\"Actual Price Distribution by {categorical_variable.replace('_', ' ').title()}\")\n",
    "    plt.xticks(rotation=90)\n",
    "    plt.show()\n",
    "    \n",
    "    # Boxplot for categorical_variable vs 'discounted_price'\n",
    "    plt.figure(figsize=(12, 6))\n",
    "    sns.boxplot(x=categorical_variable, y='discounted_price', data=data)\n",
    "    plt.title(f\"Actual Price Distribution by {categorical_variable.replace('_', ' ').title()}\")\n",
    "    plt.xticks(rotation=90)\n",
    "    plt.show()\n",
    "    \n",
    "    # Barplot for categorical_variable vs 'rating_count' (aggregated as mean)\n",
    "    mean_rating_count_by_category = data.groupby(categorical_variable)['rating_count'].mean().reset_index()\n",
    "    plt.figure(figsize=(12, 6))\n",
    "    sns.barplot(x=categorical_variable, y='rating_count', data=mean_rating_count_by_category)\n",
    "    plt.xticks(rotation=90)\n",
    "    plt.show()"
   ]
  },
  {
   "cell_type": "code",
   "execution_count": null,
   "id": "576142780d09ae60",
   "metadata": {
    "collapsed": false,
    "is_executing": true
   },
   "outputs": [],
   "source": [
    "# Examine the relationship between `main_category` and identified continuous variables\n",
    "categorical_bivariate_analysis(data=data, categorical_variable='main_category')"
   ]
  },
  {
   "cell_type": "markdown",
   "id": "eb6630fccaa63962",
   "metadata": {
    "collapsed": false
   },
   "source": [
    "__Actual Price Distribution by Main Category__ -- The boxplot shows the distribution of actual prices across different main categories, which can indicate the price range of products in each category.\n",
    "\n",
    "__Discounted Price Distribution by Main Category__ -- The boxplot displays the distribution of discounted prices across different main categories, providing insight into the discounting practices for each category.\n",
    "\n",
    "__Average Rating Count by Main Category__ -- The barplot represents the average number of ratings (rating count) that products receive within each main category, which can be an indicator of popularity or sales volume."
   ]
  },
  {
   "cell_type": "code",
   "execution_count": null,
   "id": "3f637200946bda7b",
   "metadata": {
    "collapsed": false,
    "is_executing": true
   },
   "outputs": [],
   "source": [
    "# Examine the relationship between `sub_category` and identified continuous variables\n",
    "categorical_bivariate_analysis(data=data, categorical_variable='sub_category')"
   ]
  },
  {
   "cell_type": "markdown",
   "id": "9679dfd11420166e",
   "metadata": {
    "collapsed": false
   },
   "source": [
    "__Actual Price Distribution by Sub-Category__ -- The boxplot shows the distribution of actual prices across different sub-categories, which can indicate the price range of products in each sub-category.\n",
    "\n",
    "__Discounted Price Distribution by Sub-Category__ -- The boxplot displays the distribution of discounted prices across different sub-categories, providing insight into the discounting practices for each sub-category.\n",
    "\n",
    "__Average Rating Count by Sub-Category__ -- The barplot represents the average number of ratings (rating count) that products receive within each sub-category, which can be an indicator of popularity or sales volume."
   ]
  },
  {
   "cell_type": "code",
   "execution_count": null,
   "id": "a8ce44e0c6cc5294",
   "metadata": {
    "collapsed": false,
    "is_executing": true
   },
   "outputs": [],
   "source": [
    "# Examine the relationship between `item_type` and identified continuous variables\n",
    "categorical_bivariate_analysis(data=data, categorical_variable='item_type')"
   ]
  },
  {
   "cell_type": "markdown",
   "id": "c76b11437348cc1a",
   "metadata": {
    "collapsed": false
   },
   "source": [
    "__Actual Price Distribution by Item Type__ -- The boxplot shows the distribution of actual prices across different sub-categories, which can indicate the price range of products in each sub-category.\n",
    "\n",
    "__Discounted Price Distribution by Item Type__ -- The boxplot displays the distribution of discounted prices across different sub-categories, providing insight into the discounting practices for each sub-category.\n",
    "\n",
    "__Average Rating Count by Item Type__ -- The barplot represents the average number of ratings (rating count) that products receive within each sub-category, which can be an indicator of popularity or sales volume.\n",
    "***"
   ]
  },
  {
   "cell_type": "markdown",
   "id": "63a59dd67ed02114",
   "metadata": {
    "collapsed": false
   },
   "source": [
    "## EDA Multivariate Analysis\n",
    "The Heatmap below provides insights into how different numerical variables are related to each other. \n",
    "- High positive correlation between two variables would suggest that they tend to increase or decrease together\n",
    "- High negative correlation indicates an inverse relationship. \n",
    "- Values close to zero imply a weak or no linear relationship."
   ]
  },
  {
   "cell_type": "code",
   "execution_count": null,
   "id": "ed11d9f3dc310185",
   "metadata": {
    "collapsed": false,
    "is_executing": true
   },
   "outputs": [],
   "source": [
    "# Calculate correlation matrix excluding the columns prior to being Box-Cox transformed\n",
    "# Include 'review_sentiment' column since it did not need to be transformed\n",
    "boxcox_columns = [col for col in data.select_dtypes(include=np.number).columns.tolist() if 'boxcox' in col or col == 'review_sentiment']\n",
    "corr_matrix = data[boxcox_columns].corr()\n",
    "\n",
    "# Plotting the correlation matrix\n",
    "plt.figure(figsize=(12, 8))\n",
    "sns.heatmap(corr_matrix, annot=True, cmap='coolwarm', fmt='.2f')\n",
    "plt.title('Correlation Matrix of Numerical Variables')\n",
    "plt.show()"
   ]
  },
  {
   "cell_type": "markdown",
   "id": "ccb4ae1bb4b9571d",
   "metadata": {
    "collapsed": false
   },
   "source": [
    "## TODO: Make new inferences/observations using the Box-Cox transformed columns.\n",
    "From the Heat map above, we have the following observations:\n",
    "- `discounted_price`\n",
    "    - Strong positive correlation to `price_to_rating`  (1.00)\n",
    "    - Strong positive correlation to `actual_price`     (0.96)\n",
    "    - Positive correlation to `discount_amount`         (0.75)\n",
    "\n",
    "- `actual_price`\n",
    "    - Strong positive correlation to `price_to_rating`  (0.96)\n",
    "    - Strong positive correlation to `discount_amount`  (0.90)\n",
    "\n",
    "- `price_to_rating`\n",
    "    - Strong positive correlation to `discounted_price` (1.00)\n",
    "    - Strong positive correlation to `actual_price`     (0.96)\n",
    "    - Positive correlation to `discount_amount`         (0.74)\n",
    "\n",
    "***"
   ]
  },
  {
   "cell_type": "code",
   "execution_count": null,
   "id": "bf45677138b56edb",
   "metadata": {
    "collapsed": false,
    "is_executing": true
   },
   "outputs": [],
   "source": []
  }
 ],
 "metadata": {
  "kernelspec": {
   "display_name": "Python 3",
   "language": "python",
   "name": "python3"
  },
  "language_info": {
   "codemirror_mode": {
    "name": "ipython",
    "version": 3
   },
   "file_extension": ".py",
   "mimetype": "text/x-python",
   "name": "python",
   "nbconvert_exporter": "python",
   "pygments_lexer": "ipython3",
   "version": "3.10.2"
  }
 },
 "nbformat": 4,
 "nbformat_minor": 5
}
