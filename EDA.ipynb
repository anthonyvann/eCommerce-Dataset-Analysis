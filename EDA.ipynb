{
 "cells": [
  {
   "cell_type": "markdown",
   "source": [
    "Import Python Libraries"
   ],
   "metadata": {
    "collapsed": false
   },
   "id": "ddea3e6c33f87716"
  },
  {
   "cell_type": "code",
   "execution_count": 1,
   "id": "initial_id",
   "metadata": {
    "collapsed": true,
    "ExecuteTime": {
     "end_time": "2024-01-09T01:20:36.972015400Z",
     "start_time": "2024-01-09T01:20:36.649994500Z"
    }
   },
   "outputs": [],
   "source": [
    "import pandas as pd\n",
    "import numpy as np\n",
    "import matplotlib.pyplot as plt\n",
    "import seaborn as sns\n",
    "from textblob import TextBlob"
   ]
  },
  {
   "cell_type": "markdown",
   "source": [
    "Reading Dataset"
   ],
   "metadata": {
    "collapsed": false
   },
   "id": "ba7e9f72cb06219b"
  },
  {
   "cell_type": "code",
   "outputs": [],
   "source": [
    "data = pd.read_csv('./amazon.csv')  # reading amazon.csv dataset to a DataFrame"
   ],
   "metadata": {
    "collapsed": false,
    "ExecuteTime": {
     "end_time": "2024-01-09T01:20:37.049029100Z",
     "start_time": "2024-01-09T01:20:36.971515200Z"
    }
   },
   "id": "b5c95118fdd269bb",
   "execution_count": 2
  },
  {
   "cell_type": "markdown",
   "source": [
    "Analyzing the Data"
   ],
   "metadata": {
    "collapsed": false
   },
   "id": "c7996dd8fd719585"
  },
  {
   "cell_type": "code",
   "outputs": [
    {
     "data": {
      "text/plain": "   product_id                                       product_name  \\\n0  B07JW9H4J1  Wayona Nylon Braided USB to Lightning Fast Cha...   \n1  B098NS6PVG  Ambrane Unbreakable 60W / 3A Fast Charging 1.5...   \n2  B096MSW6CT  Sounce Fast Phone Charging Cable & Data Sync U...   \n3  B08HDJ86NZ  boAt Deuce USB 300 2 in 1 Type-C & Micro USB S...   \n4  B08CF3B7N1  Portronics Konnect L 1.2M Fast Charging 3A 8 P...   \n\n                                            category discounted_price  \\\n0  Computers&Accessories|Accessories&Peripherals|...             ₹399   \n1  Computers&Accessories|Accessories&Peripherals|...             ₹199   \n2  Computers&Accessories|Accessories&Peripherals|...             ₹199   \n3  Computers&Accessories|Accessories&Peripherals|...             ₹329   \n4  Computers&Accessories|Accessories&Peripherals|...             ₹154   \n\n  actual_price discount_percentage rating rating_count  \\\n0       ₹1,099                 64%    4.2       24,269   \n1         ₹349                 43%    4.0       43,994   \n2       ₹1,899                 90%    3.9        7,928   \n3         ₹699                 53%    4.2       94,363   \n4         ₹399                 61%    4.2       16,905   \n\n                                       about_product  \\\n0  High Compatibility : Compatible With iPhone 12...   \n1  Compatible with all Type C enabled devices, be...   \n2  【 Fast Charger& Data Sync】-With built-in safet...   \n3  The boAt Deuce USB 300 2 in 1 cable is compati...   \n4  [CHARGE & SYNC FUNCTION]- This cable comes wit...   \n\n                                             user_id  \\\n0  AG3D6O4STAQKAY2UVGEUV46KN35Q,AHMY5CWJMMK5BJRBB...   \n1  AECPFYFQVRUWC3KGNLJIOREFP5LQ,AGYYVPDD7YG7FYNBX...   \n2  AGU3BBQ2V2DDAMOAKGFAWDDQ6QHA,AESFLDV2PT363T2AQ...   \n3  AEWAZDZZJLQUYVOVGBEUKSLXHQ5A,AG5HTSFRRE6NL3M5S...   \n4  AE3Q6KSUK5P75D5HFYHCRAOLODSA,AFUGIFH5ZAFXRDSZH...   \n\n                                           user_name  \\\n0  Manav,Adarsh gupta,Sundeep,S.Sayeed Ahmed,jasp...   \n1  ArdKn,Nirbhay kumar,Sagar Viswanathan,Asp,Plac...   \n2  Kunal,Himanshu,viswanath,sai niharka,saqib mal...   \n3  Omkar dhale,JD,HEMALATHA,Ajwadh a.,amar singh ...   \n4  rahuls6099,Swasat Borah,Ajay Wadke,Pranali,RVK...   \n\n                                           review_id  \\\n0  R3HXWT0LRP0NMF,R2AJM3LFTLZHFO,R6AQJGUP6P86,R1K...   \n1  RGIQEG07R9HS2,R1SMWZQ86XIN8U,R2J3Y1WL29GWDE,RY...   \n2  R3J3EQQ9TZI5ZJ,R3E7WBGK7ID0KV,RWU79XKQ6I1QF,R2...   \n3  R3EEUZKKK9J36I,R3HJVYCLYOY554,REDECAZ7AMPQC,R1...   \n4  R1BP4L2HH9TFUP,R16PVJEXKV6QZS,R2UPDB81N66T4P,R...   \n\n                                        review_title  \\\n0  Satisfied,Charging is really fast,Value for mo...   \n1  A Good Braided Cable for Your Type C Device,Go...   \n2  Good speed for earlier versions,Good Product,W...   \n3  Good product,Good one,Nice,Really nice product...   \n4  As good as original,Decent,Good one for second...   \n\n                                      review_content  \\\n0  Looks durable Charging is fine tooNo complains...   \n1  I ordered this cable to connect my phone to An...   \n2  Not quite durable and sturdy,https://m.media-a...   \n3  Good product,long wire,Charges good,Nice,I bou...   \n4  Bought this instead of original apple, does th...   \n\n                                            img_link  \\\n0  https://m.media-amazon.com/images/W/WEBP_40237...   \n1  https://m.media-amazon.com/images/W/WEBP_40237...   \n2  https://m.media-amazon.com/images/W/WEBP_40237...   \n3  https://m.media-amazon.com/images/I/41V5FtEWPk...   \n4  https://m.media-amazon.com/images/W/WEBP_40237...   \n\n                                        product_link  \n0  https://www.amazon.in/Wayona-Braided-WN3LG1-Sy...  \n1  https://www.amazon.in/Ambrane-Unbreakable-Char...  \n2  https://www.amazon.in/Sounce-iPhone-Charging-C...  \n3  https://www.amazon.in/Deuce-300-Resistant-Tang...  \n4  https://www.amazon.in/Portronics-Konnect-POR-1...  ",
      "text/html": "<div>\n<style scoped>\n    .dataframe tbody tr th:only-of-type {\n        vertical-align: middle;\n    }\n\n    .dataframe tbody tr th {\n        vertical-align: top;\n    }\n\n    .dataframe thead th {\n        text-align: right;\n    }\n</style>\n<table border=\"1\" class=\"dataframe\">\n  <thead>\n    <tr style=\"text-align: right;\">\n      <th></th>\n      <th>product_id</th>\n      <th>product_name</th>\n      <th>category</th>\n      <th>discounted_price</th>\n      <th>actual_price</th>\n      <th>discount_percentage</th>\n      <th>rating</th>\n      <th>rating_count</th>\n      <th>about_product</th>\n      <th>user_id</th>\n      <th>user_name</th>\n      <th>review_id</th>\n      <th>review_title</th>\n      <th>review_content</th>\n      <th>img_link</th>\n      <th>product_link</th>\n    </tr>\n  </thead>\n  <tbody>\n    <tr>\n      <th>0</th>\n      <td>B07JW9H4J1</td>\n      <td>Wayona Nylon Braided USB to Lightning Fast Cha...</td>\n      <td>Computers&amp;Accessories|Accessories&amp;Peripherals|...</td>\n      <td>₹399</td>\n      <td>₹1,099</td>\n      <td>64%</td>\n      <td>4.2</td>\n      <td>24,269</td>\n      <td>High Compatibility : Compatible With iPhone 12...</td>\n      <td>AG3D6O4STAQKAY2UVGEUV46KN35Q,AHMY5CWJMMK5BJRBB...</td>\n      <td>Manav,Adarsh gupta,Sundeep,S.Sayeed Ahmed,jasp...</td>\n      <td>R3HXWT0LRP0NMF,R2AJM3LFTLZHFO,R6AQJGUP6P86,R1K...</td>\n      <td>Satisfied,Charging is really fast,Value for mo...</td>\n      <td>Looks durable Charging is fine tooNo complains...</td>\n      <td>https://m.media-amazon.com/images/W/WEBP_40237...</td>\n      <td>https://www.amazon.in/Wayona-Braided-WN3LG1-Sy...</td>\n    </tr>\n    <tr>\n      <th>1</th>\n      <td>B098NS6PVG</td>\n      <td>Ambrane Unbreakable 60W / 3A Fast Charging 1.5...</td>\n      <td>Computers&amp;Accessories|Accessories&amp;Peripherals|...</td>\n      <td>₹199</td>\n      <td>₹349</td>\n      <td>43%</td>\n      <td>4.0</td>\n      <td>43,994</td>\n      <td>Compatible with all Type C enabled devices, be...</td>\n      <td>AECPFYFQVRUWC3KGNLJIOREFP5LQ,AGYYVPDD7YG7FYNBX...</td>\n      <td>ArdKn,Nirbhay kumar,Sagar Viswanathan,Asp,Plac...</td>\n      <td>RGIQEG07R9HS2,R1SMWZQ86XIN8U,R2J3Y1WL29GWDE,RY...</td>\n      <td>A Good Braided Cable for Your Type C Device,Go...</td>\n      <td>I ordered this cable to connect my phone to An...</td>\n      <td>https://m.media-amazon.com/images/W/WEBP_40237...</td>\n      <td>https://www.amazon.in/Ambrane-Unbreakable-Char...</td>\n    </tr>\n    <tr>\n      <th>2</th>\n      <td>B096MSW6CT</td>\n      <td>Sounce Fast Phone Charging Cable &amp; Data Sync U...</td>\n      <td>Computers&amp;Accessories|Accessories&amp;Peripherals|...</td>\n      <td>₹199</td>\n      <td>₹1,899</td>\n      <td>90%</td>\n      <td>3.9</td>\n      <td>7,928</td>\n      <td>【 Fast Charger&amp; Data Sync】-With built-in safet...</td>\n      <td>AGU3BBQ2V2DDAMOAKGFAWDDQ6QHA,AESFLDV2PT363T2AQ...</td>\n      <td>Kunal,Himanshu,viswanath,sai niharka,saqib mal...</td>\n      <td>R3J3EQQ9TZI5ZJ,R3E7WBGK7ID0KV,RWU79XKQ6I1QF,R2...</td>\n      <td>Good speed for earlier versions,Good Product,W...</td>\n      <td>Not quite durable and sturdy,https://m.media-a...</td>\n      <td>https://m.media-amazon.com/images/W/WEBP_40237...</td>\n      <td>https://www.amazon.in/Sounce-iPhone-Charging-C...</td>\n    </tr>\n    <tr>\n      <th>3</th>\n      <td>B08HDJ86NZ</td>\n      <td>boAt Deuce USB 300 2 in 1 Type-C &amp; Micro USB S...</td>\n      <td>Computers&amp;Accessories|Accessories&amp;Peripherals|...</td>\n      <td>₹329</td>\n      <td>₹699</td>\n      <td>53%</td>\n      <td>4.2</td>\n      <td>94,363</td>\n      <td>The boAt Deuce USB 300 2 in 1 cable is compati...</td>\n      <td>AEWAZDZZJLQUYVOVGBEUKSLXHQ5A,AG5HTSFRRE6NL3M5S...</td>\n      <td>Omkar dhale,JD,HEMALATHA,Ajwadh a.,amar singh ...</td>\n      <td>R3EEUZKKK9J36I,R3HJVYCLYOY554,REDECAZ7AMPQC,R1...</td>\n      <td>Good product,Good one,Nice,Really nice product...</td>\n      <td>Good product,long wire,Charges good,Nice,I bou...</td>\n      <td>https://m.media-amazon.com/images/I/41V5FtEWPk...</td>\n      <td>https://www.amazon.in/Deuce-300-Resistant-Tang...</td>\n    </tr>\n    <tr>\n      <th>4</th>\n      <td>B08CF3B7N1</td>\n      <td>Portronics Konnect L 1.2M Fast Charging 3A 8 P...</td>\n      <td>Computers&amp;Accessories|Accessories&amp;Peripherals|...</td>\n      <td>₹154</td>\n      <td>₹399</td>\n      <td>61%</td>\n      <td>4.2</td>\n      <td>16,905</td>\n      <td>[CHARGE &amp; SYNC FUNCTION]- This cable comes wit...</td>\n      <td>AE3Q6KSUK5P75D5HFYHCRAOLODSA,AFUGIFH5ZAFXRDSZH...</td>\n      <td>rahuls6099,Swasat Borah,Ajay Wadke,Pranali,RVK...</td>\n      <td>R1BP4L2HH9TFUP,R16PVJEXKV6QZS,R2UPDB81N66T4P,R...</td>\n      <td>As good as original,Decent,Good one for second...</td>\n      <td>Bought this instead of original apple, does th...</td>\n      <td>https://m.media-amazon.com/images/W/WEBP_40237...</td>\n      <td>https://www.amazon.in/Portronics-Konnect-POR-1...</td>\n    </tr>\n  </tbody>\n</table>\n</div>"
     },
     "execution_count": 3,
     "metadata": {},
     "output_type": "execute_result"
    }
   ],
   "source": [
    "data.head()  # top 5 rows."
   ],
   "metadata": {
    "collapsed": false,
    "ExecuteTime": {
     "end_time": "2024-01-09T01:20:37.094036600Z",
     "start_time": "2024-01-09T01:20:37.048528900Z"
    }
   },
   "id": "f44ed125c629e34d",
   "execution_count": 3
  },
  {
   "cell_type": "code",
   "outputs": [
    {
     "data": {
      "text/plain": "      product_id                                       product_name  \\\n1460  B08L7J3T31  Noir Aqua - 5pcs PP Spun Filter + 1 Spanner | ...   \n1461  B01M6453MB  Prestige Delight PRWO Electric Rice Cooker (1 ...   \n1462  B009P2LIL4  Bajaj Majesty RX10 2000 Watts Heat Convector R...   \n1463  B00J5DYCCA  Havells Ventil Air DSP 230mm Exhaust Fan (Pist...   \n1464  B01486F4G6  Borosil Jumbo 1000-Watt Grill Sandwich Maker (...   \n\n                                               category discounted_price  \\\n1460  Home&Kitchen|Kitchen&HomeAppliances|WaterPurif...             ₹379   \n1461  Home&Kitchen|Kitchen&HomeAppliances|SmallKitch...           ₹2,280   \n1462  Home&Kitchen|Heating,Cooling&AirQuality|RoomHe...           ₹2,219   \n1463  Home&Kitchen|Heating,Cooling&AirQuality|Fans|E...           ₹1,399   \n1464  Home&Kitchen|Kitchen&HomeAppliances|SmallKitch...           ₹2,863   \n\n     actual_price discount_percentage rating rating_count  \\\n1460         ₹919                 59%      4        1,090   \n1461       ₹3,045                 25%    4.1        4,118   \n1462       ₹3,080                 28%    3.6          468   \n1463       ₹1,890                 26%      4        8,031   \n1464       ₹3,690                 22%    4.3        6,987   \n\n                                          about_product  \\\n1460  SUPREME QUALITY 90 GRAM 3 LAYER THIK PP SPUN F...   \n1461                       230 Volts, 400 watts, 1 Year   \n1462  International design and styling|Two heat sett...   \n1463  Fan sweep area: 230 MM ; Noise level: (40 - 45...   \n1464  Brand-Borosil, Specification â€“ 23V ~ 5Hz;1 W...   \n\n                                                user_id  \\\n1460  AHITFY6AHALOFOHOZEOC6XBP4FEA,AFRABBODZJZQB6Z4U...   \n1461  AFG5FM3NEMOL6BNFRV2NK5FNJCHQ,AGEINTRN6Z563RMLH...   \n1462  AGVPWCMAHYQWJOQKMUJN4DW3KM5Q,AF4Q3E66MY4SR7YQZ...   \n1463  AF2JQCLSCY3QJATWUNNHUSVUPNQQ,AFDMLUXC5LS5RXDJS...   \n1464  AFGW5PT3R6ZAVQR4Y5MWVAKBZAYA,AG7QNJ2SCS5VS5VYY...   \n\n                                              user_name  \\\n1460  Prabha ds,Raghuram bk,Real Deal,Amazon Custome...   \n1461  Manu Bhai,Naveenpittu,Evatira Sangma,JAGANNADH...   \n1462  Nehal Desai,Danish Parwez,Amazon Customer,Amaz...   \n1463  Shubham Dubey,E.GURUBARAN,Mayank S.,eusuf khan...   \n1464  Rajib,Ajay B,Vikas Kahol,PARDEEP,Anindya Prama...   \n\n                                              review_id  \\\n1460  R3G3XFHPBFF0E8,R3C0BZCD32EIGW,R2EBVBCN9QPD9R,R...   \n1461  R3DDL2UPKQ2CK9,R2SYYU1OATVIU5,R1VM993161IYRW,R...   \n1462  R1TLRJVW4STY5I,R2O455KRN493R1,R3Q5MVGBRIAS2G,R...   \n1463  R39Q2Y79MM9SWK,R3079BG1NIH6MB,R29A31ZELTZNJM,R...   \n1464  R20RBRZ0WEUJT9,ROKIFK9R2ISSE,R30EEG2FNJSN5I,R2...   \n\n                                           review_title  \\\n1460  Received the product without spanner,Excellent...   \n1461  ok,everything was good couldn't return bcoz I ...   \n1462  very good,Work but front melt after 2 month,Go...   \n1463  Fan Speed is slow,Good quality,Good product,go...   \n1464  Works perfect,Ok good product,Nice Product. Re...   \n\n                                         review_content  \\\n1460  I received product without spanner,Excellent p...   \n1461  ok,got everything as mentioned but the measuri...   \n1462  plastic but cool body ,u have to find sturdy s...   \n1463  I have installed this in my kitchen working fi...   \n1464  It does it job perfectly..only issue is temp c...   \n\n                                               img_link  \\\n1460  https://m.media-amazon.com/images/I/41fDdRtjfx...   \n1461  https://m.media-amazon.com/images/I/41gzDxk4+k...   \n1462  https://m.media-amazon.com/images/W/WEBP_40237...   \n1463  https://m.media-amazon.com/images/W/WEBP_40237...   \n1464  https://m.media-amazon.com/images/W/WEBP_40237...   \n\n                                           product_link  \n1460  https://www.amazon.in/Noir-Aqua-Spanner-Purifi...  \n1461  https://www.amazon.in/Prestige-Delight-PRWO-1-...  \n1462  https://www.amazon.in/Bajaj-RX-10-2000-Watt-Co...  \n1463  https://www.amazon.in/Havells-Ventilair-230mm-...  \n1464  https://www.amazon.in/Borosil-Jumbo-1000-Watt-...  ",
      "text/html": "<div>\n<style scoped>\n    .dataframe tbody tr th:only-of-type {\n        vertical-align: middle;\n    }\n\n    .dataframe tbody tr th {\n        vertical-align: top;\n    }\n\n    .dataframe thead th {\n        text-align: right;\n    }\n</style>\n<table border=\"1\" class=\"dataframe\">\n  <thead>\n    <tr style=\"text-align: right;\">\n      <th></th>\n      <th>product_id</th>\n      <th>product_name</th>\n      <th>category</th>\n      <th>discounted_price</th>\n      <th>actual_price</th>\n      <th>discount_percentage</th>\n      <th>rating</th>\n      <th>rating_count</th>\n      <th>about_product</th>\n      <th>user_id</th>\n      <th>user_name</th>\n      <th>review_id</th>\n      <th>review_title</th>\n      <th>review_content</th>\n      <th>img_link</th>\n      <th>product_link</th>\n    </tr>\n  </thead>\n  <tbody>\n    <tr>\n      <th>1460</th>\n      <td>B08L7J3T31</td>\n      <td>Noir Aqua - 5pcs PP Spun Filter + 1 Spanner | ...</td>\n      <td>Home&amp;Kitchen|Kitchen&amp;HomeAppliances|WaterPurif...</td>\n      <td>₹379</td>\n      <td>₹919</td>\n      <td>59%</td>\n      <td>4</td>\n      <td>1,090</td>\n      <td>SUPREME QUALITY 90 GRAM 3 LAYER THIK PP SPUN F...</td>\n      <td>AHITFY6AHALOFOHOZEOC6XBP4FEA,AFRABBODZJZQB6Z4U...</td>\n      <td>Prabha ds,Raghuram bk,Real Deal,Amazon Custome...</td>\n      <td>R3G3XFHPBFF0E8,R3C0BZCD32EIGW,R2EBVBCN9QPD9R,R...</td>\n      <td>Received the product without spanner,Excellent...</td>\n      <td>I received product without spanner,Excellent p...</td>\n      <td>https://m.media-amazon.com/images/I/41fDdRtjfx...</td>\n      <td>https://www.amazon.in/Noir-Aqua-Spanner-Purifi...</td>\n    </tr>\n    <tr>\n      <th>1461</th>\n      <td>B01M6453MB</td>\n      <td>Prestige Delight PRWO Electric Rice Cooker (1 ...</td>\n      <td>Home&amp;Kitchen|Kitchen&amp;HomeAppliances|SmallKitch...</td>\n      <td>₹2,280</td>\n      <td>₹3,045</td>\n      <td>25%</td>\n      <td>4.1</td>\n      <td>4,118</td>\n      <td>230 Volts, 400 watts, 1 Year</td>\n      <td>AFG5FM3NEMOL6BNFRV2NK5FNJCHQ,AGEINTRN6Z563RMLH...</td>\n      <td>Manu Bhai,Naveenpittu,Evatira Sangma,JAGANNADH...</td>\n      <td>R3DDL2UPKQ2CK9,R2SYYU1OATVIU5,R1VM993161IYRW,R...</td>\n      <td>ok,everything was good couldn't return bcoz I ...</td>\n      <td>ok,got everything as mentioned but the measuri...</td>\n      <td>https://m.media-amazon.com/images/I/41gzDxk4+k...</td>\n      <td>https://www.amazon.in/Prestige-Delight-PRWO-1-...</td>\n    </tr>\n    <tr>\n      <th>1462</th>\n      <td>B009P2LIL4</td>\n      <td>Bajaj Majesty RX10 2000 Watts Heat Convector R...</td>\n      <td>Home&amp;Kitchen|Heating,Cooling&amp;AirQuality|RoomHe...</td>\n      <td>₹2,219</td>\n      <td>₹3,080</td>\n      <td>28%</td>\n      <td>3.6</td>\n      <td>468</td>\n      <td>International design and styling|Two heat sett...</td>\n      <td>AGVPWCMAHYQWJOQKMUJN4DW3KM5Q,AF4Q3E66MY4SR7YQZ...</td>\n      <td>Nehal Desai,Danish Parwez,Amazon Customer,Amaz...</td>\n      <td>R1TLRJVW4STY5I,R2O455KRN493R1,R3Q5MVGBRIAS2G,R...</td>\n      <td>very good,Work but front melt after 2 month,Go...</td>\n      <td>plastic but cool body ,u have to find sturdy s...</td>\n      <td>https://m.media-amazon.com/images/W/WEBP_40237...</td>\n      <td>https://www.amazon.in/Bajaj-RX-10-2000-Watt-Co...</td>\n    </tr>\n    <tr>\n      <th>1463</th>\n      <td>B00J5DYCCA</td>\n      <td>Havells Ventil Air DSP 230mm Exhaust Fan (Pist...</td>\n      <td>Home&amp;Kitchen|Heating,Cooling&amp;AirQuality|Fans|E...</td>\n      <td>₹1,399</td>\n      <td>₹1,890</td>\n      <td>26%</td>\n      <td>4</td>\n      <td>8,031</td>\n      <td>Fan sweep area: 230 MM ; Noise level: (40 - 45...</td>\n      <td>AF2JQCLSCY3QJATWUNNHUSVUPNQQ,AFDMLUXC5LS5RXDJS...</td>\n      <td>Shubham Dubey,E.GURUBARAN,Mayank S.,eusuf khan...</td>\n      <td>R39Q2Y79MM9SWK,R3079BG1NIH6MB,R29A31ZELTZNJM,R...</td>\n      <td>Fan Speed is slow,Good quality,Good product,go...</td>\n      <td>I have installed this in my kitchen working fi...</td>\n      <td>https://m.media-amazon.com/images/W/WEBP_40237...</td>\n      <td>https://www.amazon.in/Havells-Ventilair-230mm-...</td>\n    </tr>\n    <tr>\n      <th>1464</th>\n      <td>B01486F4G6</td>\n      <td>Borosil Jumbo 1000-Watt Grill Sandwich Maker (...</td>\n      <td>Home&amp;Kitchen|Kitchen&amp;HomeAppliances|SmallKitch...</td>\n      <td>₹2,863</td>\n      <td>₹3,690</td>\n      <td>22%</td>\n      <td>4.3</td>\n      <td>6,987</td>\n      <td>Brand-Borosil, Specification â€“ 23V ~ 5Hz;1 W...</td>\n      <td>AFGW5PT3R6ZAVQR4Y5MWVAKBZAYA,AG7QNJ2SCS5VS5VYY...</td>\n      <td>Rajib,Ajay B,Vikas Kahol,PARDEEP,Anindya Prama...</td>\n      <td>R20RBRZ0WEUJT9,ROKIFK9R2ISSE,R30EEG2FNJSN5I,R2...</td>\n      <td>Works perfect,Ok good product,Nice Product. Re...</td>\n      <td>It does it job perfectly..only issue is temp c...</td>\n      <td>https://m.media-amazon.com/images/W/WEBP_40237...</td>\n      <td>https://www.amazon.in/Borosil-Jumbo-1000-Watt-...</td>\n    </tr>\n  </tbody>\n</table>\n</div>"
     },
     "execution_count": 4,
     "metadata": {},
     "output_type": "execute_result"
    }
   ],
   "source": [
    "data.tail()  # last 5 rows"
   ],
   "metadata": {
    "collapsed": false,
    "ExecuteTime": {
     "end_time": "2024-01-09T01:20:37.117040600Z",
     "start_time": "2024-01-09T01:20:37.080034500Z"
    }
   },
   "id": "eed6aab6a07185a5",
   "execution_count": 4
  },
  {
   "cell_type": "code",
   "outputs": [
    {
     "name": "stdout",
     "output_type": "stream",
     "text": [
      "<class 'pandas.core.frame.DataFrame'>\n",
      "RangeIndex: 1465 entries, 0 to 1464\n",
      "Data columns (total 16 columns):\n",
      " #   Column               Non-Null Count  Dtype \n",
      "---  ------               --------------  ----- \n",
      " 0   product_id           1465 non-null   object\n",
      " 1   product_name         1465 non-null   object\n",
      " 2   category             1465 non-null   object\n",
      " 3   discounted_price     1465 non-null   object\n",
      " 4   actual_price         1465 non-null   object\n",
      " 5   discount_percentage  1465 non-null   object\n",
      " 6   rating               1465 non-null   object\n",
      " 7   rating_count         1463 non-null   object\n",
      " 8   about_product        1465 non-null   object\n",
      " 9   user_id              1465 non-null   object\n",
      " 10  user_name            1465 non-null   object\n",
      " 11  review_id            1465 non-null   object\n",
      " 12  review_title         1465 non-null   object\n",
      " 13  review_content       1465 non-null   object\n",
      " 14  img_link             1465 non-null   object\n",
      " 15  product_link         1465 non-null   object\n",
      "dtypes: object(16)\n",
      "memory usage: 183.2+ KB\n"
     ]
    }
   ],
   "source": [
    "data.info()  # overview of dataframe"
   ],
   "metadata": {
    "collapsed": false,
    "ExecuteTime": {
     "end_time": "2024-01-09T01:20:37.191053700Z",
     "start_time": "2024-01-09T01:20:37.095537700Z"
    }
   },
   "id": "a6d3ebd848afab0c",
   "execution_count": 5
  },
  {
   "cell_type": "markdown",
   "source": [
    "Checking for Duplicates"
   ],
   "metadata": {
    "collapsed": false
   },
   "id": "f51786336c9abaaf"
  },
  {
   "cell_type": "code",
   "outputs": [
    {
     "data": {
      "text/plain": "product_id             1351\nproduct_name           1337\ncategory                211\ndiscounted_price        550\nactual_price            449\ndiscount_percentage      92\nrating                   28\nrating_count           1143\nabout_product          1293\nuser_id                1194\nuser_name              1194\nreview_id              1194\nreview_title           1194\nreview_content         1212\nimg_link               1412\nproduct_link           1465\ndtype: int64"
     },
     "execution_count": 6,
     "metadata": {},
     "output_type": "execute_result"
    }
   ],
   "source": [
    "data.nunique()  # number of unique values"
   ],
   "metadata": {
    "collapsed": false,
    "ExecuteTime": {
     "end_time": "2024-01-09T01:20:37.193054100Z",
     "start_time": "2024-01-09T01:20:37.110539600Z"
    }
   },
   "id": "c47a17e5d374041f",
   "execution_count": 6
  },
  {
   "cell_type": "markdown",
   "source": [
    "Calculating Missing Values"
   ],
   "metadata": {
    "collapsed": false
   },
   "id": "cb5f313cc4faabfd"
  },
  {
   "cell_type": "code",
   "outputs": [
    {
     "data": {
      "text/plain": "product_id             0\nproduct_name           0\ncategory               0\ndiscounted_price       0\nactual_price           0\ndiscount_percentage    0\nrating                 0\nrating_count           2\nabout_product          0\nuser_id                0\nuser_name              0\nreview_id              0\nreview_title           0\nreview_content         0\nimg_link               0\nproduct_link           0\ndtype: int64"
     },
     "execution_count": 7,
     "metadata": {},
     "output_type": "execute_result"
    }
   ],
   "source": [
    "data.isnull().sum()  # sum of null values"
   ],
   "metadata": {
    "collapsed": false,
    "ExecuteTime": {
     "end_time": "2024-01-09T01:20:37.212557300Z",
     "start_time": "2024-01-09T01:20:37.142046100Z"
    }
   },
   "id": "34e9118a85ae2e50",
   "execution_count": 7
  },
  {
   "cell_type": "code",
   "outputs": [
    {
     "data": {
      "text/plain": "product_id             0.000000\nproduct_name           0.000000\ncategory               0.000000\ndiscounted_price       0.000000\nactual_price           0.000000\ndiscount_percentage    0.000000\nrating                 0.000000\nrating_count           0.136519\nabout_product          0.000000\nuser_id                0.000000\nuser_name              0.000000\nreview_id              0.000000\nreview_title           0.000000\nreview_content         0.000000\nimg_link               0.000000\nproduct_link           0.000000\ndtype: float64"
     },
     "execution_count": 8,
     "metadata": {},
     "output_type": "execute_result"
    }
   ],
   "source": [
    "(data.isnull().sum() / len(data)) * 100  # percentage of null values for each column"
   ],
   "metadata": {
    "collapsed": false,
    "ExecuteTime": {
     "end_time": "2024-01-09T01:20:37.267567900Z",
     "start_time": "2024-01-09T01:20:37.157547800Z"
    }
   },
   "id": "7cbeeb8636480b2c",
   "execution_count": 8
  },
  {
   "cell_type": "markdown",
   "source": [
    "Data Reduction\n",
    "To reduce the amount of data in our dataset, by evaluating which column(s) do not add value to the analysis.\n",
    "- user_id, user_name: Unlikely to be useful for the intended purpose of the analysis.\n",
    "- img_link, product_link: These columns do not hold analytical value for pricing trends or consumer preferences as they only contain URLs."
   ],
   "metadata": {
    "collapsed": false
   },
   "id": "5c4a233244726fee"
  },
  {
   "cell_type": "code",
   "outputs": [
    {
     "name": "stdout",
     "output_type": "stream",
     "text": [
      "<class 'pandas.core.frame.DataFrame'>\n",
      "RangeIndex: 1465 entries, 0 to 1464\n",
      "Data columns (total 12 columns):\n",
      " #   Column               Non-Null Count  Dtype \n",
      "---  ------               --------------  ----- \n",
      " 0   product_id           1465 non-null   object\n",
      " 1   product_name         1465 non-null   object\n",
      " 2   category             1465 non-null   object\n",
      " 3   discounted_price     1465 non-null   object\n",
      " 4   actual_price         1465 non-null   object\n",
      " 5   discount_percentage  1465 non-null   object\n",
      " 6   rating               1465 non-null   object\n",
      " 7   rating_count         1463 non-null   object\n",
      " 8   about_product        1465 non-null   object\n",
      " 9   review_id            1465 non-null   object\n",
      " 10  review_title         1465 non-null   object\n",
      " 11  review_content       1465 non-null   object\n",
      "dtypes: object(12)\n",
      "memory usage: 137.5+ KB\n"
     ]
    }
   ],
   "source": [
    "# Drop columns that do not add value to the analysis.\n",
    "data = data.drop(['user_id', 'user_name', 'img_link', 'product_link'], axis=1)\n",
    "data.info()"
   ],
   "metadata": {
    "collapsed": false,
    "ExecuteTime": {
     "end_time": "2024-01-09T01:20:37.268567900Z",
     "start_time": "2024-01-09T01:20:37.173550600Z"
    }
   },
   "id": "557ebdd7073dd655",
   "execution_count": 9
  },
  {
   "cell_type": "markdown",
   "source": [
    "Filter through the data and drop rows with categories that are non-relevant for the analysis."
   ],
   "metadata": {
    "collapsed": false
   },
   "id": "e65ef44b5d772de6"
  },
  {
   "cell_type": "code",
   "outputs": [
    {
     "data": {
      "text/plain": "['Computers&Accessories',\n 'Toys&Games',\n 'HomeImprovement',\n 'Home&Kitchen',\n 'OfficeProducts',\n 'MusicalInstruments',\n 'Car&Motorbike',\n 'Health&PersonalCare']"
     },
     "execution_count": 45,
     "metadata": {},
     "output_type": "execute_result"
    }
   ],
   "source": [
    "# List containing the names of the categories not relevant for the analysis\n",
    "category_drop_list = list({category[0] for category in data.category.str.split('|') if category[0] != 'Electronics'})\n",
    "for category in category_drop_list:\n",
    "    data = data[data.category.str.contains(category)]\n",
    "\n",
    "# data = data[data.category.str.contains('')]"
   ],
   "metadata": {
    "collapsed": false,
    "ExecuteTime": {
     "end_time": "2024-01-09T02:29:42.744028300Z",
     "start_time": "2024-01-09T02:29:42.728025900Z"
    }
   },
   "id": "7994057dab94bdce",
   "execution_count": 45
  },
  {
   "cell_type": "markdown",
   "source": [
    "Feature Engineering\n",
    "1. Discount Amount: Calculate the absolute discount amount for each product via subtracting discounted price and actual price.\n",
    "2. Price-to-Rating Ratio: A Ratio for providing insights into whether higher-priced items tend to have higher or lower ratings.\n",
    "3. Sentiment Score of Reviews: Use of Natural Language Processing to calculate a sentiment score for each review.\n",
    "4. Category Levels: Splitting the hierarchical data contained in the category column into separate columns for more detailed category analysis.\n",
    "5. Price Range Category: Categorize products into different price ranges for analyzing consumer behavior across various price segments."
   ],
   "metadata": {
    "collapsed": false
   },
   "id": "40bacbe25f085792"
  },
  {
   "cell_type": "markdown",
   "source": [
    "Discount Amount: Calculate the absolute discount amount for each product via subtracting discounted price and actual price."
   ],
   "metadata": {
    "collapsed": false
   },
   "id": "7662408aad3b0c83"
  },
  {
   "cell_type": "code",
   "outputs": [
    {
     "data": {
      "text/plain": "0        8.40\n1        1.80\n2       20.40\n3        4.44\n4        2.94\n        ...  \n1460     6.48\n1461     9.18\n1462    10.33\n1463     5.89\n1464     9.92\nName: discount_amount, Length: 1465, dtype: float64"
     },
     "execution_count": 10,
     "metadata": {},
     "output_type": "execute_result"
    }
   ],
   "source": [
    "# Convert INR to USD for price columns and casting to float type\n",
    "data.actual_price = data.actual_price.replace('[₹,]', '', regex=True).astype(float)\n",
    "data.actual_price = (data.actual_price * .012).round(2)\n",
    "\n",
    "data.discounted_price = data.discounted_price.replace('[₹,]', '', regex=True).astype(float)\n",
    "data.discounted_price = (data.discounted_price * .012).round(2)\n",
    "\n",
    "# Creating discount amount column\n",
    "data['discount_amount'] = data.actual_price - data.discounted_price\n",
    "data.discount_amount"
   ],
   "metadata": {
    "collapsed": false,
    "ExecuteTime": {
     "end_time": "2024-01-09T01:20:37.291072200Z",
     "start_time": "2024-01-09T01:20:37.191053700Z"
    }
   },
   "id": "267e96ea9dccba04",
   "execution_count": 10
  },
  {
   "cell_type": "markdown",
   "source": [
    "Price-to-Rating: A Ratio for providing insights into whether higher-priced items tend to have higher or lower ratings."
   ],
   "metadata": {
    "collapsed": false
   },
   "id": "6ca3f23f07091abe"
  },
  {
   "cell_type": "code",
   "outputs": [
    {
     "data": {
      "text/plain": "0       1.140476\n1       0.597500\n2       0.612821\n3       0.940476\n4       0.440476\n          ...   \n1460    1.137500\n1461    6.673171\n1462    7.397222\n1463    4.197500\n1464    7.990698\nName: price_to_rating, Length: 1465, dtype: float64"
     },
     "execution_count": 11,
     "metadata": {},
     "output_type": "execute_result"
    }
   ],
   "source": [
    "# Replacing '|' entry with '0' and casting rating to float type\n",
    "data.rating = data.rating.replace('[|]', '0', regex=True).astype(float)\n",
    "\n",
    "# Creating price-to-rating column\n",
    "data['price_to_rating'] = data.discounted_price / data.rating\n",
    "data.price_to_rating"
   ],
   "metadata": {
    "collapsed": false,
    "ExecuteTime": {
     "end_time": "2024-01-09T01:20:37.315075300Z",
     "start_time": "2024-01-09T01:20:37.203055800Z"
    }
   },
   "id": "bdf6da3165d9d7c4",
   "execution_count": 11
  },
  {
   "cell_type": "markdown",
   "source": [
    "Sentiment Score of Reviews: Use of Natural Language Processing to calculate a sentiment score for each review."
   ],
   "metadata": {
    "collapsed": false
   },
   "id": "23d3c2a93c2ceb02"
  },
  {
   "cell_type": "code",
   "outputs": [
    {
     "data": {
      "text/plain": "0       0.481944\n1       0.274318\n2       0.600000\n3       0.240370\n4       0.262740\n          ...   \n1460    0.323810\n1461    0.142083\n1462    0.212857\n1463   -0.170167\n1464    0.318137\nName: review_sentiment, Length: 1465, dtype: float64"
     },
     "execution_count": 12,
     "metadata": {},
     "output_type": "execute_result"
    }
   ],
   "source": [
    "# Creating sentiment score of reviews\n",
    "data['review_sentiment'] = data.review_content.apply(\n",
    "    lambda content: TextBlob(content).sentiment.polarity\n",
    ")\n",
    "data.review_sentiment"
   ],
   "metadata": {
    "collapsed": false,
    "ExecuteTime": {
     "end_time": "2024-01-09T01:20:38.831839900Z",
     "start_time": "2024-01-09T01:20:37.219558500Z"
    }
   },
   "id": "11dbc24cba120a7c",
   "execution_count": 12
  },
  {
   "cell_type": "markdown",
   "source": [
    "Category Levels: Splitting the hierarchical data contained in the category column into separate columns for more detailed category analysis."
   ],
   "metadata": {
    "collapsed": false
   },
   "id": "6c2df0a08dbf003d"
  },
  {
   "cell_type": "code",
   "outputs": [
    {
     "name": "stdout",
     "output_type": "stream",
     "text": [
      "Computers&Accessories\n",
      "Electronics\n",
      "MusicalInstruments\n",
      "OfficeProducts\n",
      "Home&Kitchen\n",
      "HomeImprovement\n",
      "Toys&Games\n",
      "Car&Motorbike\n",
      "Health&PersonalCare\n"
     ]
    }
   ],
   "source": [
    "# A dict representing the hierarchical category levels, with the main category [0] and sub-categories [1:] as key:value pairs respectively.\n",
    "# category_levels = {}\n",
    "# for categories in data.category.str.split('|'):           # Iteration through the list of categories, split by '|'\n",
    "#     if categories[0] not in category_levels.keys():       # Check whether the main category exists as a key in the dict\n",
    "#         category_levels[categories[0]] = categories[1:]   # Set the main category as a key and the sub categories as the value\n",
    "#     else:\n",
    "#         for sub_category in categories[1:]:                          # Iteration through the list of sub-categories\n",
    "#             if sub_category not in category_levels[categories[0]]:   # Check whether the sub-category exists as a value in the list of sub-categories \n",
    "#                 category_levels[categories[0]].append(sub_category)  # Appending the sub-category to the list of sub-categories if not present\n",
    "# \n",
    "# for k in category_levels.keys():\n",
    "#     print(k)\n"
   ],
   "metadata": {
    "collapsed": false,
    "ExecuteTime": {
     "end_time": "2024-01-09T02:10:03.625529200Z",
     "start_time": "2024-01-09T02:10:03.615527800Z"
    }
   },
   "id": "5e1b13cab3e5c98b",
   "execution_count": 40
  },
  {
   "cell_type": "markdown",
   "source": [
    "Price Range Category: Categorize products into different price ranges for analyzing consumer behavior across various price segments."
   ],
   "metadata": {
    "collapsed": false
   },
   "id": "e30ebb817ea529f6"
  },
  {
   "cell_type": "code",
   "outputs": [],
   "source": [
    "# Creating price range column\n",
    "data['price_range'] = pd.cut(\n",
    "    data.discounted_price, \n",
    "    bins=[0, 50, 100, 500, 1000, np.inf], \n",
    "    labels=['Very Low', 'Low', 'Medium', 'High', 'Very High']\n",
    ")\n",
    "data.price_range"
   ],
   "metadata": {
    "collapsed": false,
    "ExecuteTime": {
     "end_time": "2024-01-09T01:20:39.257414600Z",
     "start_time": "2024-01-09T01:20:39.249913800Z"
    }
   },
   "id": "7e4bb4159c325d42",
   "execution_count": null
  }
 ],
 "metadata": {
  "kernelspec": {
   "display_name": "Python 3",
   "language": "python",
   "name": "python3"
  },
  "language_info": {
   "codemirror_mode": {
    "name": "ipython",
    "version": 2
   },
   "file_extension": ".py",
   "mimetype": "text/x-python",
   "name": "python",
   "nbconvert_exporter": "python",
   "pygments_lexer": "ipython2",
   "version": "2.7.6"
  }
 },
 "nbformat": 4,
 "nbformat_minor": 5
}
