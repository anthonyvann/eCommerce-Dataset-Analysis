{
 "cells": [
  {
   "cell_type": "markdown",
   "source": [
    "Import Python Libraries"
   ],
   "metadata": {
    "collapsed": false
   },
   "id": "ddea3e6c33f87716"
  },
  {
   "cell_type": "code",
   "execution_count": 126,
   "id": "initial_id",
   "metadata": {
    "collapsed": true,
    "ExecuteTime": {
     "end_time": "2024-01-10T00:25:02.039480900Z",
     "start_time": "2024-01-10T00:25:01.966968300Z"
    }
   },
   "outputs": [],
   "source": [
    "import pandas as pd\n",
    "import numpy as np\n",
    "import matplotlib.pyplot as plt\n",
    "import seaborn as sns\n",
    "from textblob import TextBlob\n",
    "from collections import defaultdict"
   ]
  },
  {
   "cell_type": "markdown",
   "source": [
    "Read the Dataset"
   ],
   "metadata": {
    "collapsed": false
   },
   "id": "ba7e9f72cb06219b"
  },
  {
   "cell_type": "code",
   "outputs": [],
   "source": [
    "# Reading the dataset to a DataFrame\n",
    "data = pd.read_csv('./amazon.csv')"
   ],
   "metadata": {
    "collapsed": false,
    "ExecuteTime": {
     "end_time": "2024-01-10T00:25:02.117995200Z",
     "start_time": "2024-01-10T00:25:02.041982Z"
    }
   },
   "id": "b5c95118fdd269bb",
   "execution_count": 127
  },
  {
   "cell_type": "markdown",
   "source": [
    "Examine the Data"
   ],
   "metadata": {
    "collapsed": false
   },
   "id": "c7996dd8fd719585"
  },
  {
   "cell_type": "code",
   "outputs": [
    {
     "data": {
      "text/plain": "   product_id                                       product_name  \\\n0  B07JW9H4J1  Wayona Nylon Braided USB to Lightning Fast Cha...   \n1  B098NS6PVG  Ambrane Unbreakable 60W / 3A Fast Charging 1.5...   \n2  B096MSW6CT  Sounce Fast Phone Charging Cable & Data Sync U...   \n3  B08HDJ86NZ  boAt Deuce USB 300 2 in 1 Type-C & Micro USB S...   \n4  B08CF3B7N1  Portronics Konnect L 1.2M Fast Charging 3A 8 P...   \n\n                                            category discounted_price  \\\n0  Computers&Accessories|Accessories&Peripherals|...             ₹399   \n1  Computers&Accessories|Accessories&Peripherals|...             ₹199   \n2  Computers&Accessories|Accessories&Peripherals|...             ₹199   \n3  Computers&Accessories|Accessories&Peripherals|...             ₹329   \n4  Computers&Accessories|Accessories&Peripherals|...             ₹154   \n\n  actual_price discount_percentage rating rating_count  \\\n0       ₹1,099                 64%    4.2       24,269   \n1         ₹349                 43%    4.0       43,994   \n2       ₹1,899                 90%    3.9        7,928   \n3         ₹699                 53%    4.2       94,363   \n4         ₹399                 61%    4.2       16,905   \n\n                                       about_product  \\\n0  High Compatibility : Compatible With iPhone 12...   \n1  Compatible with all Type C enabled devices, be...   \n2  【 Fast Charger& Data Sync】-With built-in safet...   \n3  The boAt Deuce USB 300 2 in 1 cable is compati...   \n4  [CHARGE & SYNC FUNCTION]- This cable comes wit...   \n\n                                             user_id  \\\n0  AG3D6O4STAQKAY2UVGEUV46KN35Q,AHMY5CWJMMK5BJRBB...   \n1  AECPFYFQVRUWC3KGNLJIOREFP5LQ,AGYYVPDD7YG7FYNBX...   \n2  AGU3BBQ2V2DDAMOAKGFAWDDQ6QHA,AESFLDV2PT363T2AQ...   \n3  AEWAZDZZJLQUYVOVGBEUKSLXHQ5A,AG5HTSFRRE6NL3M5S...   \n4  AE3Q6KSUK5P75D5HFYHCRAOLODSA,AFUGIFH5ZAFXRDSZH...   \n\n                                           user_name  \\\n0  Manav,Adarsh gupta,Sundeep,S.Sayeed Ahmed,jasp...   \n1  ArdKn,Nirbhay kumar,Sagar Viswanathan,Asp,Plac...   \n2  Kunal,Himanshu,viswanath,sai niharka,saqib mal...   \n3  Omkar dhale,JD,HEMALATHA,Ajwadh a.,amar singh ...   \n4  rahuls6099,Swasat Borah,Ajay Wadke,Pranali,RVK...   \n\n                                           review_id  \\\n0  R3HXWT0LRP0NMF,R2AJM3LFTLZHFO,R6AQJGUP6P86,R1K...   \n1  RGIQEG07R9HS2,R1SMWZQ86XIN8U,R2J3Y1WL29GWDE,RY...   \n2  R3J3EQQ9TZI5ZJ,R3E7WBGK7ID0KV,RWU79XKQ6I1QF,R2...   \n3  R3EEUZKKK9J36I,R3HJVYCLYOY554,REDECAZ7AMPQC,R1...   \n4  R1BP4L2HH9TFUP,R16PVJEXKV6QZS,R2UPDB81N66T4P,R...   \n\n                                        review_title  \\\n0  Satisfied,Charging is really fast,Value for mo...   \n1  A Good Braided Cable for Your Type C Device,Go...   \n2  Good speed for earlier versions,Good Product,W...   \n3  Good product,Good one,Nice,Really nice product...   \n4  As good as original,Decent,Good one for second...   \n\n                                      review_content  \\\n0  Looks durable Charging is fine tooNo complains...   \n1  I ordered this cable to connect my phone to An...   \n2  Not quite durable and sturdy,https://m.media-a...   \n3  Good product,long wire,Charges good,Nice,I bou...   \n4  Bought this instead of original apple, does th...   \n\n                                            img_link  \\\n0  https://m.media-amazon.com/images/W/WEBP_40237...   \n1  https://m.media-amazon.com/images/W/WEBP_40237...   \n2  https://m.media-amazon.com/images/W/WEBP_40237...   \n3  https://m.media-amazon.com/images/I/41V5FtEWPk...   \n4  https://m.media-amazon.com/images/W/WEBP_40237...   \n\n                                        product_link  \n0  https://www.amazon.in/Wayona-Braided-WN3LG1-Sy...  \n1  https://www.amazon.in/Ambrane-Unbreakable-Char...  \n2  https://www.amazon.in/Sounce-iPhone-Charging-C...  \n3  https://www.amazon.in/Deuce-300-Resistant-Tang...  \n4  https://www.amazon.in/Portronics-Konnect-POR-1...  ",
      "text/html": "<div>\n<style scoped>\n    .dataframe tbody tr th:only-of-type {\n        vertical-align: middle;\n    }\n\n    .dataframe tbody tr th {\n        vertical-align: top;\n    }\n\n    .dataframe thead th {\n        text-align: right;\n    }\n</style>\n<table border=\"1\" class=\"dataframe\">\n  <thead>\n    <tr style=\"text-align: right;\">\n      <th></th>\n      <th>product_id</th>\n      <th>product_name</th>\n      <th>category</th>\n      <th>discounted_price</th>\n      <th>actual_price</th>\n      <th>discount_percentage</th>\n      <th>rating</th>\n      <th>rating_count</th>\n      <th>about_product</th>\n      <th>user_id</th>\n      <th>user_name</th>\n      <th>review_id</th>\n      <th>review_title</th>\n      <th>review_content</th>\n      <th>img_link</th>\n      <th>product_link</th>\n    </tr>\n  </thead>\n  <tbody>\n    <tr>\n      <th>0</th>\n      <td>B07JW9H4J1</td>\n      <td>Wayona Nylon Braided USB to Lightning Fast Cha...</td>\n      <td>Computers&amp;Accessories|Accessories&amp;Peripherals|...</td>\n      <td>₹399</td>\n      <td>₹1,099</td>\n      <td>64%</td>\n      <td>4.2</td>\n      <td>24,269</td>\n      <td>High Compatibility : Compatible With iPhone 12...</td>\n      <td>AG3D6O4STAQKAY2UVGEUV46KN35Q,AHMY5CWJMMK5BJRBB...</td>\n      <td>Manav,Adarsh gupta,Sundeep,S.Sayeed Ahmed,jasp...</td>\n      <td>R3HXWT0LRP0NMF,R2AJM3LFTLZHFO,R6AQJGUP6P86,R1K...</td>\n      <td>Satisfied,Charging is really fast,Value for mo...</td>\n      <td>Looks durable Charging is fine tooNo complains...</td>\n      <td>https://m.media-amazon.com/images/W/WEBP_40237...</td>\n      <td>https://www.amazon.in/Wayona-Braided-WN3LG1-Sy...</td>\n    </tr>\n    <tr>\n      <th>1</th>\n      <td>B098NS6PVG</td>\n      <td>Ambrane Unbreakable 60W / 3A Fast Charging 1.5...</td>\n      <td>Computers&amp;Accessories|Accessories&amp;Peripherals|...</td>\n      <td>₹199</td>\n      <td>₹349</td>\n      <td>43%</td>\n      <td>4.0</td>\n      <td>43,994</td>\n      <td>Compatible with all Type C enabled devices, be...</td>\n      <td>AECPFYFQVRUWC3KGNLJIOREFP5LQ,AGYYVPDD7YG7FYNBX...</td>\n      <td>ArdKn,Nirbhay kumar,Sagar Viswanathan,Asp,Plac...</td>\n      <td>RGIQEG07R9HS2,R1SMWZQ86XIN8U,R2J3Y1WL29GWDE,RY...</td>\n      <td>A Good Braided Cable for Your Type C Device,Go...</td>\n      <td>I ordered this cable to connect my phone to An...</td>\n      <td>https://m.media-amazon.com/images/W/WEBP_40237...</td>\n      <td>https://www.amazon.in/Ambrane-Unbreakable-Char...</td>\n    </tr>\n    <tr>\n      <th>2</th>\n      <td>B096MSW6CT</td>\n      <td>Sounce Fast Phone Charging Cable &amp; Data Sync U...</td>\n      <td>Computers&amp;Accessories|Accessories&amp;Peripherals|...</td>\n      <td>₹199</td>\n      <td>₹1,899</td>\n      <td>90%</td>\n      <td>3.9</td>\n      <td>7,928</td>\n      <td>【 Fast Charger&amp; Data Sync】-With built-in safet...</td>\n      <td>AGU3BBQ2V2DDAMOAKGFAWDDQ6QHA,AESFLDV2PT363T2AQ...</td>\n      <td>Kunal,Himanshu,viswanath,sai niharka,saqib mal...</td>\n      <td>R3J3EQQ9TZI5ZJ,R3E7WBGK7ID0KV,RWU79XKQ6I1QF,R2...</td>\n      <td>Good speed for earlier versions,Good Product,W...</td>\n      <td>Not quite durable and sturdy,https://m.media-a...</td>\n      <td>https://m.media-amazon.com/images/W/WEBP_40237...</td>\n      <td>https://www.amazon.in/Sounce-iPhone-Charging-C...</td>\n    </tr>\n    <tr>\n      <th>3</th>\n      <td>B08HDJ86NZ</td>\n      <td>boAt Deuce USB 300 2 in 1 Type-C &amp; Micro USB S...</td>\n      <td>Computers&amp;Accessories|Accessories&amp;Peripherals|...</td>\n      <td>₹329</td>\n      <td>₹699</td>\n      <td>53%</td>\n      <td>4.2</td>\n      <td>94,363</td>\n      <td>The boAt Deuce USB 300 2 in 1 cable is compati...</td>\n      <td>AEWAZDZZJLQUYVOVGBEUKSLXHQ5A,AG5HTSFRRE6NL3M5S...</td>\n      <td>Omkar dhale,JD,HEMALATHA,Ajwadh a.,amar singh ...</td>\n      <td>R3EEUZKKK9J36I,R3HJVYCLYOY554,REDECAZ7AMPQC,R1...</td>\n      <td>Good product,Good one,Nice,Really nice product...</td>\n      <td>Good product,long wire,Charges good,Nice,I bou...</td>\n      <td>https://m.media-amazon.com/images/I/41V5FtEWPk...</td>\n      <td>https://www.amazon.in/Deuce-300-Resistant-Tang...</td>\n    </tr>\n    <tr>\n      <th>4</th>\n      <td>B08CF3B7N1</td>\n      <td>Portronics Konnect L 1.2M Fast Charging 3A 8 P...</td>\n      <td>Computers&amp;Accessories|Accessories&amp;Peripherals|...</td>\n      <td>₹154</td>\n      <td>₹399</td>\n      <td>61%</td>\n      <td>4.2</td>\n      <td>16,905</td>\n      <td>[CHARGE &amp; SYNC FUNCTION]- This cable comes wit...</td>\n      <td>AE3Q6KSUK5P75D5HFYHCRAOLODSA,AFUGIFH5ZAFXRDSZH...</td>\n      <td>rahuls6099,Swasat Borah,Ajay Wadke,Pranali,RVK...</td>\n      <td>R1BP4L2HH9TFUP,R16PVJEXKV6QZS,R2UPDB81N66T4P,R...</td>\n      <td>As good as original,Decent,Good one for second...</td>\n      <td>Bought this instead of original apple, does th...</td>\n      <td>https://m.media-amazon.com/images/W/WEBP_40237...</td>\n      <td>https://www.amazon.in/Portronics-Konnect-POR-1...</td>\n    </tr>\n  </tbody>\n</table>\n</div>"
     },
     "execution_count": 128,
     "metadata": {},
     "output_type": "execute_result"
    }
   ],
   "source": [
    "# Examining the first 5 rows\n",
    "data.head()"
   ],
   "metadata": {
    "collapsed": false,
    "ExecuteTime": {
     "end_time": "2024-01-10T00:25:02.132497200Z",
     "start_time": "2024-01-10T00:25:02.110494500Z"
    }
   },
   "id": "f44ed125c629e34d",
   "execution_count": 128
  },
  {
   "cell_type": "code",
   "outputs": [
    {
     "data": {
      "text/plain": "      product_id                                       product_name  \\\n1460  B08L7J3T31  Noir Aqua - 5pcs PP Spun Filter + 1 Spanner | ...   \n1461  B01M6453MB  Prestige Delight PRWO Electric Rice Cooker (1 ...   \n1462  B009P2LIL4  Bajaj Majesty RX10 2000 Watts Heat Convector R...   \n1463  B00J5DYCCA  Havells Ventil Air DSP 230mm Exhaust Fan (Pist...   \n1464  B01486F4G6  Borosil Jumbo 1000-Watt Grill Sandwich Maker (...   \n\n                                               category discounted_price  \\\n1460  Home&Kitchen|Kitchen&HomeAppliances|WaterPurif...             ₹379   \n1461  Home&Kitchen|Kitchen&HomeAppliances|SmallKitch...           ₹2,280   \n1462  Home&Kitchen|Heating,Cooling&AirQuality|RoomHe...           ₹2,219   \n1463  Home&Kitchen|Heating,Cooling&AirQuality|Fans|E...           ₹1,399   \n1464  Home&Kitchen|Kitchen&HomeAppliances|SmallKitch...           ₹2,863   \n\n     actual_price discount_percentage rating rating_count  \\\n1460         ₹919                 59%      4        1,090   \n1461       ₹3,045                 25%    4.1        4,118   \n1462       ₹3,080                 28%    3.6          468   \n1463       ₹1,890                 26%      4        8,031   \n1464       ₹3,690                 22%    4.3        6,987   \n\n                                          about_product  \\\n1460  SUPREME QUALITY 90 GRAM 3 LAYER THIK PP SPUN F...   \n1461                       230 Volts, 400 watts, 1 Year   \n1462  International design and styling|Two heat sett...   \n1463  Fan sweep area: 230 MM ; Noise level: (40 - 45...   \n1464  Brand-Borosil, Specification â€“ 23V ~ 5Hz;1 W...   \n\n                                                user_id  \\\n1460  AHITFY6AHALOFOHOZEOC6XBP4FEA,AFRABBODZJZQB6Z4U...   \n1461  AFG5FM3NEMOL6BNFRV2NK5FNJCHQ,AGEINTRN6Z563RMLH...   \n1462  AGVPWCMAHYQWJOQKMUJN4DW3KM5Q,AF4Q3E66MY4SR7YQZ...   \n1463  AF2JQCLSCY3QJATWUNNHUSVUPNQQ,AFDMLUXC5LS5RXDJS...   \n1464  AFGW5PT3R6ZAVQR4Y5MWVAKBZAYA,AG7QNJ2SCS5VS5VYY...   \n\n                                              user_name  \\\n1460  Prabha ds,Raghuram bk,Real Deal,Amazon Custome...   \n1461  Manu Bhai,Naveenpittu,Evatira Sangma,JAGANNADH...   \n1462  Nehal Desai,Danish Parwez,Amazon Customer,Amaz...   \n1463  Shubham Dubey,E.GURUBARAN,Mayank S.,eusuf khan...   \n1464  Rajib,Ajay B,Vikas Kahol,PARDEEP,Anindya Prama...   \n\n                                              review_id  \\\n1460  R3G3XFHPBFF0E8,R3C0BZCD32EIGW,R2EBVBCN9QPD9R,R...   \n1461  R3DDL2UPKQ2CK9,R2SYYU1OATVIU5,R1VM993161IYRW,R...   \n1462  R1TLRJVW4STY5I,R2O455KRN493R1,R3Q5MVGBRIAS2G,R...   \n1463  R39Q2Y79MM9SWK,R3079BG1NIH6MB,R29A31ZELTZNJM,R...   \n1464  R20RBRZ0WEUJT9,ROKIFK9R2ISSE,R30EEG2FNJSN5I,R2...   \n\n                                           review_title  \\\n1460  Received the product without spanner,Excellent...   \n1461  ok,everything was good couldn't return bcoz I ...   \n1462  very good,Work but front melt after 2 month,Go...   \n1463  Fan Speed is slow,Good quality,Good product,go...   \n1464  Works perfect,Ok good product,Nice Product. Re...   \n\n                                         review_content  \\\n1460  I received product without spanner,Excellent p...   \n1461  ok,got everything as mentioned but the measuri...   \n1462  plastic but cool body ,u have to find sturdy s...   \n1463  I have installed this in my kitchen working fi...   \n1464  It does it job perfectly..only issue is temp c...   \n\n                                               img_link  \\\n1460  https://m.media-amazon.com/images/I/41fDdRtjfx...   \n1461  https://m.media-amazon.com/images/I/41gzDxk4+k...   \n1462  https://m.media-amazon.com/images/W/WEBP_40237...   \n1463  https://m.media-amazon.com/images/W/WEBP_40237...   \n1464  https://m.media-amazon.com/images/W/WEBP_40237...   \n\n                                           product_link  \n1460  https://www.amazon.in/Noir-Aqua-Spanner-Purifi...  \n1461  https://www.amazon.in/Prestige-Delight-PRWO-1-...  \n1462  https://www.amazon.in/Bajaj-RX-10-2000-Watt-Co...  \n1463  https://www.amazon.in/Havells-Ventilair-230mm-...  \n1464  https://www.amazon.in/Borosil-Jumbo-1000-Watt-...  ",
      "text/html": "<div>\n<style scoped>\n    .dataframe tbody tr th:only-of-type {\n        vertical-align: middle;\n    }\n\n    .dataframe tbody tr th {\n        vertical-align: top;\n    }\n\n    .dataframe thead th {\n        text-align: right;\n    }\n</style>\n<table border=\"1\" class=\"dataframe\">\n  <thead>\n    <tr style=\"text-align: right;\">\n      <th></th>\n      <th>product_id</th>\n      <th>product_name</th>\n      <th>category</th>\n      <th>discounted_price</th>\n      <th>actual_price</th>\n      <th>discount_percentage</th>\n      <th>rating</th>\n      <th>rating_count</th>\n      <th>about_product</th>\n      <th>user_id</th>\n      <th>user_name</th>\n      <th>review_id</th>\n      <th>review_title</th>\n      <th>review_content</th>\n      <th>img_link</th>\n      <th>product_link</th>\n    </tr>\n  </thead>\n  <tbody>\n    <tr>\n      <th>1460</th>\n      <td>B08L7J3T31</td>\n      <td>Noir Aqua - 5pcs PP Spun Filter + 1 Spanner | ...</td>\n      <td>Home&amp;Kitchen|Kitchen&amp;HomeAppliances|WaterPurif...</td>\n      <td>₹379</td>\n      <td>₹919</td>\n      <td>59%</td>\n      <td>4</td>\n      <td>1,090</td>\n      <td>SUPREME QUALITY 90 GRAM 3 LAYER THIK PP SPUN F...</td>\n      <td>AHITFY6AHALOFOHOZEOC6XBP4FEA,AFRABBODZJZQB6Z4U...</td>\n      <td>Prabha ds,Raghuram bk,Real Deal,Amazon Custome...</td>\n      <td>R3G3XFHPBFF0E8,R3C0BZCD32EIGW,R2EBVBCN9QPD9R,R...</td>\n      <td>Received the product without spanner,Excellent...</td>\n      <td>I received product without spanner,Excellent p...</td>\n      <td>https://m.media-amazon.com/images/I/41fDdRtjfx...</td>\n      <td>https://www.amazon.in/Noir-Aqua-Spanner-Purifi...</td>\n    </tr>\n    <tr>\n      <th>1461</th>\n      <td>B01M6453MB</td>\n      <td>Prestige Delight PRWO Electric Rice Cooker (1 ...</td>\n      <td>Home&amp;Kitchen|Kitchen&amp;HomeAppliances|SmallKitch...</td>\n      <td>₹2,280</td>\n      <td>₹3,045</td>\n      <td>25%</td>\n      <td>4.1</td>\n      <td>4,118</td>\n      <td>230 Volts, 400 watts, 1 Year</td>\n      <td>AFG5FM3NEMOL6BNFRV2NK5FNJCHQ,AGEINTRN6Z563RMLH...</td>\n      <td>Manu Bhai,Naveenpittu,Evatira Sangma,JAGANNADH...</td>\n      <td>R3DDL2UPKQ2CK9,R2SYYU1OATVIU5,R1VM993161IYRW,R...</td>\n      <td>ok,everything was good couldn't return bcoz I ...</td>\n      <td>ok,got everything as mentioned but the measuri...</td>\n      <td>https://m.media-amazon.com/images/I/41gzDxk4+k...</td>\n      <td>https://www.amazon.in/Prestige-Delight-PRWO-1-...</td>\n    </tr>\n    <tr>\n      <th>1462</th>\n      <td>B009P2LIL4</td>\n      <td>Bajaj Majesty RX10 2000 Watts Heat Convector R...</td>\n      <td>Home&amp;Kitchen|Heating,Cooling&amp;AirQuality|RoomHe...</td>\n      <td>₹2,219</td>\n      <td>₹3,080</td>\n      <td>28%</td>\n      <td>3.6</td>\n      <td>468</td>\n      <td>International design and styling|Two heat sett...</td>\n      <td>AGVPWCMAHYQWJOQKMUJN4DW3KM5Q,AF4Q3E66MY4SR7YQZ...</td>\n      <td>Nehal Desai,Danish Parwez,Amazon Customer,Amaz...</td>\n      <td>R1TLRJVW4STY5I,R2O455KRN493R1,R3Q5MVGBRIAS2G,R...</td>\n      <td>very good,Work but front melt after 2 month,Go...</td>\n      <td>plastic but cool body ,u have to find sturdy s...</td>\n      <td>https://m.media-amazon.com/images/W/WEBP_40237...</td>\n      <td>https://www.amazon.in/Bajaj-RX-10-2000-Watt-Co...</td>\n    </tr>\n    <tr>\n      <th>1463</th>\n      <td>B00J5DYCCA</td>\n      <td>Havells Ventil Air DSP 230mm Exhaust Fan (Pist...</td>\n      <td>Home&amp;Kitchen|Heating,Cooling&amp;AirQuality|Fans|E...</td>\n      <td>₹1,399</td>\n      <td>₹1,890</td>\n      <td>26%</td>\n      <td>4</td>\n      <td>8,031</td>\n      <td>Fan sweep area: 230 MM ; Noise level: (40 - 45...</td>\n      <td>AF2JQCLSCY3QJATWUNNHUSVUPNQQ,AFDMLUXC5LS5RXDJS...</td>\n      <td>Shubham Dubey,E.GURUBARAN,Mayank S.,eusuf khan...</td>\n      <td>R39Q2Y79MM9SWK,R3079BG1NIH6MB,R29A31ZELTZNJM,R...</td>\n      <td>Fan Speed is slow,Good quality,Good product,go...</td>\n      <td>I have installed this in my kitchen working fi...</td>\n      <td>https://m.media-amazon.com/images/W/WEBP_40237...</td>\n      <td>https://www.amazon.in/Havells-Ventilair-230mm-...</td>\n    </tr>\n    <tr>\n      <th>1464</th>\n      <td>B01486F4G6</td>\n      <td>Borosil Jumbo 1000-Watt Grill Sandwich Maker (...</td>\n      <td>Home&amp;Kitchen|Kitchen&amp;HomeAppliances|SmallKitch...</td>\n      <td>₹2,863</td>\n      <td>₹3,690</td>\n      <td>22%</td>\n      <td>4.3</td>\n      <td>6,987</td>\n      <td>Brand-Borosil, Specification â€“ 23V ~ 5Hz;1 W...</td>\n      <td>AFGW5PT3R6ZAVQR4Y5MWVAKBZAYA,AG7QNJ2SCS5VS5VYY...</td>\n      <td>Rajib,Ajay B,Vikas Kahol,PARDEEP,Anindya Prama...</td>\n      <td>R20RBRZ0WEUJT9,ROKIFK9R2ISSE,R30EEG2FNJSN5I,R2...</td>\n      <td>Works perfect,Ok good product,Nice Product. Re...</td>\n      <td>It does it job perfectly..only issue is temp c...</td>\n      <td>https://m.media-amazon.com/images/W/WEBP_40237...</td>\n      <td>https://www.amazon.in/Borosil-Jumbo-1000-Watt-...</td>\n    </tr>\n  </tbody>\n</table>\n</div>"
     },
     "execution_count": 129,
     "metadata": {},
     "output_type": "execute_result"
    }
   ],
   "source": [
    "# Examining the last 5 rows\n",
    "data.tail()  "
   ],
   "metadata": {
    "collapsed": false,
    "ExecuteTime": {
     "end_time": "2024-01-10T00:25:02.154002Z",
     "start_time": "2024-01-10T00:25:02.124995800Z"
    }
   },
   "id": "eed6aab6a07185a5",
   "execution_count": 129
  },
  {
   "cell_type": "code",
   "outputs": [
    {
     "name": "stdout",
     "output_type": "stream",
     "text": [
      "<class 'pandas.core.frame.DataFrame'>\n",
      "RangeIndex: 1465 entries, 0 to 1464\n",
      "Data columns (total 16 columns):\n",
      " #   Column               Non-Null Count  Dtype \n",
      "---  ------               --------------  ----- \n",
      " 0   product_id           1465 non-null   object\n",
      " 1   product_name         1465 non-null   object\n",
      " 2   category             1465 non-null   object\n",
      " 3   discounted_price     1465 non-null   object\n",
      " 4   actual_price         1465 non-null   object\n",
      " 5   discount_percentage  1465 non-null   object\n",
      " 6   rating               1465 non-null   object\n",
      " 7   rating_count         1463 non-null   object\n",
      " 8   about_product        1465 non-null   object\n",
      " 9   user_id              1465 non-null   object\n",
      " 10  user_name            1465 non-null   object\n",
      " 11  review_id            1465 non-null   object\n",
      " 12  review_title         1465 non-null   object\n",
      " 13  review_content       1465 non-null   object\n",
      " 14  img_link             1465 non-null   object\n",
      " 15  product_link         1465 non-null   object\n",
      "dtypes: object(16)\n",
      "memory usage: 183.2+ KB\n"
     ]
    }
   ],
   "source": [
    "# Overview of DataFrame\n",
    "data.info()"
   ],
   "metadata": {
    "collapsed": false,
    "ExecuteTime": {
     "end_time": "2024-01-10T00:25:02.193508Z",
     "start_time": "2024-01-10T00:25:02.141498800Z"
    }
   },
   "id": "a6d3ebd848afab0c",
   "execution_count": 130
  },
  {
   "cell_type": "markdown",
   "source": [
    "Check for Duplicates"
   ],
   "metadata": {
    "collapsed": false
   },
   "id": "f51786336c9abaaf"
  },
  {
   "cell_type": "code",
   "outputs": [
    {
     "data": {
      "text/plain": "product_id             1351\nproduct_name           1337\ncategory                211\ndiscounted_price        550\nactual_price            449\ndiscount_percentage      92\nrating                   28\nrating_count           1143\nabout_product          1293\nuser_id                1194\nuser_name              1194\nreview_id              1194\nreview_title           1194\nreview_content         1212\nimg_link               1412\nproduct_link           1465\ndtype: int64"
     },
     "execution_count": 131,
     "metadata": {},
     "output_type": "execute_result"
    }
   ],
   "source": [
    "# Number of unique values\n",
    "data.nunique()"
   ],
   "metadata": {
    "collapsed": false,
    "ExecuteTime": {
     "end_time": "2024-01-10T00:25:02.214511600Z",
     "start_time": "2024-01-10T00:25:02.157001700Z"
    }
   },
   "id": "c47a17e5d374041f",
   "execution_count": 131
  },
  {
   "cell_type": "code",
   "outputs": [
    {
     "data": {
      "text/plain": "product_id             0\nproduct_name           0\ncategory               0\ndiscounted_price       0\nactual_price           0\ndiscount_percentage    0\nrating                 0\nrating_count           2\nabout_product          0\nuser_id                0\nuser_name              0\nreview_id              0\nreview_title           0\nreview_content         0\nimg_link               0\nproduct_link           0\ndtype: int64"
     },
     "execution_count": 132,
     "metadata": {},
     "output_type": "execute_result"
    }
   ],
   "source": [
    "# Sum of null values\n",
    "data.isnull().sum()"
   ],
   "metadata": {
    "collapsed": false,
    "ExecuteTime": {
     "end_time": "2024-01-10T00:25:02.246517500Z",
     "start_time": "2024-01-10T00:25:02.187506900Z"
    }
   },
   "id": "34e9118a85ae2e50",
   "execution_count": 132
  },
  {
   "cell_type": "code",
   "outputs": [
    {
     "data": {
      "text/plain": "product_id             0.000000\nproduct_name           0.000000\ncategory               0.000000\ndiscounted_price       0.000000\nactual_price           0.000000\ndiscount_percentage    0.000000\nrating                 0.000000\nrating_count           0.136519\nabout_product          0.000000\nuser_id                0.000000\nuser_name              0.000000\nreview_id              0.000000\nreview_title           0.000000\nreview_content         0.000000\nimg_link               0.000000\nproduct_link           0.000000\ndtype: float64"
     },
     "execution_count": 133,
     "metadata": {},
     "output_type": "execute_result"
    }
   ],
   "source": [
    "# Displaying the percentage of null values\n",
    "(data.isnull().sum() / len(data)) * 100"
   ],
   "metadata": {
    "collapsed": false,
    "ExecuteTime": {
     "end_time": "2024-01-10T00:25:02.249517800Z",
     "start_time": "2024-01-10T00:25:02.204009800Z"
    }
   },
   "id": "7cbeeb8636480b2c",
   "execution_count": 133
  },
  {
   "cell_type": "markdown",
   "source": [
    "Data Reduction\n",
    "To reduce the amount of data in our dataset, by evaluating which column(s) and row(s) do not add value to the analysis.\n",
    "    \n",
    "Columns\n",
    "- user_id, user_name: Unlikely to be useful for the intended purpose of the analysis.\n",
    "- img_link, product_link: These columns do not hold analytical value for pricing trends or consumer preferences as they only contain URLs.\n",
    "Rows\n",
    "- Entries where the main category is not 'Electronics': Simplifies the data so that only electronics-related purchases remain."
   ],
   "metadata": {
    "collapsed": false
   },
   "id": "5c4a233244726fee"
  },
  {
   "cell_type": "code",
   "outputs": [
    {
     "name": "stdout",
     "output_type": "stream",
     "text": [
      "<class 'pandas.core.frame.DataFrame'>\n",
      "RangeIndex: 1465 entries, 0 to 1464\n",
      "Data columns (total 12 columns):\n",
      " #   Column               Non-Null Count  Dtype \n",
      "---  ------               --------------  ----- \n",
      " 0   product_id           1465 non-null   object\n",
      " 1   product_name         1465 non-null   object\n",
      " 2   category             1465 non-null   object\n",
      " 3   discounted_price     1465 non-null   object\n",
      " 4   actual_price         1465 non-null   object\n",
      " 5   discount_percentage  1465 non-null   object\n",
      " 6   rating               1465 non-null   object\n",
      " 7   rating_count         1463 non-null   object\n",
      " 8   about_product        1465 non-null   object\n",
      " 9   review_id            1465 non-null   object\n",
      " 10  review_title         1465 non-null   object\n",
      " 11  review_content       1465 non-null   object\n",
      "dtypes: object(12)\n",
      "memory usage: 137.5+ KB\n"
     ]
    }
   ],
   "source": [
    "# Dropping columns that do not add value to the analysis\n",
    "data = data.drop(['user_id', 'user_name', 'img_link', 'product_link'], axis=1)\n",
    "data.info()"
   ],
   "metadata": {
    "collapsed": false,
    "ExecuteTime": {
     "end_time": "2024-01-10T00:25:02.337533300Z",
     "start_time": "2024-01-10T00:25:02.219012400Z"
    }
   },
   "id": "557ebdd7073dd655",
   "execution_count": 134
  },
  {
   "cell_type": "code",
   "outputs": [
    {
     "name": "stdout",
     "output_type": "stream",
     "text": [
      "<class 'pandas.core.frame.DataFrame'>\n",
      "Index: 526 entries, 12 to 1021\n",
      "Data columns (total 12 columns):\n",
      " #   Column               Non-Null Count  Dtype \n",
      "---  ------               --------------  ----- \n",
      " 0   product_id           526 non-null    object\n",
      " 1   product_name         526 non-null    object\n",
      " 2   category             526 non-null    object\n",
      " 3   discounted_price     526 non-null    object\n",
      " 4   actual_price         526 non-null    object\n",
      " 5   discount_percentage  526 non-null    object\n",
      " 6   rating               526 non-null    object\n",
      " 7   rating_count         526 non-null    object\n",
      " 8   about_product        526 non-null    object\n",
      " 9   review_id            526 non-null    object\n",
      " 10  review_title         526 non-null    object\n",
      " 11  review_content       526 non-null    object\n",
      "dtypes: object(12)\n",
      "memory usage: 53.4+ KB\n"
     ]
    }
   ],
   "source": [
    "# Dropping rows that do not add value to the analysis\n",
    "for category in data.category.str.split('|'):\n",
    "    # If 'Electronics' is not the main category\n",
    "    if category[0] != 'Electronics':\n",
    "        # Dropping the row where 'Electronics' is not the main category\n",
    "        data = data[data.category.str.contains(category[0]) == False]\n",
    "        \n",
    "data.info()"
   ],
   "metadata": {
    "collapsed": false,
    "ExecuteTime": {
     "end_time": "2024-01-10T00:25:02.699096100Z",
     "start_time": "2024-01-10T00:25:02.234015700Z"
    }
   },
   "id": "7994057dab94bdce",
   "execution_count": 135
  },
  {
   "cell_type": "markdown",
   "source": [
    "Feature Engineering\n",
    "1. Discount Amount: Calculate the absolute discount amount for each product via subtracting discounted price and actual price.\n",
    "2. Price-to-Rating Ratio: A Ratio for providing insights into whether higher-priced items tend to have higher or lower ratings.\n",
    "3. Sentiment Score of Reviews: Use of Natural Language Processing to calculate a sentiment score for each review.\n",
    "4. Category Levels: Splitting the hierarchical data contained in the category column into separate columns for more detailed category analysis.\n",
    "5. Price Range Category: Categorize products into different price ranges for analyzing consumer behavior across various price segments."
   ],
   "metadata": {
    "collapsed": false
   },
   "id": "40bacbe25f085792"
  },
  {
   "cell_type": "markdown",
   "source": [
    "Discount Amount: Calculate the absolute discount amount for each product via subtracting discounted price and actual price."
   ],
   "metadata": {
    "collapsed": false
   },
   "id": "7662408aad3b0c83"
  },
  {
   "cell_type": "code",
   "outputs": [
    {
     "data": {
      "text/plain": "12        5.77\n16      132.00\n19      102.00\n21        2.64\n22      112.92\n         ...  \n1012      0.24\n1015     19.69\n1016     14.40\n1017     52.80\n1021     18.00\nName: discount_amount, Length: 526, dtype: float64"
     },
     "execution_count": 136,
     "metadata": {},
     "output_type": "execute_result"
    }
   ],
   "source": [
    "# Converting INR to USD for price columns and casting to float type\n",
    "data.actual_price = data.actual_price.replace('[₹,]', '', regex=True).astype(float)\n",
    "data.actual_price = (data.actual_price * .012).round(2)\n",
    "\n",
    "data.discounted_price = data.discounted_price.replace('[₹,]', '', regex=True).astype(float)\n",
    "data.discounted_price = (data.discounted_price * .012).round(2)\n",
    "\n",
    "# Creating discount amount column\n",
    "data['discount_amount'] = data.actual_price - data.discounted_price\n",
    "data.discount_amount"
   ],
   "metadata": {
    "collapsed": false,
    "ExecuteTime": {
     "end_time": "2024-01-10T00:25:02.731601900Z",
     "start_time": "2024-01-10T00:25:02.701770200Z"
    }
   },
   "id": "267e96ea9dccba04",
   "execution_count": 136
  },
  {
   "cell_type": "markdown",
   "source": [
    "Price-to-Rating: A Ratio for providing insights into whether higher-priced items tend to have higher or lower ratings."
   ],
   "metadata": {
    "collapsed": false
   },
   "id": "6ca3f23f07091abe"
  },
  {
   "cell_type": "code",
   "outputs": [
    {
     "data": {
      "text/plain": "12       0.597727\n16      39.997619\n19      37.646512\n21       0.905405\n22      37.646512\n          ...    \n1012     1.036364\n1015     2.426190\n1016     2.591892\n1017     6.931111\n1021     4.387805\nName: price_to_rating, Length: 526, dtype: float64"
     },
     "execution_count": 137,
     "metadata": {},
     "output_type": "execute_result"
    }
   ],
   "source": [
    "# Replacing '|' entry with '0' and casting rating to float type\n",
    "data.rating = data.rating.replace('[|]', '0', regex=True).astype(float)\n",
    "\n",
    "# Creating price-to-rating column\n",
    "data['price_to_rating'] = data.discounted_price / data.rating\n",
    "data.price_to_rating"
   ],
   "metadata": {
    "collapsed": false,
    "ExecuteTime": {
     "end_time": "2024-01-10T00:25:02.732602700Z",
     "start_time": "2024-01-10T00:25:02.714098600Z"
    }
   },
   "id": "bdf6da3165d9d7c4",
   "execution_count": 137
  },
  {
   "cell_type": "markdown",
   "source": [
    "Sentiment Score of Reviews: Use of Natural Language Processing to calculate a sentiment score for each review."
   ],
   "metadata": {
    "collapsed": false
   },
   "id": "23d3c2a93c2ceb02"
  },
  {
   "cell_type": "code",
   "outputs": [
    {
     "data": {
      "text/plain": "12      0.374790\n16      0.404615\n19      0.378333\n21      0.138056\n22     -0.172245\n          ...   \n1012    0.135744\n1015    0.346539\n1016    0.220506\n1017    0.405492\n1021    0.160982\nName: review_sentiment, Length: 526, dtype: float64"
     },
     "execution_count": 138,
     "metadata": {},
     "output_type": "execute_result"
    }
   ],
   "source": [
    "# Creating sentiment score of reviews\n",
    "data['review_sentiment'] = data.review_content.apply(\n",
    "    lambda content: TextBlob(content).sentiment.polarity\n",
    ")\n",
    "data.review_sentiment"
   ],
   "metadata": {
    "collapsed": false,
    "ExecuteTime": {
     "end_time": "2024-01-10T00:25:03.504236600Z",
     "start_time": "2024-01-10T00:25:02.731102200Z"
    }
   },
   "id": "11dbc24cba120a7c",
   "execution_count": 138
  },
  {
   "cell_type": "markdown",
   "source": [
    "Category Levels: Splitting the hierarchical data contained in the category column into separate columns for more detailed category analysis."
   ],
   "metadata": {
    "collapsed": false
   },
   "id": "6c2df0a08dbf003d"
  },
  {
   "cell_type": "code",
   "outputs": [
    {
     "data": {
      "text/plain": "      product_id                                       product_name  \\\n12    B07KSMBL2H  AmazonBasics Flexible Premium HDMI Cable (Blac...   \n16    B0B6F7LX4C  MI 80 cm (32 inches) 5A Series HD Ready Smart ...   \n19    B08DPLCM6T  LG 80 cm (32 inches) HD Ready Smart LED TV 32L...   \n21    B085194JFL  tizum HDMI to VGA Adapter Cable 1080P for Proj...   \n22    B09F6S8BT6  Samsung 80 cm (32 Inches) Wondertainment Serie...   \n...          ...                                                ...   \n1012  B014SZPBM4           Duracell Ultra Alkaline D Battery, 2 Pcs   \n1015  B078W65FJ7  boAt BassHeads 900 On-Ear Wired Headphones wit...   \n1016  B08S74GTBT  Zebronics Astra 10 Portable Wireless BT v5.0 S...   \n1017  B0B9BD2YL4  KINGONE Wireless Charging Pencil (2nd Generati...   \n1021  B07W7Z6DVL  Infinity (JBL Fuze 100, Wireless Portable Blue...   \n\n      discounted_price  actual_price discount_percentage  rating rating_count  \\\n12                2.63          8.40                 69%     4.4     4,26,973   \n16              167.99        299.99                 44%     4.2       32,840   \n19              161.88        263.88                 39%     4.3       11,976   \n21                3.35          5.99                 44%     3.7       10,962   \n22              161.88        274.80                 41%     4.3       16,299   \n...                ...           ...                 ...     ...          ...   \n1012              4.56          4.80                  5%     4.4        2,111   \n1015             10.19         29.88                 66%     4.2       91,188   \n1016              9.59         23.99                 60%     3.7          418   \n1017             31.19         83.99                 63%     4.5        1,526   \n1021             17.99         35.99                 50%     4.1       25,262   \n\n                                          about_product  \\\n12    Flexible, lightweight HDMI cable for connectin...   \n16    Note : The brands, Mi and Xiaomi, are part of ...   \n19    Resolution: HD Ready (1366x768) | Refresh Rate...   \n21    Superior Stability: Built-in advanced Certifie...   \n22    Resolution: HD Ready (1366x768) | Refresh Rate...   \n...                                                 ...   \n1012  Long Lasting Power Guaranteed|Our best battery...   \n1015  Enjoy powerful, dynamic sound with punchy bass...   \n1016  Wireless Portable Speaker with Mobile Holder|E...   \n1017  【2022 latest iPad Magnetic Charging】 The lates...   \n1021  Compact Portable Bluetooth Speakers. Wireless ...   \n\n                                              review_id  \\\n12    R1FKOKZ3HHKJBZ,R2WNMZI1EXTA0H,RCA1M3W4RIXUR,R3...   \n16    R13UTIA6KOF6QV,R2UGDZSGFF01K7,RHHIZ45VYU5X6,R1...   \n19    R2PNR69G0BQG2F,R31A0WWDEYMKEW,R2C4XEWFLVU7JV,R...   \n21    R1GYK05NN6747O,R1J21BZ29NGQF9,R16JCHEILBYOMW,R...   \n22    R1SN0D4DFBKAZI,R1SX5L77L2CD6V,R1NAZ6M4QBUJMK,R...   \n...                                                 ...   \n1012  R1RXFMVZ8EKN3Q,R2YX4PL3F59OHC,RUDJ9ISAQDD3B,R3...   \n1015  R1ENIO169KEJPW,R1V9WVGGU6G0SZ,R1CS1EB6REPXU6,R...   \n1016  R1PUDD2V2KQP06,R1LRN5EFJ0Y717,R1S7Q7UW9FO9LY,R...   \n1017  R1HOV97NOJFX4W,R3BIRU7WH404ND,RAU26U2KP1OQH,R1...   \n1021  R2NQLS6I62ASDV,RIT3TAH74G3JM,R3V03S1XKJWJ4F,RT...   \n\n                                           review_title  \\\n12    It's quite good and value for money,Works well...   \n16    It is the best tv if you are getting it in 10-...   \n19    Sound quality,Very nice,Value for money,Good,G...   \n21    Good product ; Average Finishing,Save it purpo...   \n22    Good,Sound is very low another brand comparing...   \n...                                                 ...   \n1012  Battery,Good buy,Bigger than expected,Best Bat...   \n1015  Definitely good but wire is too short,Never ex...   \n1016  Super product,Worst antenna.... It came out wh...   \n1017  Quite Good,good pencil,Value for money,Brillia...   \n1021  Good Handy Bluetooth Speaker,Very Nice,Medium,...   \n\n                                         review_content  discount_amount  \\\n12    I am using it for 14 days now. The experience ...             5.77   \n16    Pros- xiomi 5a is best in budget-Nice picture ...           132.00   \n19    LG was always Good , correct delivery, good se...           102.00   \n21    This connector has provided as a boon for my o...             2.64   \n22    Overall good.,TV picture ok smart betterSound ...           112.92   \n...                                                 ...              ...   \n1012  Duracell never disappoint you,Good,https://m.m...             0.24   \n1015  Product is good. It's definitely a peace for e...            19.69   \n1016  Super product,Worst product,Too good product,G...            14.40   \n1017  After 10 days of use bhaut acha chl rha ha and...            52.80   \n1021  Good Bass and Treble. Good Sound Quality.,Good...            18.00   \n\n      price_to_rating  review_sentiment  \\\n12           0.597727          0.374790   \n16          39.997619          0.404615   \n19          37.646512          0.378333   \n21           0.905405          0.138056   \n22          37.646512         -0.172245   \n...               ...               ...   \n1012         1.036364          0.135744   \n1015         2.426190          0.346539   \n1016         2.591892          0.220506   \n1017         6.931111          0.405492   \n1021         4.387805          0.160982   \n\n                                sub_category1        sub_category2  \\\n12                       HomeTheater,TV&Video          Accessories   \n16                       HomeTheater,TV&Video          Televisions   \n19                       HomeTheater,TV&Video          Televisions   \n21                       HomeTheater,TV&Video          Accessories   \n22                       HomeTheater,TV&Video          Televisions   \n...                                       ...                  ...   \n1012  GeneralPurposeBatteries&BatteryChargers  DisposableBatteries   \n1015           Headphones,Earbuds&Accessories           Headphones   \n1016                                HomeAudio             Speakers   \n1017                      Mobiles&Accessories    MobileAccessories   \n1021                                HomeAudio             Speakers   \n\n         sub_category3  \n12              Cables  \n16    SmartTelevisions  \n19    SmartTelevisions  \n21              Cables  \n22    SmartTelevisions  \n...                ...  \n1012              None  \n1015            On-Ear  \n1016   OutdoorSpeakers  \n1017        StylusPens  \n1021   OutdoorSpeakers  \n\n[526 rows x 17 columns]",
      "text/html": "<div>\n<style scoped>\n    .dataframe tbody tr th:only-of-type {\n        vertical-align: middle;\n    }\n\n    .dataframe tbody tr th {\n        vertical-align: top;\n    }\n\n    .dataframe thead th {\n        text-align: right;\n    }\n</style>\n<table border=\"1\" class=\"dataframe\">\n  <thead>\n    <tr style=\"text-align: right;\">\n      <th></th>\n      <th>product_id</th>\n      <th>product_name</th>\n      <th>discounted_price</th>\n      <th>actual_price</th>\n      <th>discount_percentage</th>\n      <th>rating</th>\n      <th>rating_count</th>\n      <th>about_product</th>\n      <th>review_id</th>\n      <th>review_title</th>\n      <th>review_content</th>\n      <th>discount_amount</th>\n      <th>price_to_rating</th>\n      <th>review_sentiment</th>\n      <th>sub_category1</th>\n      <th>sub_category2</th>\n      <th>sub_category3</th>\n    </tr>\n  </thead>\n  <tbody>\n    <tr>\n      <th>12</th>\n      <td>B07KSMBL2H</td>\n      <td>AmazonBasics Flexible Premium HDMI Cable (Blac...</td>\n      <td>2.63</td>\n      <td>8.40</td>\n      <td>69%</td>\n      <td>4.4</td>\n      <td>4,26,973</td>\n      <td>Flexible, lightweight HDMI cable for connectin...</td>\n      <td>R1FKOKZ3HHKJBZ,R2WNMZI1EXTA0H,RCA1M3W4RIXUR,R3...</td>\n      <td>It's quite good and value for money,Works well...</td>\n      <td>I am using it for 14 days now. The experience ...</td>\n      <td>5.77</td>\n      <td>0.597727</td>\n      <td>0.374790</td>\n      <td>HomeTheater,TV&amp;Video</td>\n      <td>Accessories</td>\n      <td>Cables</td>\n    </tr>\n    <tr>\n      <th>16</th>\n      <td>B0B6F7LX4C</td>\n      <td>MI 80 cm (32 inches) 5A Series HD Ready Smart ...</td>\n      <td>167.99</td>\n      <td>299.99</td>\n      <td>44%</td>\n      <td>4.2</td>\n      <td>32,840</td>\n      <td>Note : The brands, Mi and Xiaomi, are part of ...</td>\n      <td>R13UTIA6KOF6QV,R2UGDZSGFF01K7,RHHIZ45VYU5X6,R1...</td>\n      <td>It is the best tv if you are getting it in 10-...</td>\n      <td>Pros- xiomi 5a is best in budget-Nice picture ...</td>\n      <td>132.00</td>\n      <td>39.997619</td>\n      <td>0.404615</td>\n      <td>HomeTheater,TV&amp;Video</td>\n      <td>Televisions</td>\n      <td>SmartTelevisions</td>\n    </tr>\n    <tr>\n      <th>19</th>\n      <td>B08DPLCM6T</td>\n      <td>LG 80 cm (32 inches) HD Ready Smart LED TV 32L...</td>\n      <td>161.88</td>\n      <td>263.88</td>\n      <td>39%</td>\n      <td>4.3</td>\n      <td>11,976</td>\n      <td>Resolution: HD Ready (1366x768) | Refresh Rate...</td>\n      <td>R2PNR69G0BQG2F,R31A0WWDEYMKEW,R2C4XEWFLVU7JV,R...</td>\n      <td>Sound quality,Very nice,Value for money,Good,G...</td>\n      <td>LG was always Good , correct delivery, good se...</td>\n      <td>102.00</td>\n      <td>37.646512</td>\n      <td>0.378333</td>\n      <td>HomeTheater,TV&amp;Video</td>\n      <td>Televisions</td>\n      <td>SmartTelevisions</td>\n    </tr>\n    <tr>\n      <th>21</th>\n      <td>B085194JFL</td>\n      <td>tizum HDMI to VGA Adapter Cable 1080P for Proj...</td>\n      <td>3.35</td>\n      <td>5.99</td>\n      <td>44%</td>\n      <td>3.7</td>\n      <td>10,962</td>\n      <td>Superior Stability: Built-in advanced Certifie...</td>\n      <td>R1GYK05NN6747O,R1J21BZ29NGQF9,R16JCHEILBYOMW,R...</td>\n      <td>Good product ; Average Finishing,Save it purpo...</td>\n      <td>This connector has provided as a boon for my o...</td>\n      <td>2.64</td>\n      <td>0.905405</td>\n      <td>0.138056</td>\n      <td>HomeTheater,TV&amp;Video</td>\n      <td>Accessories</td>\n      <td>Cables</td>\n    </tr>\n    <tr>\n      <th>22</th>\n      <td>B09F6S8BT6</td>\n      <td>Samsung 80 cm (32 Inches) Wondertainment Serie...</td>\n      <td>161.88</td>\n      <td>274.80</td>\n      <td>41%</td>\n      <td>4.3</td>\n      <td>16,299</td>\n      <td>Resolution: HD Ready (1366x768) | Refresh Rate...</td>\n      <td>R1SN0D4DFBKAZI,R1SX5L77L2CD6V,R1NAZ6M4QBUJMK,R...</td>\n      <td>Good,Sound is very low another brand comparing...</td>\n      <td>Overall good.,TV picture ok smart betterSound ...</td>\n      <td>112.92</td>\n      <td>37.646512</td>\n      <td>-0.172245</td>\n      <td>HomeTheater,TV&amp;Video</td>\n      <td>Televisions</td>\n      <td>SmartTelevisions</td>\n    </tr>\n    <tr>\n      <th>...</th>\n      <td>...</td>\n      <td>...</td>\n      <td>...</td>\n      <td>...</td>\n      <td>...</td>\n      <td>...</td>\n      <td>...</td>\n      <td>...</td>\n      <td>...</td>\n      <td>...</td>\n      <td>...</td>\n      <td>...</td>\n      <td>...</td>\n      <td>...</td>\n      <td>...</td>\n      <td>...</td>\n      <td>...</td>\n    </tr>\n    <tr>\n      <th>1012</th>\n      <td>B014SZPBM4</td>\n      <td>Duracell Ultra Alkaline D Battery, 2 Pcs</td>\n      <td>4.56</td>\n      <td>4.80</td>\n      <td>5%</td>\n      <td>4.4</td>\n      <td>2,111</td>\n      <td>Long Lasting Power Guaranteed|Our best battery...</td>\n      <td>R1RXFMVZ8EKN3Q,R2YX4PL3F59OHC,RUDJ9ISAQDD3B,R3...</td>\n      <td>Battery,Good buy,Bigger than expected,Best Bat...</td>\n      <td>Duracell never disappoint you,Good,https://m.m...</td>\n      <td>0.24</td>\n      <td>1.036364</td>\n      <td>0.135744</td>\n      <td>GeneralPurposeBatteries&amp;BatteryChargers</td>\n      <td>DisposableBatteries</td>\n      <td>None</td>\n    </tr>\n    <tr>\n      <th>1015</th>\n      <td>B078W65FJ7</td>\n      <td>boAt BassHeads 900 On-Ear Wired Headphones wit...</td>\n      <td>10.19</td>\n      <td>29.88</td>\n      <td>66%</td>\n      <td>4.2</td>\n      <td>91,188</td>\n      <td>Enjoy powerful, dynamic sound with punchy bass...</td>\n      <td>R1ENIO169KEJPW,R1V9WVGGU6G0SZ,R1CS1EB6REPXU6,R...</td>\n      <td>Definitely good but wire is too short,Never ex...</td>\n      <td>Product is good. It's definitely a peace for e...</td>\n      <td>19.69</td>\n      <td>2.426190</td>\n      <td>0.346539</td>\n      <td>Headphones,Earbuds&amp;Accessories</td>\n      <td>Headphones</td>\n      <td>On-Ear</td>\n    </tr>\n    <tr>\n      <th>1016</th>\n      <td>B08S74GTBT</td>\n      <td>Zebronics Astra 10 Portable Wireless BT v5.0 S...</td>\n      <td>9.59</td>\n      <td>23.99</td>\n      <td>60%</td>\n      <td>3.7</td>\n      <td>418</td>\n      <td>Wireless Portable Speaker with Mobile Holder|E...</td>\n      <td>R1PUDD2V2KQP06,R1LRN5EFJ0Y717,R1S7Q7UW9FO9LY,R...</td>\n      <td>Super product,Worst antenna.... It came out wh...</td>\n      <td>Super product,Worst product,Too good product,G...</td>\n      <td>14.40</td>\n      <td>2.591892</td>\n      <td>0.220506</td>\n      <td>HomeAudio</td>\n      <td>Speakers</td>\n      <td>OutdoorSpeakers</td>\n    </tr>\n    <tr>\n      <th>1017</th>\n      <td>B0B9BD2YL4</td>\n      <td>KINGONE Wireless Charging Pencil (2nd Generati...</td>\n      <td>31.19</td>\n      <td>83.99</td>\n      <td>63%</td>\n      <td>4.5</td>\n      <td>1,526</td>\n      <td>【2022 latest iPad Magnetic Charging】 The lates...</td>\n      <td>R1HOV97NOJFX4W,R3BIRU7WH404ND,RAU26U2KP1OQH,R1...</td>\n      <td>Quite Good,good pencil,Value for money,Brillia...</td>\n      <td>After 10 days of use bhaut acha chl rha ha and...</td>\n      <td>52.80</td>\n      <td>6.931111</td>\n      <td>0.405492</td>\n      <td>Mobiles&amp;Accessories</td>\n      <td>MobileAccessories</td>\n      <td>StylusPens</td>\n    </tr>\n    <tr>\n      <th>1021</th>\n      <td>B07W7Z6DVL</td>\n      <td>Infinity (JBL Fuze 100, Wireless Portable Blue...</td>\n      <td>17.99</td>\n      <td>35.99</td>\n      <td>50%</td>\n      <td>4.1</td>\n      <td>25,262</td>\n      <td>Compact Portable Bluetooth Speakers. Wireless ...</td>\n      <td>R2NQLS6I62ASDV,RIT3TAH74G3JM,R3V03S1XKJWJ4F,RT...</td>\n      <td>Good Handy Bluetooth Speaker,Very Nice,Medium,...</td>\n      <td>Good Bass and Treble. Good Sound Quality.,Good...</td>\n      <td>18.00</td>\n      <td>4.387805</td>\n      <td>0.160982</td>\n      <td>HomeAudio</td>\n      <td>Speakers</td>\n      <td>OutdoorSpeakers</td>\n    </tr>\n  </tbody>\n</table>\n<p>526 rows × 17 columns</p>\n</div>"
     },
     "execution_count": 139,
     "metadata": {},
     "output_type": "execute_result"
    }
   ],
   "source": [
    "# Splitting the categories\n",
    "split_categories = data.category.str.split('|', expand=True)\n",
    "\n",
    "# Assigning new columns to the DataFrame\n",
    "data['sub_category1'] = split_categories[1]\n",
    "data['sub_category2'] = split_categories[2]\n",
    "data['sub_category3'] = split_categories[3]\n",
    "\n",
    "# Dropping the original 'category' column as it's no longer needed\n",
    "data.drop('category', axis=1, inplace=True)\n",
    "data"
   ],
   "metadata": {
    "collapsed": false,
    "ExecuteTime": {
     "end_time": "2024-01-10T00:25:03.538743Z",
     "start_time": "2024-01-10T00:25:03.505236600Z"
    }
   },
   "id": "5e1b13cab3e5c98b",
   "execution_count": 139
  },
  {
   "cell_type": "markdown",
   "source": [
    "Price Range Category: Categorize products into different price ranges for analyzing consumer behavior across various price segments."
   ],
   "metadata": {
    "collapsed": false
   },
   "id": "e30ebb817ea529f6"
  },
  {
   "cell_type": "code",
   "outputs": [
    {
     "data": {
      "text/plain": "12      Very Low\n16        Medium\n19        Medium\n21      Very Low\n22        Medium\n          ...   \n1012    Very Low\n1015    Very Low\n1016    Very Low\n1017    Very Low\n1021    Very Low\nName: price_range, Length: 526, dtype: category\nCategories (5, object): ['Very Low' < 'Low' < 'Medium' < 'High' < 'Very High']"
     },
     "execution_count": 140,
     "metadata": {},
     "output_type": "execute_result"
    }
   ],
   "source": [
    "# Creating price range column\n",
    "data['price_range'] = pd.cut(\n",
    "    data.discounted_price, \n",
    "    bins=[0, 50, 100, 500, 1000, np.inf], \n",
    "    labels=['Very Low', 'Low', 'Medium', 'High', 'Very High']\n",
    ")\n",
    "data.price_range"
   ],
   "metadata": {
    "collapsed": false,
    "ExecuteTime": {
     "end_time": "2024-01-10T00:25:03.553745500Z",
     "start_time": "2024-01-10T00:25:03.536742100Z"
    }
   },
   "id": "7e4bb4159c325d42",
   "execution_count": 140
  },
  {
   "cell_type": "markdown",
   "source": [
    "Performing the Exploratory Data Analysis"
   ],
   "metadata": {
    "collapsed": false
   },
   "id": "707a17bf05143ed"
  },
  {
   "cell_type": "code",
   "outputs": [
    {
     "data": {
      "text/plain": "                  count        mean         std      min        25%  \\\ndiscounted_price  526.0   71.592281  123.355962  0.95000   4.790000   \nactual_price      526.0  121.529163  185.949093  2.05000  11.990000   \nrating            526.0    4.081749    0.269620  2.80000   3.900000   \ndiscount_amount   526.0   49.936882   74.678232  0.00000   6.030000   \nprice_to_rating   526.0   17.161539   28.942950  0.22619   1.199018   \nreview_sentiment  526.0    0.253879    0.129216 -0.60000   0.172830   \n\n                        50%         75%          max  \ndiscounted_price  16.790000   86.690000   935.880000  \nactual_price      38.395000  154.490000  1678.800000  \nrating             4.100000    4.300000     4.700000  \ndiscount_amount   19.625000   65.890000   742.920000  \nprice_to_rating    4.283333   21.868902   199.123404  \nreview_sentiment   0.239082    0.328446     1.000000  ",
      "text/html": "<div>\n<style scoped>\n    .dataframe tbody tr th:only-of-type {\n        vertical-align: middle;\n    }\n\n    .dataframe tbody tr th {\n        vertical-align: top;\n    }\n\n    .dataframe thead th {\n        text-align: right;\n    }\n</style>\n<table border=\"1\" class=\"dataframe\">\n  <thead>\n    <tr style=\"text-align: right;\">\n      <th></th>\n      <th>count</th>\n      <th>mean</th>\n      <th>std</th>\n      <th>min</th>\n      <th>25%</th>\n      <th>50%</th>\n      <th>75%</th>\n      <th>max</th>\n    </tr>\n  </thead>\n  <tbody>\n    <tr>\n      <th>discounted_price</th>\n      <td>526.0</td>\n      <td>71.592281</td>\n      <td>123.355962</td>\n      <td>0.95000</td>\n      <td>4.790000</td>\n      <td>16.790000</td>\n      <td>86.690000</td>\n      <td>935.880000</td>\n    </tr>\n    <tr>\n      <th>actual_price</th>\n      <td>526.0</td>\n      <td>121.529163</td>\n      <td>185.949093</td>\n      <td>2.05000</td>\n      <td>11.990000</td>\n      <td>38.395000</td>\n      <td>154.490000</td>\n      <td>1678.800000</td>\n    </tr>\n    <tr>\n      <th>rating</th>\n      <td>526.0</td>\n      <td>4.081749</td>\n      <td>0.269620</td>\n      <td>2.80000</td>\n      <td>3.900000</td>\n      <td>4.100000</td>\n      <td>4.300000</td>\n      <td>4.700000</td>\n    </tr>\n    <tr>\n      <th>discount_amount</th>\n      <td>526.0</td>\n      <td>49.936882</td>\n      <td>74.678232</td>\n      <td>0.00000</td>\n      <td>6.030000</td>\n      <td>19.625000</td>\n      <td>65.890000</td>\n      <td>742.920000</td>\n    </tr>\n    <tr>\n      <th>price_to_rating</th>\n      <td>526.0</td>\n      <td>17.161539</td>\n      <td>28.942950</td>\n      <td>0.22619</td>\n      <td>1.199018</td>\n      <td>4.283333</td>\n      <td>21.868902</td>\n      <td>199.123404</td>\n    </tr>\n    <tr>\n      <th>review_sentiment</th>\n      <td>526.0</td>\n      <td>0.253879</td>\n      <td>0.129216</td>\n      <td>-0.60000</td>\n      <td>0.172830</td>\n      <td>0.239082</td>\n      <td>0.328446</td>\n      <td>1.000000</td>\n    </tr>\n  </tbody>\n</table>\n</div>"
     },
     "execution_count": 142,
     "metadata": {},
     "output_type": "execute_result"
    }
   ],
   "source": [
    "# Summary of statistics\n",
    "data.describe().T"
   ],
   "metadata": {
    "collapsed": false,
    "ExecuteTime": {
     "end_time": "2024-01-10T00:27:41.900746800Z",
     "start_time": "2024-01-10T00:27:41.878243100Z"
    }
   },
   "id": "3e51b46cb6a60273",
   "execution_count": 142
  },
  {
   "cell_type": "markdown",
   "source": [
    "From the above statistics summary, we can infer the following findings:\n",
    "- "
   ],
   "metadata": {
    "collapsed": false
   },
   "id": "5c24662c52724f03"
  }
 ],
 "metadata": {
  "kernelspec": {
   "display_name": "Python 3",
   "language": "python",
   "name": "python3"
  },
  "language_info": {
   "codemirror_mode": {
    "name": "ipython",
    "version": 2
   },
   "file_extension": ".py",
   "mimetype": "text/x-python",
   "name": "python",
   "nbconvert_exporter": "python",
   "pygments_lexer": "ipython2",
   "version": "2.7.6"
  }
 },
 "nbformat": 4,
 "nbformat_minor": 5
}
