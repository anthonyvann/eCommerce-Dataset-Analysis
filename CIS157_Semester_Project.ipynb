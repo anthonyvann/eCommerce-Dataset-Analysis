{
  "nbformat": 4,
  "nbformat_minor": 0,
  "metadata": {
    "colab": {
      "provenance": [],
      "collapsed_sections": [
        "NLmhe9zPm0Nc",
        "bAPMwKUE1vBR"
      ],
      "authorship_tag": "ABX9TyNhgN6yU34scTrHC307vqME",
      "include_colab_link": true
    },
    "kernelspec": {
      "name": "python3",
      "display_name": "Python 3"
    },
    "language_info": {
      "name": "python"
    }
  },
  "cells": [
    {
      "cell_type": "markdown",
      "metadata": {
        "id": "view-in-github",
        "colab_type": "text"
      },
      "source": [
        "<a href=\"https://colab.research.google.com/github/anthonyvann/eCommerce-Dataset-Analysis/blob/master/CIS157_Semester_Project.ipynb\" target=\"_parent\"><img src=\"https://colab.research.google.com/assets/colab-badge.svg\" alt=\"Open In Colab\"/></a>"
      ]
    },
    {
      "cell_type": "markdown",
      "source": [
        "##Import random module & define global constants"
      ],
      "metadata": {
        "id": "qmGlp2q-AvKI"
      }
    },
    {
      "cell_type": "code",
      "source": [
        "# Import the random module\n",
        "import random as r\n",
        "\n",
        "\n",
        "# Define global lists of possible item types and adjectives for Product\n",
        "ITEM_TYPES = [\"Tablet\", \"Laptop\", \"Smart-Phone\", \"Monitor\", \"Keyboard\"]\n",
        "ADJECTIVES = [\"Blue\", \"Red\", \"Green\", \"Yellow\", \"Purple\", \"Pink\", \"Navy\"]\n",
        "PRICES = [799.99, 499.99, 999.99, 49.99, 120.99]"
      ],
      "metadata": {
        "id": "TKSEucYeAqdj"
      },
      "execution_count": 1,
      "outputs": []
    },
    {
      "cell_type": "markdown",
      "source": [
        "##Defining Product Class"
      ],
      "metadata": {
        "id": "b1Jc0u7gmh3c"
      }
    },
    {
      "cell_type": "code",
      "source": [
        "class Product:\n",
        "    def __init__(self):\n",
        "        self.name = \"\"\n",
        "\n",
        "    # Function to return the name of the product\n",
        "    def __str__(self):\n",
        "        if len(self.name.split()) != 3:\n",
        "            return \"N/A\"\n",
        "\n",
        "        color, item, price = self.name.split()\n",
        "        return f\"Color: {color}, Item: {item}, Price: {price}\"\n",
        "\n",
        "    # Function to set the name of the product\n",
        "    def set_name(self, name: str):\n",
        "        self.name = name\n",
        "\n",
        "    # Function to allow the caller to retrieve the name of the product\n",
        "    def get_name(self):\n",
        "        return self.name"
      ],
      "metadata": {
        "id": "jUr9XrowYFTz"
      },
      "execution_count": 2,
      "outputs": []
    },
    {
      "cell_type": "markdown",
      "source": [
        "##Testing the Product class"
      ],
      "metadata": {
        "id": "NLmhe9zPm0Nc"
      }
    },
    {
      "cell_type": "code",
      "execution_count": 3,
      "metadata": {
        "id": "Gd1rEnhbWGbz",
        "colab": {
          "base_uri": "https://localhost:8080/"
        },
        "outputId": "f896ea2c-7874-4dd2-8479-1bd75d4e9e26"
      },
      "outputs": [
        {
          "output_type": "stream",
          "name": "stdout",
          "text": [
            "Testing __str__..\n",
            "test_product is: N/A\n",
            "\n",
            "Testing set_name with arg..\n",
            "\n",
            "Testing set_name with no arg..\n",
            "Product.set_name() missing 1 required positional argument: 'name'\n",
            "\n",
            "Testing get_name..\n",
            "Yellow Monitor 120.99\n",
            "\n",
            "Color: Yellow, Item: Monitor, Price: 120.99\n"
          ]
        }
      ],
      "source": [
        "# Util function to create and return a name for Product.\n",
        "def create_name() -> str:\n",
        "    return f\"{r.choice(ADJECTIVES)} {r.choice(ITEM_TYPES)} {r.choice(PRICES)}\"\n",
        "\n",
        "\n",
        "# Testing the class instance\n",
        "test_product = Product()\n",
        "\n",
        "# Testing __str__ with no name set\n",
        "print(\"Testing __str__..\")\n",
        "print(f\"test_product is: {test_product}\\n\")\n",
        "\n",
        "random_name = create_name()\n",
        "\n",
        "# Testing set_name WITH arg\n",
        "print(\"Testing set_name with arg..\")\n",
        "test_product.set_name(random_name)\n",
        "\n",
        "# Testing set_name WITHOUT arg\n",
        "try:\n",
        "    print(\"\\nTesting set_name with no arg..\")\n",
        "    test_product.set_name()\n",
        "except TypeError as err:\n",
        "    print(err)\n",
        "\n",
        "# Testing get_name\n",
        "print(\"\\nTesting get_name..\")\n",
        "print(test_product.get_name())\n",
        "\n",
        "# Testing __str__ with name set\n",
        "print(f\"\\n{test_product}\")"
      ]
    },
    {
      "cell_type": "markdown",
      "source": [
        "##Defining Inventory Class"
      ],
      "metadata": {
        "id": "mFMgw-Sn8aZi"
      }
    },
    {
      "cell_type": "code",
      "source": [
        "class Inventory:\n",
        "    def __init__(self):\n",
        "        self.inventory = []\n",
        "\n",
        "    # Method to display all Products in the Inventory.\n",
        "    def __str__(self):\n",
        "        inv_str = \"\"                          # String to build and return\n",
        "        inv_size = self.size()                # Current size of Inventory\n",
        "\n",
        "        if inv_size == 0:                     # Check inventory length\n",
        "            return \"Inventory is empty.\"\n",
        "\n",
        "        for i in range(inv_size):             # Building the string\n",
        "            product = str(self.inventory[i])  # Cast Product to str\n",
        "            if i != inv_size - 1:             # if not last iteration\n",
        "                product += '\\n'               # Concat new line\n",
        "            inv_str += product\n",
        "\n",
        "        return inv_str                        # Return the result\n",
        "\n",
        "    # Method to append a Product to the Inventory.\n",
        "    def add_item(self, item: Product):\n",
        "        if type(item) == Product:\n",
        "            self.inventory.append(item)\n",
        "            print(f\"Item added to inventory: [{item}]\")\n",
        "        else:\n",
        "            print(\"Only Products can be added to inventory.\")\n",
        "\n",
        "    # Method to return the size of Inventory.\n",
        "    def size(self):\n",
        "        return len(self.inventory)"
      ],
      "metadata": {
        "id": "Dy45BJK08dl5"
      },
      "execution_count": 4,
      "outputs": []
    },
    {
      "cell_type": "markdown",
      "source": [
        "## Testing the Inventory Class"
      ],
      "metadata": {
        "id": "bAPMwKUE1vBR"
      }
    },
    {
      "cell_type": "code",
      "source": [
        "# Util function to create a product with name set, and return it.\n",
        "def generate_product() -> Product:\n",
        "    item = Product()\n",
        "    item.set_name(create_name())\n",
        "    return item\n",
        "\n",
        "# Constant to control Inventory size\n",
        "SIZE = 50\n",
        "\n",
        "test_inventory = Inventory()\n",
        "\n",
        "print(\"Testing __str__ with empty inventory...\")\n",
        "print(test_inventory)\n",
        "\n",
        "print(\"\\nTesting __str__ with non-empty Inventory...\")\n",
        "test_inventory.add_item(generate_product())\n",
        "print(test_inventory)\n",
        "\n",
        "print(f\"\\nTesting __str__ with {SIZE} products in Inventory...\")\n",
        "for _ in range(SIZE):\n",
        "    item = generate_product()\n",
        "    test_inventory.add_item(item)\n",
        "print(f\"{test_inventory}\")"
      ],
      "metadata": {
        "colab": {
          "base_uri": "https://localhost:8080/"
        },
        "id": "YZrFYeq31xmQ",
        "outputId": "2be2c0bd-d62d-4797-cd1d-bb9cd8212227"
      },
      "execution_count": 5,
      "outputs": [
        {
          "output_type": "stream",
          "name": "stdout",
          "text": [
            "Testing __str__ with empty inventory...\n",
            "Inventory is empty.\n",
            "\n",
            "Testing __str__ with non-empty Inventory...\n",
            "Item added to inventory: [Color: Red, Item: Monitor, Price: 499.99]\n",
            "Color: Red, Item: Monitor, Price: 499.99\n",
            "\n",
            "Testing __str__ with 50 products in Inventory...\n",
            "Item added to inventory: [Color: Navy, Item: Laptop, Price: 49.99]\n",
            "Item added to inventory: [Color: Pink, Item: Laptop, Price: 999.99]\n",
            "Item added to inventory: [Color: Purple, Item: Keyboard, Price: 49.99]\n",
            "Item added to inventory: [Color: Blue, Item: Smart-Phone, Price: 499.99]\n",
            "Item added to inventory: [Color: Navy, Item: Laptop, Price: 120.99]\n",
            "Item added to inventory: [Color: Red, Item: Tablet, Price: 49.99]\n",
            "Item added to inventory: [Color: Green, Item: Smart-Phone, Price: 49.99]\n",
            "Item added to inventory: [Color: Green, Item: Monitor, Price: 799.99]\n",
            "Item added to inventory: [Color: Red, Item: Tablet, Price: 999.99]\n",
            "Item added to inventory: [Color: Red, Item: Smart-Phone, Price: 499.99]\n",
            "Item added to inventory: [Color: Purple, Item: Laptop, Price: 799.99]\n",
            "Item added to inventory: [Color: Yellow, Item: Laptop, Price: 799.99]\n",
            "Item added to inventory: [Color: Navy, Item: Tablet, Price: 499.99]\n",
            "Item added to inventory: [Color: Pink, Item: Tablet, Price: 120.99]\n",
            "Item added to inventory: [Color: Pink, Item: Smart-Phone, Price: 499.99]\n",
            "Item added to inventory: [Color: Red, Item: Keyboard, Price: 120.99]\n",
            "Item added to inventory: [Color: Pink, Item: Tablet, Price: 799.99]\n",
            "Item added to inventory: [Color: Pink, Item: Smart-Phone, Price: 120.99]\n",
            "Item added to inventory: [Color: Purple, Item: Smart-Phone, Price: 999.99]\n",
            "Item added to inventory: [Color: Red, Item: Smart-Phone, Price: 499.99]\n",
            "Item added to inventory: [Color: Red, Item: Smart-Phone, Price: 120.99]\n",
            "Item added to inventory: [Color: Green, Item: Tablet, Price: 499.99]\n",
            "Item added to inventory: [Color: Green, Item: Laptop, Price: 799.99]\n",
            "Item added to inventory: [Color: Pink, Item: Monitor, Price: 999.99]\n",
            "Item added to inventory: [Color: Purple, Item: Smart-Phone, Price: 499.99]\n",
            "Item added to inventory: [Color: Navy, Item: Keyboard, Price: 120.99]\n",
            "Item added to inventory: [Color: Navy, Item: Monitor, Price: 499.99]\n",
            "Item added to inventory: [Color: Red, Item: Monitor, Price: 799.99]\n",
            "Item added to inventory: [Color: Pink, Item: Laptop, Price: 49.99]\n",
            "Item added to inventory: [Color: Red, Item: Tablet, Price: 120.99]\n",
            "Item added to inventory: [Color: Yellow, Item: Tablet, Price: 799.99]\n",
            "Item added to inventory: [Color: Blue, Item: Laptop, Price: 49.99]\n",
            "Item added to inventory: [Color: Purple, Item: Tablet, Price: 120.99]\n",
            "Item added to inventory: [Color: Pink, Item: Keyboard, Price: 999.99]\n",
            "Item added to inventory: [Color: Navy, Item: Monitor, Price: 49.99]\n",
            "Item added to inventory: [Color: Purple, Item: Tablet, Price: 120.99]\n",
            "Item added to inventory: [Color: Navy, Item: Tablet, Price: 120.99]\n",
            "Item added to inventory: [Color: Pink, Item: Tablet, Price: 999.99]\n",
            "Item added to inventory: [Color: Red, Item: Tablet, Price: 120.99]\n",
            "Item added to inventory: [Color: Green, Item: Monitor, Price: 799.99]\n",
            "Item added to inventory: [Color: Green, Item: Tablet, Price: 999.99]\n",
            "Item added to inventory: [Color: Purple, Item: Keyboard, Price: 499.99]\n",
            "Item added to inventory: [Color: Purple, Item: Keyboard, Price: 499.99]\n",
            "Item added to inventory: [Color: Red, Item: Laptop, Price: 120.99]\n",
            "Item added to inventory: [Color: Yellow, Item: Monitor, Price: 499.99]\n",
            "Item added to inventory: [Color: Blue, Item: Monitor, Price: 49.99]\n",
            "Item added to inventory: [Color: Pink, Item: Laptop, Price: 999.99]\n",
            "Item added to inventory: [Color: Yellow, Item: Smart-Phone, Price: 49.99]\n",
            "Item added to inventory: [Color: Green, Item: Laptop, Price: 120.99]\n",
            "Item added to inventory: [Color: Purple, Item: Smart-Phone, Price: 999.99]\n",
            "Color: Red, Item: Monitor, Price: 499.99\n",
            "Color: Navy, Item: Laptop, Price: 49.99\n",
            "Color: Pink, Item: Laptop, Price: 999.99\n",
            "Color: Purple, Item: Keyboard, Price: 49.99\n",
            "Color: Blue, Item: Smart-Phone, Price: 499.99\n",
            "Color: Navy, Item: Laptop, Price: 120.99\n",
            "Color: Red, Item: Tablet, Price: 49.99\n",
            "Color: Green, Item: Smart-Phone, Price: 49.99\n",
            "Color: Green, Item: Monitor, Price: 799.99\n",
            "Color: Red, Item: Tablet, Price: 999.99\n",
            "Color: Red, Item: Smart-Phone, Price: 499.99\n",
            "Color: Purple, Item: Laptop, Price: 799.99\n",
            "Color: Yellow, Item: Laptop, Price: 799.99\n",
            "Color: Navy, Item: Tablet, Price: 499.99\n",
            "Color: Pink, Item: Tablet, Price: 120.99\n",
            "Color: Pink, Item: Smart-Phone, Price: 499.99\n",
            "Color: Red, Item: Keyboard, Price: 120.99\n",
            "Color: Pink, Item: Tablet, Price: 799.99\n",
            "Color: Pink, Item: Smart-Phone, Price: 120.99\n",
            "Color: Purple, Item: Smart-Phone, Price: 999.99\n",
            "Color: Red, Item: Smart-Phone, Price: 499.99\n",
            "Color: Red, Item: Smart-Phone, Price: 120.99\n",
            "Color: Green, Item: Tablet, Price: 499.99\n",
            "Color: Green, Item: Laptop, Price: 799.99\n",
            "Color: Pink, Item: Monitor, Price: 999.99\n",
            "Color: Purple, Item: Smart-Phone, Price: 499.99\n",
            "Color: Navy, Item: Keyboard, Price: 120.99\n",
            "Color: Navy, Item: Monitor, Price: 499.99\n",
            "Color: Red, Item: Monitor, Price: 799.99\n",
            "Color: Pink, Item: Laptop, Price: 49.99\n",
            "Color: Red, Item: Tablet, Price: 120.99\n",
            "Color: Yellow, Item: Tablet, Price: 799.99\n",
            "Color: Blue, Item: Laptop, Price: 49.99\n",
            "Color: Purple, Item: Tablet, Price: 120.99\n",
            "Color: Pink, Item: Keyboard, Price: 999.99\n",
            "Color: Navy, Item: Monitor, Price: 49.99\n",
            "Color: Purple, Item: Tablet, Price: 120.99\n",
            "Color: Navy, Item: Tablet, Price: 120.99\n",
            "Color: Pink, Item: Tablet, Price: 999.99\n",
            "Color: Red, Item: Tablet, Price: 120.99\n",
            "Color: Green, Item: Monitor, Price: 799.99\n",
            "Color: Green, Item: Tablet, Price: 999.99\n",
            "Color: Purple, Item: Keyboard, Price: 499.99\n",
            "Color: Purple, Item: Keyboard, Price: 499.99\n",
            "Color: Red, Item: Laptop, Price: 120.99\n",
            "Color: Yellow, Item: Monitor, Price: 499.99\n",
            "Color: Blue, Item: Monitor, Price: 49.99\n",
            "Color: Pink, Item: Laptop, Price: 999.99\n",
            "Color: Yellow, Item: Smart-Phone, Price: 49.99\n",
            "Color: Green, Item: Laptop, Price: 120.99\n",
            "Color: Purple, Item: Smart-Phone, Price: 999.99\n"
          ]
        }
      ]
    },
    {
      "cell_type": "markdown",
      "source": [
        "##Defining the Store class"
      ],
      "metadata": {
        "id": "Sln0Ti7W-9Ba"
      }
    },
    {
      "cell_type": "code",
      "source": [
        "class Store:\n",
        "    def __init__(self):\n",
        "        self.inventory = Inventory()\n",
        "\n",
        "    # Method to view the contents of the inventory.\n",
        "    def show_inventory(self):\n",
        "        print(self.inventory)\n"
      ],
      "metadata": {
        "id": "SdIkFumq_Fpy"
      },
      "execution_count": 6,
      "outputs": []
    },
    {
      "cell_type": "markdown",
      "source": [
        "##Testing the Store class"
      ],
      "metadata": {
        "id": "3uy3aX6EBL4A"
      }
    },
    {
      "cell_type": "code",
      "source": [
        "# Creating an instance of Store\n",
        "test_store = Store()\n",
        "\n",
        "print(\"Testing show_inventory method with an empty inventory...\")\n",
        "test_store.show_inventory()\n",
        "\n",
        "# Generating a single product to the inventory of test_store\n",
        "random_product = generate_product()\n",
        "\n",
        "print(\"\\nTesting add_item Inventory method on the inventory attribute of test_store...\")\n",
        "test_store.inventory.add_item(random_product)\n",
        "\n",
        "print(\"\\nTesting show_inventory method with a non-empty inventory...\")\n",
        "test_store.show_inventory()\n",
        "\n",
        "print(\"\\nAdding 20 more products to the inventory of test_store...\")\n",
        "for _ in range(20):\n",
        "    item = generate_product()\n",
        "    test_store.inventory.add_item(item)\n",
        "\n",
        "print(\"\\nCalling the show_inventory method with 21 products in the inventory...\")\n",
        "test_store.show_inventory()"
      ],
      "metadata": {
        "colab": {
          "base_uri": "https://localhost:8080/"
        },
        "id": "nxT2VSDsBOu7",
        "outputId": "e6642eaf-043f-4571-84e7-2e013bcbc662"
      },
      "execution_count": 7,
      "outputs": [
        {
          "output_type": "stream",
          "name": "stdout",
          "text": [
            "Testing show_inventory method with an empty inventory...\n",
            "Inventory is empty.\n",
            "\n",
            "Testing add_item Inventory method on the inventory attribute of test_store...\n",
            "Item added to inventory: [Color: Pink, Item: Smart-Phone, Price: 999.99]\n",
            "\n",
            "Testing show_inventory method with a non-empty inventory...\n",
            "Color: Pink, Item: Smart-Phone, Price: 999.99\n",
            "\n",
            "Adding 20 more products to the inventory of test_store...\n",
            "Item added to inventory: [Color: Purple, Item: Keyboard, Price: 120.99]\n",
            "Item added to inventory: [Color: Green, Item: Keyboard, Price: 120.99]\n",
            "Item added to inventory: [Color: Navy, Item: Keyboard, Price: 799.99]\n",
            "Item added to inventory: [Color: Green, Item: Monitor, Price: 49.99]\n",
            "Item added to inventory: [Color: Red, Item: Keyboard, Price: 799.99]\n",
            "Item added to inventory: [Color: Purple, Item: Smart-Phone, Price: 999.99]\n",
            "Item added to inventory: [Color: Red, Item: Monitor, Price: 999.99]\n",
            "Item added to inventory: [Color: Navy, Item: Smart-Phone, Price: 999.99]\n",
            "Item added to inventory: [Color: Purple, Item: Smart-Phone, Price: 799.99]\n",
            "Item added to inventory: [Color: Pink, Item: Smart-Phone, Price: 999.99]\n",
            "Item added to inventory: [Color: Navy, Item: Laptop, Price: 799.99]\n",
            "Item added to inventory: [Color: Purple, Item: Monitor, Price: 799.99]\n",
            "Item added to inventory: [Color: Purple, Item: Tablet, Price: 49.99]\n",
            "Item added to inventory: [Color: Blue, Item: Tablet, Price: 49.99]\n",
            "Item added to inventory: [Color: Navy, Item: Monitor, Price: 799.99]\n",
            "Item added to inventory: [Color: Blue, Item: Smart-Phone, Price: 120.99]\n",
            "Item added to inventory: [Color: Purple, Item: Laptop, Price: 120.99]\n",
            "Item added to inventory: [Color: Red, Item: Keyboard, Price: 999.99]\n",
            "Item added to inventory: [Color: Blue, Item: Smart-Phone, Price: 999.99]\n",
            "Item added to inventory: [Color: Pink, Item: Keyboard, Price: 49.99]\n",
            "\n",
            "Calling the show_inventory method with 21 products in the inventory...\n",
            "Color: Pink, Item: Smart-Phone, Price: 999.99\n",
            "Color: Purple, Item: Keyboard, Price: 120.99\n",
            "Color: Green, Item: Keyboard, Price: 120.99\n",
            "Color: Navy, Item: Keyboard, Price: 799.99\n",
            "Color: Green, Item: Monitor, Price: 49.99\n",
            "Color: Red, Item: Keyboard, Price: 799.99\n",
            "Color: Purple, Item: Smart-Phone, Price: 999.99\n",
            "Color: Red, Item: Monitor, Price: 999.99\n",
            "Color: Navy, Item: Smart-Phone, Price: 999.99\n",
            "Color: Purple, Item: Smart-Phone, Price: 799.99\n",
            "Color: Pink, Item: Smart-Phone, Price: 999.99\n",
            "Color: Navy, Item: Laptop, Price: 799.99\n",
            "Color: Purple, Item: Monitor, Price: 799.99\n",
            "Color: Purple, Item: Tablet, Price: 49.99\n",
            "Color: Blue, Item: Tablet, Price: 49.99\n",
            "Color: Navy, Item: Monitor, Price: 799.99\n",
            "Color: Blue, Item: Smart-Phone, Price: 120.99\n",
            "Color: Purple, Item: Laptop, Price: 120.99\n",
            "Color: Red, Item: Keyboard, Price: 999.99\n",
            "Color: Blue, Item: Smart-Phone, Price: 999.99\n",
            "Color: Pink, Item: Keyboard, Price: 49.99\n"
          ]
        }
      ]
    }
  ]
}